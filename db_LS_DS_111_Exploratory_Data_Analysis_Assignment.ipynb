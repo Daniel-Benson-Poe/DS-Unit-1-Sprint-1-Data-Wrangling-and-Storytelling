{
  "nbformat": 4,
  "nbformat_minor": 0,
  "metadata": {
    "colab": {
      "name": "db_LS_DS_111_Exploratory_Data_Analysis_Assignment.ipynb",
      "provenance": [],
      "collapsed_sections": [],
      "include_colab_link": true
    },
    "kernelspec": {
      "name": "python3",
      "display_name": "Python 3"
    }
  },
  "cells": [
    {
      "cell_type": "markdown",
      "metadata": {
        "id": "view-in-github",
        "colab_type": "text"
      },
      "source": [
        "<a href=\"https://colab.research.google.com/github/Daniel-Benson-Poe/DS-Unit-1-Sprint-1-Data-Wrangling-and-Storytelling/blob/master/db_LS_DS_111_Exploratory_Data_Analysis_Assignment.ipynb\" target=\"_parent\"><img src=\"https://colab.research.google.com/assets/colab-badge.svg\" alt=\"Open In Colab\"/></a>"
      ]
    },
    {
      "cell_type": "markdown",
      "metadata": {
        "colab_type": "text",
        "id": "MSnsTgZLKO72"
      },
      "source": [
        "# Practice Loading and Exploring Datasets\n",
        "\n",
        "This assignment is purposely open-ended. You will be asked to load datasets from the [UC-Irvine Machine Learning Repository](https://archive.ics.uci.edu/ml/index.php). \n",
        "\n",
        "Even though you maybe using different datasets than your fellow classmates, try and be supportive and assist each other in the challenges that you are facing. You will only deepend your understanding of these topics as you work to assist one another. Many popular UCI datasets face similar data loading challenges.\n",
        "\n",
        "Remember that the UCI datasets do not necessarily have a file type of `.csv` so it's important that you learn as much as you can about the dataset before you try and load it. See if you can look at the raw text of the file either locally or using the `!curl` shell command -or in some other way before you try and read it in as a dataframe. This will help you catch what would otherwise be unforseen problems.\n",
        "\n",
        "Feel free to embellish this notebook with additional markdown cells,code cells, comments, graphs, etc. Whatever you think helps adequately address the questions."
      ]
    },
    {
      "cell_type": "markdown",
      "metadata": {
        "id": "156P6ndeKojO",
        "colab_type": "text"
      },
      "source": [
        "## 1) Load a dataset from UCI (via its URL)\n",
        "\n",
        "Please navigate to the home page and choose a dataset (other than the Adult dataset) from the \"Most Popular\" section on the right-hand side of the home page. Load the dataset via its URL and check the following (show your work):\n",
        "\n",
        "- Are the headers showing up properly?\n",
        "- Look at the first 5 and the last 5 rows, do they seem to be in order?\n",
        "- Does the dataset have the correct number of rows and columns as described in the UCI page? \n",
        " - Remember, that UCI does not count the y variable (column of values that we might want to predict via a machine learning model) as an \"attribute\" but rather as a \"class attribute\" so you may end up seeing a number of columns that is one greater than the number listed on the UCI website.\n",
        "- Does UCI list this dataset as having missing values? Check for missing values and see if your analysis corroborates what UCI reports?\n",
        "- if `NaN` values or other missing value indicators are not being detected by `df.isnull().sum()` find a way to replace whatever is indicating the missing values with `np.NaN`.\n",
        "- Use the .describe() function in order to see the summary statistics of both the numeric and non-numeric columns. "
      ]
    },
    {
      "cell_type": "code",
      "metadata": {
        "id": "eV6qSqkhMKdM",
        "colab_type": "code",
        "colab": {}
      },
      "source": [
        "# Imports\n",
        "import pandas as pd\n",
        "import numpy as np"
      ],
      "execution_count": 0,
      "outputs": []
    },
    {
      "cell_type": "code",
      "metadata": {
        "id": "NJdISe69ZT7E",
        "colab_type": "code",
        "colab": {}
      },
      "source": [
        "# Look at the raw data\n",
        "!curl https://archive.ics.uci.edu/ml/machine-learning-databases/abalone/abalone.data"
      ],
      "execution_count": 0,
      "outputs": []
    },
    {
      "cell_type": "code",
      "metadata": {
        "id": "wMGWtzWCK-eI",
        "colab_type": "code",
        "colab": {
          "base_uri": "https://localhost:8080/",
          "height": 1000
        },
        "outputId": "d127d49a-f88c-486a-8097-d520aa998fc3"
      },
      "source": [
        "# Data is missing header names. Let's throw some together and set the url to \n",
        "# a variable\n",
        "!curl https://archive.ics.uci.edu/ml/machine-learning-databases/abalone/abalone.names"
      ],
      "execution_count": 2,
      "outputs": [
        {
          "output_type": "stream",
          "text": [
            "1. Title of Database: Abalone data\n",
            "\n",
            "2. Sources:\n",
            "\n",
            "   (a) Original owners of database:\n",
            "\tMarine Resources Division\n",
            "\tMarine Research Laboratories - Taroona\n",
            "\tDepartment of Primary Industry and Fisheries, Tasmania\n",
            "\tGPO Box 619F, Hobart, Tasmania 7001, Australia\n",
            "\t(contact: Warwick Nash +61 02 277277, wnash@dpi.tas.gov.au)\n",
            "\n",
            "   (b) Donor of database:\n",
            "\tSam Waugh (Sam.Waugh@cs.utas.edu.au)\n",
            "\tDepartment of Computer Science, University of Tasmania\n",
            "\tGPO Box 252C, Hobart, Tasmania 7001, Australia\n",
            "\n",
            "   (c) Date received: December 1995\n",
            "\n",
            "\n",
            "3. Past Usage:\n",
            "\n",
            "   Sam Waugh (1995) \"Extending and benchmarking Cascade-Correlation\", PhD\n",
            "   thesis, Computer Science Department, University of Tasmania.\n",
            "\n",
            "   -- Test set performance (final 1044 examples, first 3133 used for training):\n",
            "\t24.86% Cascade-Correlation (no hidden nodes)\n",
            "\t26.25% Cascade-Correlation (5 hidden nodes)\n",
            "\t21.5%  C4.5\n",
            "\t 0.0%  Linear Discriminate Analysis\n",
            "\t 3.57% k=5 Nearest Neighbour\n",
            "      (Problem encoded as a classification task)\n",
            "\n",
            "   -- Data set samples are highly overlapped.  Further information is required\n",
            "\tto separate completely using affine combinations.  Other restrictions\n",
            "\tto data set examined.\n",
            "\n",
            "   David Clark, Zoltan Schreter, Anthony Adams \"A Quantitative Comparison of\n",
            "   Dystal and Backpropagation\", submitted to the Australian Conference on\n",
            "   Neural Networks (ACNN'96). Data set treated as a 3-category classification\n",
            "   problem (grouping ring classes 1-8, 9 and 10, and 11 on).\n",
            "\n",
            "   -- Test set performance (3133 training, 1044 testing as above):\n",
            "\t64%    Backprop\n",
            "\t55%    Dystal\n",
            "   -- Previous work (Waugh, 1995) on same data set:\n",
            "\t61.40% Cascade-Correlation (no hidden nodes)\n",
            "\t65.61% Cascade-Correlation (5 hidden nodes)\n",
            "\t59.2%  C4.5\n",
            "\t32.57% Linear Discriminate Analysis\n",
            "\t62.46% k=5 Nearest Neighbour\n",
            "\n",
            "\n",
            "4. Relevant Information Paragraph:\n",
            "\n",
            "   Predicting the age of abalone from physical measurements.  The age of\n",
            "   abalone is determined by cutting the shell through the cone, staining it,\n",
            "   and counting the number of rings through a microscope -- a boring and\n",
            "   time-consuming task.  Other measurements, which are easier to obtain, are\n",
            "   used to predict the age.  Further information, such as weather patterns\n",
            "   and location (hence food availability) may be required to solve the problem.\n",
            "\n",
            "   From the original data examples with missing values were removed (the\n",
            "   majority having the predicted value missing), and the ranges of the\n",
            "   continuous values have been scaled for use with an ANN (by dividing by 200).\n",
            "\n",
            "   Data comes from an original (non-machine-learning) study:\n",
            "\n",
            "\tWarwick J Nash, Tracy L Sellers, Simon R Talbot, Andrew J Cawthorn and\n",
            "\tWes B Ford (1994) \"The Population Biology of Abalone (_Haliotis_\n",
            "\tspecies) in Tasmania. I. Blacklip Abalone (_H. rubra_) from the North\n",
            "\tCoast and Islands of Bass Strait\", Sea Fisheries Division, Technical\n",
            "\tReport No. 48 (ISSN 1034-3288)\n",
            "\n",
            "\n",
            "5. Number of Instances: 4177\n",
            "\n",
            "\n",
            "6. Number of Attributes: 8\n",
            "\n",
            "\n",
            "7. Attribute information:\n",
            "\n",
            "   Given is the attribute name, attribute type, the measurement unit and a\n",
            "   brief description.  The number of rings is the value to predict: either\n",
            "   as a continuous value or as a classification problem.\n",
            "\n",
            "\tName\t\tData Type\tMeas.\tDescription\n",
            "\t----\t\t---------\t-----\t-----------\n",
            "\tSex\t\tnominal\t\t\tM, F, and I (infant)\n",
            "\tLength\t\tcontinuous\tmm\tLongest shell measurement\n",
            "\tDiameter\tcontinuous\tmm\tperpendicular to length\n",
            "\tHeight\t\tcontinuous\tmm\twith meat in shell\n",
            "\tWhole weight\tcontinuous\tgrams\twhole abalone\n",
            "\tShucked weight\tcontinuous\tgrams\tweight of meat\n",
            "\tViscera weight\tcontinuous\tgrams\tgut weight (after bleeding)\n",
            "\tShell weight\tcontinuous\tgrams\tafter being dried\n",
            "\tRings\t\tinteger\t\t\t+1.5 gives the age in years\n",
            "\n",
            "   Statistics for numeric domains:\n",
            "\n",
            "\t\tLength\tDiam\tHeight\tWhole\tShucked\tViscera\tShell\tRings\n",
            "\tMin\t0.075\t0.055\t0.000\t0.002\t0.001\t0.001\t0.002\t    1\n",
            "\tMax\t0.815\t0.650\t1.130\t2.826\t1.488\t0.760\t1.005\t   29\n",
            "\tMean\t0.524\t0.408\t0.140\t0.829\t0.359\t0.181\t0.239\t9.934\n",
            "\tSD\t0.120\t0.099\t0.042\t0.490\t0.222\t0.110\t0.139\t3.224\n",
            "\tCorrel\t0.557\t0.575\t0.557\t0.540\t0.421\t0.504\t0.628\t  1.0\n",
            "\n",
            "\n",
            "8. Missing Attribute Values: None\n",
            "\n",
            "\n",
            "9. Class Distribution:\n",
            "\n",
            "\tClass\tExamples\n",
            "\t-----\t--------\n",
            "\t1\t1\n",
            "\t2\t1\n",
            "\t3\t15\n",
            "\t4\t57\n",
            "\t5\t115\n",
            "\t6\t259\n",
            "\t7\t391\n",
            "\t8\t568\n",
            "\t9\t689\n",
            "\t10\t634\n",
            "\t11\t487\n",
            "\t12\t267\n",
            "\t13\t203\n",
            "\t14\t126\n",
            "\t15\t103\n",
            "\t16\t67\n",
            "\t17\t58\n",
            "\t18\t42\n",
            "\t19\t32\n",
            "\t20\t26\n",
            "\t21\t14\n",
            "\t22\t6\n",
            "\t23\t9\n",
            "\t24\t2\n",
            "\t25\t1\n",
            "\t26\t1\n",
            "\t27\t2\n",
            "\t29\t1\n",
            "\t-----\t----\n",
            "\tTotal\t4177\n"
          ],
          "name": "stdout"
        }
      ]
    },
    {
      "cell_type": "code",
      "metadata": {
        "id": "GUaFBBb8LZOc",
        "colab_type": "code",
        "colab": {}
      },
      "source": [
        "column_names = ['Sex', 'Length', 'Diameter', 'Height', 'Whole-Weight', \n",
        "                'Shucked-weight', 'Viscera-weight', 'Shell-weight', 'rings']\n",
        "url = 'https://archive.ics.uci.edu/ml/machine-learning-databases/abalone/abalone.data'"
      ],
      "execution_count": 0,
      "outputs": []
    },
    {
      "cell_type": "code",
      "metadata": {
        "id": "sc_C3g3PMBxV",
        "colab_type": "code",
        "colab": {}
      },
      "source": [
        "# Read in the data\n",
        "df = pd.read_csv(url, header=None, names=column_names)"
      ],
      "execution_count": 0,
      "outputs": []
    },
    {
      "cell_type": "code",
      "metadata": {
        "id": "HhkMycKoMBto",
        "colab_type": "code",
        "colab": {
          "base_uri": "https://localhost:8080/",
          "height": 204
        },
        "outputId": "d6070a92-f81a-49f0-bdb2-41246835e4a7"
      },
      "source": [
        "# Look at the first five rows\n",
        "df.head()"
      ],
      "execution_count": 7,
      "outputs": [
        {
          "output_type": "execute_result",
          "data": {
            "text/html": [
              "<div>\n",
              "<style scoped>\n",
              "    .dataframe tbody tr th:only-of-type {\n",
              "        vertical-align: middle;\n",
              "    }\n",
              "\n",
              "    .dataframe tbody tr th {\n",
              "        vertical-align: top;\n",
              "    }\n",
              "\n",
              "    .dataframe thead th {\n",
              "        text-align: right;\n",
              "    }\n",
              "</style>\n",
              "<table border=\"1\" class=\"dataframe\">\n",
              "  <thead>\n",
              "    <tr style=\"text-align: right;\">\n",
              "      <th></th>\n",
              "      <th>Sex</th>\n",
              "      <th>Length</th>\n",
              "      <th>Diameter</th>\n",
              "      <th>Height</th>\n",
              "      <th>Whole-Weight</th>\n",
              "      <th>Shucked-weight</th>\n",
              "      <th>Viscera-weight</th>\n",
              "      <th>Shell-weight</th>\n",
              "      <th>rings</th>\n",
              "    </tr>\n",
              "  </thead>\n",
              "  <tbody>\n",
              "    <tr>\n",
              "      <th>0</th>\n",
              "      <td>M</td>\n",
              "      <td>0.455</td>\n",
              "      <td>0.365</td>\n",
              "      <td>0.095</td>\n",
              "      <td>0.5140</td>\n",
              "      <td>0.2245</td>\n",
              "      <td>0.1010</td>\n",
              "      <td>0.150</td>\n",
              "      <td>15</td>\n",
              "    </tr>\n",
              "    <tr>\n",
              "      <th>1</th>\n",
              "      <td>M</td>\n",
              "      <td>0.350</td>\n",
              "      <td>0.265</td>\n",
              "      <td>0.090</td>\n",
              "      <td>0.2255</td>\n",
              "      <td>0.0995</td>\n",
              "      <td>0.0485</td>\n",
              "      <td>0.070</td>\n",
              "      <td>7</td>\n",
              "    </tr>\n",
              "    <tr>\n",
              "      <th>2</th>\n",
              "      <td>F</td>\n",
              "      <td>0.530</td>\n",
              "      <td>0.420</td>\n",
              "      <td>0.135</td>\n",
              "      <td>0.6770</td>\n",
              "      <td>0.2565</td>\n",
              "      <td>0.1415</td>\n",
              "      <td>0.210</td>\n",
              "      <td>9</td>\n",
              "    </tr>\n",
              "    <tr>\n",
              "      <th>3</th>\n",
              "      <td>M</td>\n",
              "      <td>0.440</td>\n",
              "      <td>0.365</td>\n",
              "      <td>0.125</td>\n",
              "      <td>0.5160</td>\n",
              "      <td>0.2155</td>\n",
              "      <td>0.1140</td>\n",
              "      <td>0.155</td>\n",
              "      <td>10</td>\n",
              "    </tr>\n",
              "    <tr>\n",
              "      <th>4</th>\n",
              "      <td>I</td>\n",
              "      <td>0.330</td>\n",
              "      <td>0.255</td>\n",
              "      <td>0.080</td>\n",
              "      <td>0.2050</td>\n",
              "      <td>0.0895</td>\n",
              "      <td>0.0395</td>\n",
              "      <td>0.055</td>\n",
              "      <td>7</td>\n",
              "    </tr>\n",
              "  </tbody>\n",
              "</table>\n",
              "</div>"
            ],
            "text/plain": [
              "  Sex  Length  Diameter  ...  Viscera-weight  Shell-weight  rings\n",
              "0   M   0.455     0.365  ...          0.1010         0.150     15\n",
              "1   M   0.350     0.265  ...          0.0485         0.070      7\n",
              "2   F   0.530     0.420  ...          0.1415         0.210      9\n",
              "3   M   0.440     0.365  ...          0.1140         0.155     10\n",
              "4   I   0.330     0.255  ...          0.0395         0.055      7\n",
              "\n",
              "[5 rows x 9 columns]"
            ]
          },
          "metadata": {
            "tags": []
          },
          "execution_count": 7
        }
      ]
    },
    {
      "cell_type": "code",
      "metadata": {
        "id": "aDXrvtrGMBqu",
        "colab_type": "code",
        "colab": {
          "base_uri": "https://localhost:8080/",
          "height": 204
        },
        "outputId": "2bd6149c-ed3a-4b45-9434-dbd51af944e1"
      },
      "source": [
        "# Look at the last five rows\n",
        "df.tail()"
      ],
      "execution_count": 8,
      "outputs": [
        {
          "output_type": "execute_result",
          "data": {
            "text/html": [
              "<div>\n",
              "<style scoped>\n",
              "    .dataframe tbody tr th:only-of-type {\n",
              "        vertical-align: middle;\n",
              "    }\n",
              "\n",
              "    .dataframe tbody tr th {\n",
              "        vertical-align: top;\n",
              "    }\n",
              "\n",
              "    .dataframe thead th {\n",
              "        text-align: right;\n",
              "    }\n",
              "</style>\n",
              "<table border=\"1\" class=\"dataframe\">\n",
              "  <thead>\n",
              "    <tr style=\"text-align: right;\">\n",
              "      <th></th>\n",
              "      <th>Sex</th>\n",
              "      <th>Length</th>\n",
              "      <th>Diameter</th>\n",
              "      <th>Height</th>\n",
              "      <th>Whole-Weight</th>\n",
              "      <th>Shucked-weight</th>\n",
              "      <th>Viscera-weight</th>\n",
              "      <th>Shell-weight</th>\n",
              "      <th>rings</th>\n",
              "    </tr>\n",
              "  </thead>\n",
              "  <tbody>\n",
              "    <tr>\n",
              "      <th>4172</th>\n",
              "      <td>F</td>\n",
              "      <td>0.565</td>\n",
              "      <td>0.450</td>\n",
              "      <td>0.165</td>\n",
              "      <td>0.8870</td>\n",
              "      <td>0.3700</td>\n",
              "      <td>0.2390</td>\n",
              "      <td>0.2490</td>\n",
              "      <td>11</td>\n",
              "    </tr>\n",
              "    <tr>\n",
              "      <th>4173</th>\n",
              "      <td>M</td>\n",
              "      <td>0.590</td>\n",
              "      <td>0.440</td>\n",
              "      <td>0.135</td>\n",
              "      <td>0.9660</td>\n",
              "      <td>0.4390</td>\n",
              "      <td>0.2145</td>\n",
              "      <td>0.2605</td>\n",
              "      <td>10</td>\n",
              "    </tr>\n",
              "    <tr>\n",
              "      <th>4174</th>\n",
              "      <td>M</td>\n",
              "      <td>0.600</td>\n",
              "      <td>0.475</td>\n",
              "      <td>0.205</td>\n",
              "      <td>1.1760</td>\n",
              "      <td>0.5255</td>\n",
              "      <td>0.2875</td>\n",
              "      <td>0.3080</td>\n",
              "      <td>9</td>\n",
              "    </tr>\n",
              "    <tr>\n",
              "      <th>4175</th>\n",
              "      <td>F</td>\n",
              "      <td>0.625</td>\n",
              "      <td>0.485</td>\n",
              "      <td>0.150</td>\n",
              "      <td>1.0945</td>\n",
              "      <td>0.5310</td>\n",
              "      <td>0.2610</td>\n",
              "      <td>0.2960</td>\n",
              "      <td>10</td>\n",
              "    </tr>\n",
              "    <tr>\n",
              "      <th>4176</th>\n",
              "      <td>M</td>\n",
              "      <td>0.710</td>\n",
              "      <td>0.555</td>\n",
              "      <td>0.195</td>\n",
              "      <td>1.9485</td>\n",
              "      <td>0.9455</td>\n",
              "      <td>0.3765</td>\n",
              "      <td>0.4950</td>\n",
              "      <td>12</td>\n",
              "    </tr>\n",
              "  </tbody>\n",
              "</table>\n",
              "</div>"
            ],
            "text/plain": [
              "     Sex  Length  Diameter  ...  Viscera-weight  Shell-weight  rings\n",
              "4172   F   0.565     0.450  ...          0.2390        0.2490     11\n",
              "4173   M   0.590     0.440  ...          0.2145        0.2605     10\n",
              "4174   M   0.600     0.475  ...          0.2875        0.3080      9\n",
              "4175   F   0.625     0.485  ...          0.2610        0.2960     10\n",
              "4176   M   0.710     0.555  ...          0.3765        0.4950     12\n",
              "\n",
              "[5 rows x 9 columns]"
            ]
          },
          "metadata": {
            "tags": []
          },
          "execution_count": 8
        }
      ]
    },
    {
      "cell_type": "code",
      "metadata": {
        "id": "3OYixx1EMBke",
        "colab_type": "code",
        "colab": {
          "base_uri": "https://localhost:8080/",
          "height": 34
        },
        "outputId": "863ea0b9-efe2-42f9-c580-13fc185a9743"
      },
      "source": [
        "# Everything appears to be in order. Let's check for the correct number of rows\n",
        "# and columns now.\n",
        "df.shape"
      ],
      "execution_count": 9,
      "outputs": [
        {
          "output_type": "execute_result",
          "data": {
            "text/plain": [
              "(4177, 9)"
            ]
          },
          "metadata": {
            "tags": []
          },
          "execution_count": 9
        }
      ]
    },
    {
      "cell_type": "code",
      "metadata": {
        "id": "nQXyT_QbMBbW",
        "colab_type": "code",
        "colab": {
          "base_uri": "https://localhost:8080/",
          "height": 187
        },
        "outputId": "5ff838b2-2515-44fc-dcf1-5852251b940f"
      },
      "source": [
        "# These numbers also seem to be correct. Now check for null values. The UCI \n",
        "# states that there should not be any. Let's confirm that.\n",
        "df.isnull().sum()"
      ],
      "execution_count": 10,
      "outputs": [
        {
          "output_type": "execute_result",
          "data": {
            "text/plain": [
              "Sex               0\n",
              "Length            0\n",
              "Diameter          0\n",
              "Height            0\n",
              "Whole-Weight      0\n",
              "Shucked-weight    0\n",
              "Viscera-weight    0\n",
              "Shell-weight      0\n",
              "rings             0\n",
              "dtype: int64"
            ]
          },
          "metadata": {
            "tags": []
          },
          "execution_count": 10
        }
      ]
    },
    {
      "cell_type": "code",
      "metadata": {
        "id": "pclN7ip1M2F7",
        "colab_type": "code",
        "colab": {
          "base_uri": "https://localhost:8080/",
          "height": 297
        },
        "outputId": "fc9f53c6-b29b-4889-8d49-a7e6fd889115"
      },
      "source": [
        "# Check the summary statistics of the dataset\n",
        "df.describe()"
      ],
      "execution_count": 15,
      "outputs": [
        {
          "output_type": "execute_result",
          "data": {
            "text/html": [
              "<div>\n",
              "<style scoped>\n",
              "    .dataframe tbody tr th:only-of-type {\n",
              "        vertical-align: middle;\n",
              "    }\n",
              "\n",
              "    .dataframe tbody tr th {\n",
              "        vertical-align: top;\n",
              "    }\n",
              "\n",
              "    .dataframe thead th {\n",
              "        text-align: right;\n",
              "    }\n",
              "</style>\n",
              "<table border=\"1\" class=\"dataframe\">\n",
              "  <thead>\n",
              "    <tr style=\"text-align: right;\">\n",
              "      <th></th>\n",
              "      <th>Length</th>\n",
              "      <th>Diameter</th>\n",
              "      <th>Height</th>\n",
              "      <th>Whole-Weight</th>\n",
              "      <th>Shucked-weight</th>\n",
              "      <th>Viscera-weight</th>\n",
              "      <th>Shell-weight</th>\n",
              "      <th>rings</th>\n",
              "    </tr>\n",
              "  </thead>\n",
              "  <tbody>\n",
              "    <tr>\n",
              "      <th>count</th>\n",
              "      <td>4177.000000</td>\n",
              "      <td>4177.000000</td>\n",
              "      <td>4177.000000</td>\n",
              "      <td>4177.000000</td>\n",
              "      <td>4177.000000</td>\n",
              "      <td>4177.000000</td>\n",
              "      <td>4177.000000</td>\n",
              "      <td>4177.000000</td>\n",
              "    </tr>\n",
              "    <tr>\n",
              "      <th>mean</th>\n",
              "      <td>0.523992</td>\n",
              "      <td>0.407881</td>\n",
              "      <td>0.139516</td>\n",
              "      <td>0.828742</td>\n",
              "      <td>0.359367</td>\n",
              "      <td>0.180594</td>\n",
              "      <td>0.238831</td>\n",
              "      <td>9.933684</td>\n",
              "    </tr>\n",
              "    <tr>\n",
              "      <th>std</th>\n",
              "      <td>0.120093</td>\n",
              "      <td>0.099240</td>\n",
              "      <td>0.041827</td>\n",
              "      <td>0.490389</td>\n",
              "      <td>0.221963</td>\n",
              "      <td>0.109614</td>\n",
              "      <td>0.139203</td>\n",
              "      <td>3.224169</td>\n",
              "    </tr>\n",
              "    <tr>\n",
              "      <th>min</th>\n",
              "      <td>0.075000</td>\n",
              "      <td>0.055000</td>\n",
              "      <td>0.000000</td>\n",
              "      <td>0.002000</td>\n",
              "      <td>0.001000</td>\n",
              "      <td>0.000500</td>\n",
              "      <td>0.001500</td>\n",
              "      <td>1.000000</td>\n",
              "    </tr>\n",
              "    <tr>\n",
              "      <th>25%</th>\n",
              "      <td>0.450000</td>\n",
              "      <td>0.350000</td>\n",
              "      <td>0.115000</td>\n",
              "      <td>0.441500</td>\n",
              "      <td>0.186000</td>\n",
              "      <td>0.093500</td>\n",
              "      <td>0.130000</td>\n",
              "      <td>8.000000</td>\n",
              "    </tr>\n",
              "    <tr>\n",
              "      <th>50%</th>\n",
              "      <td>0.545000</td>\n",
              "      <td>0.425000</td>\n",
              "      <td>0.140000</td>\n",
              "      <td>0.799500</td>\n",
              "      <td>0.336000</td>\n",
              "      <td>0.171000</td>\n",
              "      <td>0.234000</td>\n",
              "      <td>9.000000</td>\n",
              "    </tr>\n",
              "    <tr>\n",
              "      <th>75%</th>\n",
              "      <td>0.615000</td>\n",
              "      <td>0.480000</td>\n",
              "      <td>0.165000</td>\n",
              "      <td>1.153000</td>\n",
              "      <td>0.502000</td>\n",
              "      <td>0.253000</td>\n",
              "      <td>0.329000</td>\n",
              "      <td>11.000000</td>\n",
              "    </tr>\n",
              "    <tr>\n",
              "      <th>max</th>\n",
              "      <td>0.815000</td>\n",
              "      <td>0.650000</td>\n",
              "      <td>1.130000</td>\n",
              "      <td>2.825500</td>\n",
              "      <td>1.488000</td>\n",
              "      <td>0.760000</td>\n",
              "      <td>1.005000</td>\n",
              "      <td>29.000000</td>\n",
              "    </tr>\n",
              "  </tbody>\n",
              "</table>\n",
              "</div>"
            ],
            "text/plain": [
              "            Length     Diameter  ...  Shell-weight        rings\n",
              "count  4177.000000  4177.000000  ...   4177.000000  4177.000000\n",
              "mean      0.523992     0.407881  ...      0.238831     9.933684\n",
              "std       0.120093     0.099240  ...      0.139203     3.224169\n",
              "min       0.075000     0.055000  ...      0.001500     1.000000\n",
              "25%       0.450000     0.350000  ...      0.130000     8.000000\n",
              "50%       0.545000     0.425000  ...      0.234000     9.000000\n",
              "75%       0.615000     0.480000  ...      0.329000    11.000000\n",
              "max       0.815000     0.650000  ...      1.005000    29.000000\n",
              "\n",
              "[8 rows x 8 columns]"
            ]
          },
          "metadata": {
            "tags": []
          },
          "execution_count": 15
        }
      ]
    },
    {
      "cell_type": "markdown",
      "metadata": {
        "id": "-gFnZR6iLLPY",
        "colab_type": "text"
      },
      "source": [
        "## 2) Load a dataset from your local machine.\n",
        "Choose a second dataset from the \"Popular Datasets\" listing on UCI, but this time download it to your local machine instead of reading it in via the URL. Upload the file to Google Colab using the files tab in the left-hand sidebar or by importing `files` from `google.colab` The following link will be a useful resource if you can't remember the syntax: <https://towardsdatascience.com/3-ways-to-load-csv-files-into-colab-7c14fcbdcb92>\n",
        "\n",
        "- Answer all of the same bullet point questions from part 1 again on this new dataset. \n"
      ]
    },
    {
      "cell_type": "code",
      "metadata": {
        "id": "qUmwX-ZoM9cq",
        "colab_type": "code",
        "colab": {
          "resources": {
            "http://localhost:8080/nbextensions/google.colab/files.js": {
              "data": "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",
              "ok": true,
              "headers": [
                [
                  "content-type",
                  "application/javascript"
                ]
              ],
              "status": 200,
              "status_text": ""
            }
          },
          "base_uri": "https://localhost:8080/",
          "height": 71
        },
        "outputId": "8deb0493-12a3-425d-8982-98d418850360"
      },
      "source": [
        "# Upload dataset through google.colab method\n",
        "from google.colab import files\n",
        "uploaded = files.upload()"
      ],
      "execution_count": 42,
      "outputs": [
        {
          "output_type": "display_data",
          "data": {
            "text/html": [
              "\n",
              "     <input type=\"file\" id=\"files-cc6f6449-6a92-4d13-8270-391a84de3654\" name=\"files[]\" multiple disabled />\n",
              "     <output id=\"result-cc6f6449-6a92-4d13-8270-391a84de3654\">\n",
              "      Upload widget is only available when the cell has been executed in the\n",
              "      current browser session. Please rerun this cell to enable.\n",
              "      </output>\n",
              "      <script src=\"/nbextensions/google.colab/files.js\"></script> "
            ],
            "text/plain": [
              "<IPython.core.display.HTML object>"
            ]
          },
          "metadata": {
            "tags": []
          }
        },
        {
          "output_type": "stream",
          "text": [
            "Saving iris.data to iris.data\n"
          ],
          "name": "stdout"
        }
      ]
    },
    {
      "cell_type": "code",
      "metadata": {
        "id": "LPeca9_jS6Ez",
        "colab_type": "code",
        "colab": {
          "base_uri": "https://localhost:8080/",
          "height": 204
        },
        "outputId": "14a2c6aa-3cba-458f-a27d-2bdf83c17eee"
      },
      "source": [
        "# Read in the data and check the first five rows\n",
        "df2 = pd.read_csv('iris.data')\n",
        "df2.head()"
      ],
      "execution_count": 43,
      "outputs": [
        {
          "output_type": "execute_result",
          "data": {
            "text/html": [
              "<div>\n",
              "<style scoped>\n",
              "    .dataframe tbody tr th:only-of-type {\n",
              "        vertical-align: middle;\n",
              "    }\n",
              "\n",
              "    .dataframe tbody tr th {\n",
              "        vertical-align: top;\n",
              "    }\n",
              "\n",
              "    .dataframe thead th {\n",
              "        text-align: right;\n",
              "    }\n",
              "</style>\n",
              "<table border=\"1\" class=\"dataframe\">\n",
              "  <thead>\n",
              "    <tr style=\"text-align: right;\">\n",
              "      <th></th>\n",
              "      <th>5.1</th>\n",
              "      <th>3.5</th>\n",
              "      <th>1.4</th>\n",
              "      <th>0.2</th>\n",
              "      <th>Iris-setosa</th>\n",
              "    </tr>\n",
              "  </thead>\n",
              "  <tbody>\n",
              "    <tr>\n",
              "      <th>0</th>\n",
              "      <td>4.9</td>\n",
              "      <td>3.0</td>\n",
              "      <td>1.4</td>\n",
              "      <td>0.2</td>\n",
              "      <td>Iris-setosa</td>\n",
              "    </tr>\n",
              "    <tr>\n",
              "      <th>1</th>\n",
              "      <td>4.7</td>\n",
              "      <td>3.2</td>\n",
              "      <td>1.3</td>\n",
              "      <td>0.2</td>\n",
              "      <td>Iris-setosa</td>\n",
              "    </tr>\n",
              "    <tr>\n",
              "      <th>2</th>\n",
              "      <td>4.6</td>\n",
              "      <td>3.1</td>\n",
              "      <td>1.5</td>\n",
              "      <td>0.2</td>\n",
              "      <td>Iris-setosa</td>\n",
              "    </tr>\n",
              "    <tr>\n",
              "      <th>3</th>\n",
              "      <td>5.0</td>\n",
              "      <td>3.6</td>\n",
              "      <td>1.4</td>\n",
              "      <td>0.2</td>\n",
              "      <td>Iris-setosa</td>\n",
              "    </tr>\n",
              "    <tr>\n",
              "      <th>4</th>\n",
              "      <td>5.4</td>\n",
              "      <td>3.9</td>\n",
              "      <td>1.7</td>\n",
              "      <td>0.4</td>\n",
              "      <td>Iris-setosa</td>\n",
              "    </tr>\n",
              "  </tbody>\n",
              "</table>\n",
              "</div>"
            ],
            "text/plain": [
              "   5.1  3.5  1.4  0.2  Iris-setosa\n",
              "0  4.9  3.0  1.4  0.2  Iris-setosa\n",
              "1  4.7  3.2  1.3  0.2  Iris-setosa\n",
              "2  4.6  3.1  1.5  0.2  Iris-setosa\n",
              "3  5.0  3.6  1.4  0.2  Iris-setosa\n",
              "4  5.4  3.9  1.7  0.4  Iris-setosa"
            ]
          },
          "metadata": {
            "tags": []
          },
          "execution_count": 43
        }
      ]
    },
    {
      "cell_type": "code",
      "metadata": {
        "id": "X9qLe1FqS6BN",
        "colab_type": "code",
        "colab": {
          "base_uri": "https://localhost:8080/",
          "height": 1000
        },
        "outputId": "fd3a4af2-2f5a-4365-cd08-884745f509ba"
      },
      "source": [
        "# The data is missing column names, so let's create our list of column names \n",
        "# and re-read in the data.\n",
        "!curl https://archive.ics.uci.edu/ml/machine-learning-databases/iris/iris.names"
      ],
      "execution_count": 44,
      "outputs": [
        {
          "output_type": "stream",
          "text": [
            "1. Title: Iris Plants Database\n",
            "\tUpdated Sept 21 by C.Blake - Added discrepency information\n",
            "\n",
            "2. Sources:\n",
            "     (a) Creator: R.A. Fisher\n",
            "     (b) Donor: Michael Marshall (MARSHALL%PLU@io.arc.nasa.gov)\n",
            "     (c) Date: July, 1988\n",
            "\n",
            "3. Past Usage:\n",
            "   - Publications: too many to mention!!!  Here are a few.\n",
            "   1. Fisher,R.A. \"The use of multiple measurements in taxonomic problems\"\n",
            "      Annual Eugenics, 7, Part II, 179-188 (1936); also in \"Contributions\n",
            "      to Mathematical Statistics\" (John Wiley, NY, 1950).\n",
            "   2. Duda,R.O., & Hart,P.E. (1973) Pattern Classification and Scene Analysis.\n",
            "      (Q327.D83) John Wiley & Sons.  ISBN 0-471-22361-1.  See page 218.\n",
            "   3. Dasarathy, B.V. (1980) \"Nosing Around the Neighborhood: A New System\n",
            "      Structure and Classification Rule for Recognition in Partially Exposed\n",
            "      Environments\".  IEEE Transactions on Pattern Analysis and Machine\n",
            "      Intelligence, Vol. PAMI-2, No. 1, 67-71.\n",
            "      -- Results:\n",
            "         -- very low misclassification rates (0% for the setosa class)\n",
            "   4. Gates, G.W. (1972) \"The Reduced Nearest Neighbor Rule\".  IEEE \n",
            "      Transactions on Information Theory, May 1972, 431-433.\n",
            "      -- Results:\n",
            "         -- very low misclassification rates again\n",
            "   5. See also: 1988 MLC Proceedings, 54-64.  Cheeseman et al's AUTOCLASS II\n",
            "      conceptual clustering system finds 3 classes in the data.\n",
            "\n",
            "4. Relevant Information:\n",
            "   --- This is perhaps the best known database to be found in the pattern\n",
            "       recognition literature.  Fisher's paper is a classic in the field\n",
            "       and is referenced frequently to this day.  (See Duda & Hart, for\n",
            "       example.)  The data set contains 3 classes of 50 instances each,\n",
            "       where each class refers to a type of iris plant.  One class is\n",
            "       linearly separable from the other 2; the latter are NOT linearly\n",
            "       separable from each other.\n",
            "   --- Predicted attribute: class of iris plant.\n",
            "   --- This is an exceedingly simple domain.\n",
            "   --- This data differs from the data presented in Fishers article\n",
            "\t(identified by Steve Chadwick,  spchadwick@espeedaz.net )\n",
            "\tThe 35th sample should be: 4.9,3.1,1.5,0.2,\"Iris-setosa\"\n",
            "\twhere the error is in the fourth feature.\n",
            "\tThe 38th sample: 4.9,3.6,1.4,0.1,\"Iris-setosa\"\n",
            "\twhere the errors are in the second and third features.  \n",
            "\n",
            "5. Number of Instances: 150 (50 in each of three classes)\n",
            "\n",
            "6. Number of Attributes: 4 numeric, predictive attributes and the class\n",
            "\n",
            "7. Attribute Information:\n",
            "   1. sepal length in cm\n",
            "   2. sepal width in cm\n",
            "   3. petal length in cm\n",
            "   4. petal width in cm\n",
            "   5. class: \n",
            "      -- Iris Setosa\n",
            "      -- Iris Versicolour\n",
            "      -- Iris Virginica\n",
            "\n",
            "8. Missing Attribute Values: None\n",
            "\n",
            "Summary Statistics:\n",
            "\t         Min  Max   Mean    SD   Class Correlation\n",
            "   sepal length: 4.3  7.9   5.84  0.83    0.7826   \n",
            "    sepal width: 2.0  4.4   3.05  0.43   -0.4194\n",
            "   petal length: 1.0  6.9   3.76  1.76    0.9490  (high!)\n",
            "    petal width: 0.1  2.5   1.20  0.76    0.9565  (high!)\n",
            "\n",
            "9. Class Distribution: 33.3% for each of 3 classes.\n"
          ],
          "name": "stdout"
        }
      ]
    },
    {
      "cell_type": "code",
      "metadata": {
        "id": "As9T2F0CS59_",
        "colab_type": "code",
        "colab": {}
      },
      "source": [
        "column_names2 = ['sepal-length', 'sepal-width', 'petal-length', 'petal-width', 'class']"
      ],
      "execution_count": 0,
      "outputs": []
    },
    {
      "cell_type": "code",
      "metadata": {
        "id": "sUZ6m6xLS56O",
        "colab_type": "code",
        "colab": {
          "base_uri": "https://localhost:8080/",
          "height": 204
        },
        "outputId": "858f4bc5-8b7d-4366-eac6-32197e2b2fc8"
      },
      "source": [
        "# Re-read in the data with the column names and look at the first five rows\n",
        "df2 = pd.read_csv('iris.data', header=None, names=column_names2)\n",
        "df2.head()"
      ],
      "execution_count": 49,
      "outputs": [
        {
          "output_type": "execute_result",
          "data": {
            "text/html": [
              "<div>\n",
              "<style scoped>\n",
              "    .dataframe tbody tr th:only-of-type {\n",
              "        vertical-align: middle;\n",
              "    }\n",
              "\n",
              "    .dataframe tbody tr th {\n",
              "        vertical-align: top;\n",
              "    }\n",
              "\n",
              "    .dataframe thead th {\n",
              "        text-align: right;\n",
              "    }\n",
              "</style>\n",
              "<table border=\"1\" class=\"dataframe\">\n",
              "  <thead>\n",
              "    <tr style=\"text-align: right;\">\n",
              "      <th></th>\n",
              "      <th>sepal-length</th>\n",
              "      <th>sepal-width</th>\n",
              "      <th>petal-length</th>\n",
              "      <th>petal-width</th>\n",
              "      <th>class</th>\n",
              "    </tr>\n",
              "  </thead>\n",
              "  <tbody>\n",
              "    <tr>\n",
              "      <th>0</th>\n",
              "      <td>5.1</td>\n",
              "      <td>3.5</td>\n",
              "      <td>1.4</td>\n",
              "      <td>0.2</td>\n",
              "      <td>Iris-setosa</td>\n",
              "    </tr>\n",
              "    <tr>\n",
              "      <th>1</th>\n",
              "      <td>4.9</td>\n",
              "      <td>3.0</td>\n",
              "      <td>1.4</td>\n",
              "      <td>0.2</td>\n",
              "      <td>Iris-setosa</td>\n",
              "    </tr>\n",
              "    <tr>\n",
              "      <th>2</th>\n",
              "      <td>4.7</td>\n",
              "      <td>3.2</td>\n",
              "      <td>1.3</td>\n",
              "      <td>0.2</td>\n",
              "      <td>Iris-setosa</td>\n",
              "    </tr>\n",
              "    <tr>\n",
              "      <th>3</th>\n",
              "      <td>4.6</td>\n",
              "      <td>3.1</td>\n",
              "      <td>1.5</td>\n",
              "      <td>0.2</td>\n",
              "      <td>Iris-setosa</td>\n",
              "    </tr>\n",
              "    <tr>\n",
              "      <th>4</th>\n",
              "      <td>5.0</td>\n",
              "      <td>3.6</td>\n",
              "      <td>1.4</td>\n",
              "      <td>0.2</td>\n",
              "      <td>Iris-setosa</td>\n",
              "    </tr>\n",
              "  </tbody>\n",
              "</table>\n",
              "</div>"
            ],
            "text/plain": [
              "   sepal-length  sepal-width  petal-length  petal-width        class\n",
              "0           5.1          3.5           1.4          0.2  Iris-setosa\n",
              "1           4.9          3.0           1.4          0.2  Iris-setosa\n",
              "2           4.7          3.2           1.3          0.2  Iris-setosa\n",
              "3           4.6          3.1           1.5          0.2  Iris-setosa\n",
              "4           5.0          3.6           1.4          0.2  Iris-setosa"
            ]
          },
          "metadata": {
            "tags": []
          },
          "execution_count": 49
        }
      ]
    },
    {
      "cell_type": "code",
      "metadata": {
        "id": "wVHlAnNAS52P",
        "colab_type": "code",
        "colab": {
          "base_uri": "https://localhost:8080/",
          "height": 204
        },
        "outputId": "5d1a528a-ef0a-46bd-92cb-b6211647338e"
      },
      "source": [
        "# Look at the last five rows of dataset\n",
        "df2.tail()"
      ],
      "execution_count": 50,
      "outputs": [
        {
          "output_type": "execute_result",
          "data": {
            "text/html": [
              "<div>\n",
              "<style scoped>\n",
              "    .dataframe tbody tr th:only-of-type {\n",
              "        vertical-align: middle;\n",
              "    }\n",
              "\n",
              "    .dataframe tbody tr th {\n",
              "        vertical-align: top;\n",
              "    }\n",
              "\n",
              "    .dataframe thead th {\n",
              "        text-align: right;\n",
              "    }\n",
              "</style>\n",
              "<table border=\"1\" class=\"dataframe\">\n",
              "  <thead>\n",
              "    <tr style=\"text-align: right;\">\n",
              "      <th></th>\n",
              "      <th>sepal-length</th>\n",
              "      <th>sepal-width</th>\n",
              "      <th>petal-length</th>\n",
              "      <th>petal-width</th>\n",
              "      <th>class</th>\n",
              "    </tr>\n",
              "  </thead>\n",
              "  <tbody>\n",
              "    <tr>\n",
              "      <th>145</th>\n",
              "      <td>6.7</td>\n",
              "      <td>3.0</td>\n",
              "      <td>5.2</td>\n",
              "      <td>2.3</td>\n",
              "      <td>Iris-virginica</td>\n",
              "    </tr>\n",
              "    <tr>\n",
              "      <th>146</th>\n",
              "      <td>6.3</td>\n",
              "      <td>2.5</td>\n",
              "      <td>5.0</td>\n",
              "      <td>1.9</td>\n",
              "      <td>Iris-virginica</td>\n",
              "    </tr>\n",
              "    <tr>\n",
              "      <th>147</th>\n",
              "      <td>6.5</td>\n",
              "      <td>3.0</td>\n",
              "      <td>5.2</td>\n",
              "      <td>2.0</td>\n",
              "      <td>Iris-virginica</td>\n",
              "    </tr>\n",
              "    <tr>\n",
              "      <th>148</th>\n",
              "      <td>6.2</td>\n",
              "      <td>3.4</td>\n",
              "      <td>5.4</td>\n",
              "      <td>2.3</td>\n",
              "      <td>Iris-virginica</td>\n",
              "    </tr>\n",
              "    <tr>\n",
              "      <th>149</th>\n",
              "      <td>5.9</td>\n",
              "      <td>3.0</td>\n",
              "      <td>5.1</td>\n",
              "      <td>1.8</td>\n",
              "      <td>Iris-virginica</td>\n",
              "    </tr>\n",
              "  </tbody>\n",
              "</table>\n",
              "</div>"
            ],
            "text/plain": [
              "     sepal-length  sepal-width  petal-length  petal-width           class\n",
              "145           6.7          3.0           5.2          2.3  Iris-virginica\n",
              "146           6.3          2.5           5.0          1.9  Iris-virginica\n",
              "147           6.5          3.0           5.2          2.0  Iris-virginica\n",
              "148           6.2          3.4           5.4          2.3  Iris-virginica\n",
              "149           5.9          3.0           5.1          1.8  Iris-virginica"
            ]
          },
          "metadata": {
            "tags": []
          },
          "execution_count": 50
        }
      ]
    },
    {
      "cell_type": "code",
      "metadata": {
        "id": "HNeSQxHwS5vL",
        "colab_type": "code",
        "colab": {
          "base_uri": "https://localhost:8080/",
          "height": 34
        },
        "outputId": "76aa0c96-fc39-48d3-a8ce-7d6e8aa1fe69"
      },
      "source": [
        "# Look at the data's shape\n",
        "df2.shape"
      ],
      "execution_count": 51,
      "outputs": [
        {
          "output_type": "execute_result",
          "data": {
            "text/plain": [
              "(150, 5)"
            ]
          },
          "metadata": {
            "tags": []
          },
          "execution_count": 51
        }
      ]
    },
    {
      "cell_type": "code",
      "metadata": {
        "id": "CFHjFqhZb9KD",
        "colab_type": "code",
        "colab": {
          "base_uri": "https://localhost:8080/",
          "height": 119
        },
        "outputId": "1ea46fac-9545-4264-d8c1-4b4da903839f"
      },
      "source": [
        "# Check for null values\n",
        "df2.isnull().sum()"
      ],
      "execution_count": 52,
      "outputs": [
        {
          "output_type": "execute_result",
          "data": {
            "text/plain": [
              "sepal-length    0\n",
              "sepal-width     0\n",
              "petal-length    0\n",
              "petal-width     0\n",
              "class           0\n",
              "dtype: int64"
            ]
          },
          "metadata": {
            "tags": []
          },
          "execution_count": 52
        }
      ]
    },
    {
      "cell_type": "code",
      "metadata": {
        "id": "8VGNo9aEb9Hp",
        "colab_type": "code",
        "colab": {
          "base_uri": "https://localhost:8080/",
          "height": 297
        },
        "outputId": "dfd94756-f7ee-438e-878e-af59a86c9884"
      },
      "source": [
        "# Check the data's summary statistics\n",
        "df2.describe()"
      ],
      "execution_count": 53,
      "outputs": [
        {
          "output_type": "execute_result",
          "data": {
            "text/html": [
              "<div>\n",
              "<style scoped>\n",
              "    .dataframe tbody tr th:only-of-type {\n",
              "        vertical-align: middle;\n",
              "    }\n",
              "\n",
              "    .dataframe tbody tr th {\n",
              "        vertical-align: top;\n",
              "    }\n",
              "\n",
              "    .dataframe thead th {\n",
              "        text-align: right;\n",
              "    }\n",
              "</style>\n",
              "<table border=\"1\" class=\"dataframe\">\n",
              "  <thead>\n",
              "    <tr style=\"text-align: right;\">\n",
              "      <th></th>\n",
              "      <th>sepal-length</th>\n",
              "      <th>sepal-width</th>\n",
              "      <th>petal-length</th>\n",
              "      <th>petal-width</th>\n",
              "    </tr>\n",
              "  </thead>\n",
              "  <tbody>\n",
              "    <tr>\n",
              "      <th>count</th>\n",
              "      <td>150.000000</td>\n",
              "      <td>150.000000</td>\n",
              "      <td>150.000000</td>\n",
              "      <td>150.000000</td>\n",
              "    </tr>\n",
              "    <tr>\n",
              "      <th>mean</th>\n",
              "      <td>5.843333</td>\n",
              "      <td>3.054000</td>\n",
              "      <td>3.758667</td>\n",
              "      <td>1.198667</td>\n",
              "    </tr>\n",
              "    <tr>\n",
              "      <th>std</th>\n",
              "      <td>0.828066</td>\n",
              "      <td>0.433594</td>\n",
              "      <td>1.764420</td>\n",
              "      <td>0.763161</td>\n",
              "    </tr>\n",
              "    <tr>\n",
              "      <th>min</th>\n",
              "      <td>4.300000</td>\n",
              "      <td>2.000000</td>\n",
              "      <td>1.000000</td>\n",
              "      <td>0.100000</td>\n",
              "    </tr>\n",
              "    <tr>\n",
              "      <th>25%</th>\n",
              "      <td>5.100000</td>\n",
              "      <td>2.800000</td>\n",
              "      <td>1.600000</td>\n",
              "      <td>0.300000</td>\n",
              "    </tr>\n",
              "    <tr>\n",
              "      <th>50%</th>\n",
              "      <td>5.800000</td>\n",
              "      <td>3.000000</td>\n",
              "      <td>4.350000</td>\n",
              "      <td>1.300000</td>\n",
              "    </tr>\n",
              "    <tr>\n",
              "      <th>75%</th>\n",
              "      <td>6.400000</td>\n",
              "      <td>3.300000</td>\n",
              "      <td>5.100000</td>\n",
              "      <td>1.800000</td>\n",
              "    </tr>\n",
              "    <tr>\n",
              "      <th>max</th>\n",
              "      <td>7.900000</td>\n",
              "      <td>4.400000</td>\n",
              "      <td>6.900000</td>\n",
              "      <td>2.500000</td>\n",
              "    </tr>\n",
              "  </tbody>\n",
              "</table>\n",
              "</div>"
            ],
            "text/plain": [
              "       sepal-length  sepal-width  petal-length  petal-width\n",
              "count    150.000000   150.000000    150.000000   150.000000\n",
              "mean       5.843333     3.054000      3.758667     1.198667\n",
              "std        0.828066     0.433594      1.764420     0.763161\n",
              "min        4.300000     2.000000      1.000000     0.100000\n",
              "25%        5.100000     2.800000      1.600000     0.300000\n",
              "50%        5.800000     3.000000      4.350000     1.300000\n",
              "75%        6.400000     3.300000      5.100000     1.800000\n",
              "max        7.900000     4.400000      6.900000     2.500000"
            ]
          },
          "metadata": {
            "tags": []
          },
          "execution_count": 53
        }
      ]
    },
    {
      "cell_type": "markdown",
      "metadata": {
        "id": "mq_aQjxlM-u5",
        "colab_type": "text"
      },
      "source": [
        "## 3) Make Crosstabs of the Categorical Variables\n",
        "\n",
        "Take whichever of the above datasets has more categorical variables and use crosstabs to tabulate the different instances of the categorical variables.\n"
      ]
    },
    {
      "cell_type": "code",
      "metadata": {
        "id": "9-n9-LTM-18p",
        "colab_type": "code",
        "colab": {}
      },
      "source": [
        "# Re-read in the first dataset\n",
        "df = pd.read_csv(url, header=None, names=column_names)"
      ],
      "execution_count": 0,
      "outputs": []
    },
    {
      "cell_type": "code",
      "metadata": {
        "id": "QV-PQ7uGg6G8",
        "colab_type": "code",
        "colab": {
          "base_uri": "https://localhost:8080/",
          "height": 204
        },
        "outputId": "49a94c89-348f-4ea1-8f02-77220a400c89"
      },
      "source": [
        "df.head()"
      ],
      "execution_count": 57,
      "outputs": [
        {
          "output_type": "execute_result",
          "data": {
            "text/html": [
              "<div>\n",
              "<style scoped>\n",
              "    .dataframe tbody tr th:only-of-type {\n",
              "        vertical-align: middle;\n",
              "    }\n",
              "\n",
              "    .dataframe tbody tr th {\n",
              "        vertical-align: top;\n",
              "    }\n",
              "\n",
              "    .dataframe thead th {\n",
              "        text-align: right;\n",
              "    }\n",
              "</style>\n",
              "<table border=\"1\" class=\"dataframe\">\n",
              "  <thead>\n",
              "    <tr style=\"text-align: right;\">\n",
              "      <th></th>\n",
              "      <th>Sex</th>\n",
              "      <th>Length</th>\n",
              "      <th>Diameter</th>\n",
              "      <th>Height</th>\n",
              "      <th>Whole-Weight</th>\n",
              "      <th>Shucked-weight</th>\n",
              "      <th>Viscera-weight</th>\n",
              "      <th>Shell-weight</th>\n",
              "      <th>rings</th>\n",
              "    </tr>\n",
              "  </thead>\n",
              "  <tbody>\n",
              "    <tr>\n",
              "      <th>0</th>\n",
              "      <td>M</td>\n",
              "      <td>0.455</td>\n",
              "      <td>0.365</td>\n",
              "      <td>0.095</td>\n",
              "      <td>0.5140</td>\n",
              "      <td>0.2245</td>\n",
              "      <td>0.1010</td>\n",
              "      <td>0.150</td>\n",
              "      <td>15</td>\n",
              "    </tr>\n",
              "    <tr>\n",
              "      <th>1</th>\n",
              "      <td>M</td>\n",
              "      <td>0.350</td>\n",
              "      <td>0.265</td>\n",
              "      <td>0.090</td>\n",
              "      <td>0.2255</td>\n",
              "      <td>0.0995</td>\n",
              "      <td>0.0485</td>\n",
              "      <td>0.070</td>\n",
              "      <td>7</td>\n",
              "    </tr>\n",
              "    <tr>\n",
              "      <th>2</th>\n",
              "      <td>F</td>\n",
              "      <td>0.530</td>\n",
              "      <td>0.420</td>\n",
              "      <td>0.135</td>\n",
              "      <td>0.6770</td>\n",
              "      <td>0.2565</td>\n",
              "      <td>0.1415</td>\n",
              "      <td>0.210</td>\n",
              "      <td>9</td>\n",
              "    </tr>\n",
              "    <tr>\n",
              "      <th>3</th>\n",
              "      <td>M</td>\n",
              "      <td>0.440</td>\n",
              "      <td>0.365</td>\n",
              "      <td>0.125</td>\n",
              "      <td>0.5160</td>\n",
              "      <td>0.2155</td>\n",
              "      <td>0.1140</td>\n",
              "      <td>0.155</td>\n",
              "      <td>10</td>\n",
              "    </tr>\n",
              "    <tr>\n",
              "      <th>4</th>\n",
              "      <td>I</td>\n",
              "      <td>0.330</td>\n",
              "      <td>0.255</td>\n",
              "      <td>0.080</td>\n",
              "      <td>0.2050</td>\n",
              "      <td>0.0895</td>\n",
              "      <td>0.0395</td>\n",
              "      <td>0.055</td>\n",
              "      <td>7</td>\n",
              "    </tr>\n",
              "  </tbody>\n",
              "</table>\n",
              "</div>"
            ],
            "text/plain": [
              "  Sex  Length  Diameter  ...  Viscera-weight  Shell-weight  rings\n",
              "0   M   0.455     0.365  ...          0.1010         0.150     15\n",
              "1   M   0.350     0.265  ...          0.0485         0.070      7\n",
              "2   F   0.530     0.420  ...          0.1415         0.210      9\n",
              "3   M   0.440     0.365  ...          0.1140         0.155     10\n",
              "4   I   0.330     0.255  ...          0.0395         0.055      7\n",
              "\n",
              "[5 rows x 9 columns]"
            ]
          },
          "metadata": {
            "tags": []
          },
          "execution_count": 57
        }
      ]
    },
    {
      "cell_type": "code",
      "metadata": {
        "id": "t5KklZhKg6Fd",
        "colab_type": "code",
        "colab": {
          "base_uri": "https://localhost:8080/",
          "height": 187
        },
        "outputId": "8834345a-930b-4928-828c-eb70ad860b94"
      },
      "source": [
        "# Check datatypes of dataframe 1 for categorical data\n",
        "df.dtypes"
      ],
      "execution_count": 62,
      "outputs": [
        {
          "output_type": "execute_result",
          "data": {
            "text/plain": [
              "Sex                object\n",
              "Length            float64\n",
              "Diameter          float64\n",
              "Height            float64\n",
              "Whole-Weight      float64\n",
              "Shucked-weight    float64\n",
              "Viscera-weight    float64\n",
              "Shell-weight      float64\n",
              "rings               int64\n",
              "dtype: object"
            ]
          },
          "metadata": {
            "tags": []
          },
          "execution_count": 62
        }
      ]
    },
    {
      "cell_type": "code",
      "metadata": {
        "id": "NhSZynyYg6CT",
        "colab_type": "code",
        "colab": {
          "base_uri": "https://localhost:8080/",
          "height": 119
        },
        "outputId": "861c328e-2af4-4d70-df01-bee4caf7fbd3"
      },
      "source": [
        "# Check datatypes of dataframe 2 for categorical data\n",
        "df2.dtypes"
      ],
      "execution_count": 63,
      "outputs": [
        {
          "output_type": "execute_result",
          "data": {
            "text/plain": [
              "sepal-length    float64\n",
              "sepal-width     float64\n",
              "petal-length    float64\n",
              "petal-width     float64\n",
              "class            object\n",
              "dtype: object"
            ]
          },
          "metadata": {
            "tags": []
          },
          "execution_count": 63
        }
      ]
    },
    {
      "cell_type": "code",
      "metadata": {
        "id": "x0bHl5eYg5_a",
        "colab_type": "code",
        "colab": {}
      },
      "source": [
        "# Both datasets have only one object. Let's use a different dataset for this problem\n",
        "# Start by checking the raw data\n",
        "!curl https://archive.ics.uci.edu/ml/machine-learning-databases/heart-disease/processed.cleveland.data"
      ],
      "execution_count": 0,
      "outputs": []
    },
    {
      "cell_type": "code",
      "metadata": {
        "id": "IZS0WJlDg59C",
        "colab_type": "code",
        "colab": {
          "base_uri": "https://localhost:8080/",
          "height": 1000
        },
        "outputId": "ecc07320-1524-4a96-bf93-ac206fba9363"
      },
      "source": [
        "# Check the column names\n",
        "!curl https://archive.ics.uci.edu/ml/machine-learning-databases/heart-disease/heart-disease.names"
      ],
      "execution_count": 67,
      "outputs": [
        {
          "output_type": "stream",
          "text": [
            "Publication Request: \n",
            "   >>>>>>>>>>>>>>>>>>>>>>>>>>>>>>>>>>>>>>>>>>>>>>>>>>>>>>>>>>>>>>>>>>>>>>\n",
            "   This file describes the contents of the heart-disease directory.\n",
            "\n",
            "   This directory contains 4 databases concerning heart disease diagnosis.\n",
            "   All attributes are numeric-valued.  The data was collected from the\n",
            "   four following locations:\n",
            "\n",
            "     1. Cleveland Clinic Foundation (cleveland.data)\n",
            "     2. Hungarian Institute of Cardiology, Budapest (hungarian.data)\n",
            "     3. V.A. Medical Center, Long Beach, CA (long-beach-va.data)\n",
            "     4. University Hospital, Zurich, Switzerland (switzerland.data)\n",
            "\n",
            "   Each database has the same instance format.  While the databases have 76\n",
            "   raw attributes, only 14 of them are actually used.  Thus I've taken the\n",
            "   liberty of making 2 copies of each database: one with all the attributes\n",
            "   and 1 with the 14 attributes actually used in past experiments.\n",
            "\n",
            "   The authors of the databases have requested:\n",
            "\n",
            "      ...that any publications resulting from the use of the data include the \n",
            "      names of the principal investigator responsible for the data collection\n",
            "      at each institution.  They would be:\n",
            "\n",
            "       1. Hungarian Institute of Cardiology. Budapest: Andras Janosi, M.D.\n",
            "       2. University Hospital, Zurich, Switzerland: William Steinbrunn, M.D.\n",
            "       3. University Hospital, Basel, Switzerland: Matthias Pfisterer, M.D.\n",
            "       4. V.A. Medical Center, Long Beach and Cleveland Clinic Foundation:\n",
            "\t  Robert Detrano, M.D., Ph.D.\n",
            "\n",
            "   Thanks in advance for abiding by this request.\n",
            "\n",
            "   David Aha\n",
            "   July 22, 1988\n",
            "   >>>>>>>>>>>>>>>>>>>>>>>>>>>>>>>>>>>>>>>>>>>>>>>>>>>>>>>>>>>>>>>>>>>>>>\n",
            "\n",
            "1. Title: Heart Disease Databases\n",
            "\n",
            "2. Source Information:\n",
            "   (a) Creators: \n",
            "       -- 1. Hungarian Institute of Cardiology. Budapest: Andras Janosi, M.D.\n",
            "       -- 2. University Hospital, Zurich, Switzerland: William Steinbrunn, M.D.\n",
            "       -- 3. University Hospital, Basel, Switzerland: Matthias Pfisterer, M.D.\n",
            "       -- 4. V.A. Medical Center, Long Beach and Cleveland Clinic Foundation:\n",
            "             Robert Detrano, M.D., Ph.D.\n",
            "   (b) Donor: David W. Aha (aha@ics.uci.edu) (714) 856-8779   \n",
            "   (c) Date: July, 1988\n",
            "\n",
            "3. Past Usage:\n",
            "    1. Detrano,~R., Janosi,~A., Steinbrunn,~W., Pfisterer,~M., Schmid,~J.,\n",
            "       Sandhu,~S., Guppy,~K., Lee,~S., \\& Froelicher,~V. (1989).  {\\it \n",
            "       International application of a new probability algorithm for the \n",
            "       diagnosis of coronary artery disease.}  {\\it American Journal of \n",
            "       Cardiology}, {\\it 64},304--310.\n",
            "       -- International Probability Analysis \n",
            "       -- Address: Robert Detrano, M.D.\n",
            "                   Cardiology 111-C\n",
            "                   V.A. Medical Center\n",
            "                   5901 E. 7th Street\n",
            "                   Long Beach, CA 90028\n",
            "       -- Results in percent accuracy: (for 0.5 probability threshold)\n",
            "             Data Name:  CDF    CADENZA\n",
            "          -- Hungarian   77     74\n",
            "             Long beach  79     77\n",
            "             Swiss       81     81\n",
            "          -- Approximately a 77% correct classification accuracy with a\n",
            "             logistic-regression-derived discriminant function\n",
            "    2. David W. Aha & Dennis Kibler\n",
            "       -- \n",
            "          \n",
            "          \n",
            "          -- Instance-based prediction of heart-disease presence with the \n",
            "             Cleveland database\n",
            "             -- NTgrowth: 77.0% accuracy\n",
            "             --       C4: 74.8% accuracy\n",
            "    3. John Gennari\n",
            "       -- Gennari, J.~H., Langley, P, \\& Fisher, D. (1989). Models of\n",
            "          incremental concept formation. {\\it Artificial Intelligence, 40},\n",
            "          11--61.\n",
            "       -- Results: \n",
            "          -- The CLASSIT conceptual clustering system achieved a 78.9% accuracy\n",
            "             on the Cleveland database.\n",
            "\n",
            "4. Relevant Information:\n",
            "     This database contains 76 attributes, but all published experiments\n",
            "     refer to using a subset of 14 of them.  In particular, the Cleveland\n",
            "     database is the only one that has been used by ML researchers to \n",
            "     this date.  The \"goal\" field refers to the presence of heart disease\n",
            "     in the patient.  It is integer valued from 0 (no presence) to 4.\n",
            "     Experiments with the Cleveland database have concentrated on simply\n",
            "     attempting to distinguish presence (values 1,2,3,4) from absence (value\n",
            "     0).  \n",
            "   \n",
            "     The names and social security numbers of the patients were recently \n",
            "     removed from the database, replaced with dummy values.\n",
            "\n",
            "     One file has been \"processed\", that one containing the Cleveland \n",
            "     database.  All four unprocessed files also exist in this directory.\n",
            "    \n",
            "5. Number of Instances: \n",
            "        Database:    # of instances:\n",
            "          Cleveland: 303\n",
            "          Hungarian: 294\n",
            "        Switzerland: 123\n",
            "      Long Beach VA: 200\n",
            "\n",
            "6. Number of Attributes: 76 (including the predicted attribute)\n",
            "\n",
            "7. Attribute Information:\n",
            "   -- Only 14 used\n",
            "      -- 1. #3  (age)       \n",
            "      -- 2. #4  (sex)       \n",
            "      -- 3. #9  (cp)        \n",
            "      -- 4. #10 (trestbps)  \n",
            "      -- 5. #12 (chol)      \n",
            "      -- 6. #16 (fbs)       \n",
            "      -- 7. #19 (restecg)   \n",
            "      -- 8. #32 (thalach)   \n",
            "      -- 9. #38 (exang)     \n",
            "      -- 10. #40 (oldpeak)   \n",
            "      -- 11. #41 (slope)     \n",
            "      -- 12. #44 (ca)        \n",
            "      -- 13. #51 (thal)      \n",
            "      -- 14. #58 (num)       (the predicted attribute)\n",
            "\n",
            "   -- Complete attribute documentation:\n",
            "      1 id: patient identification number\n",
            "      2 ccf: social security number (I replaced this with a dummy value of 0)\n",
            "      3 age: age in years\n",
            "      4 sex: sex (1 = male; 0 = female)\n",
            "      5 painloc: chest pain location (1 = substernal; 0 = otherwise)\n",
            "      6 painexer (1 = provoked by exertion; 0 = otherwise)\n",
            "      7 relrest (1 = relieved after rest; 0 = otherwise)\n",
            "      8 pncaden (sum of 5, 6, and 7)\n",
            "      9 cp: chest pain type\n",
            "        -- Value 1: typical angina\n",
            "        -- Value 2: atypical angina\n",
            "        -- Value 3: non-anginal pain\n",
            "        -- Value 4: asymptomatic\n",
            "     10 trestbps: resting blood pressure (in mm Hg on admission to the \n",
            "        hospital)\n",
            "     11 htn\n",
            "     12 chol: serum cholestoral in mg/dl\n",
            "     13 smoke: I believe this is 1 = yes; 0 = no (is or is not a smoker)\n",
            "     14 cigs (cigarettes per day)\n",
            "     15 years (number of years as a smoker)\n",
            "     16 fbs: (fasting blood sugar > 120 mg/dl)  (1 = true; 0 = false)\n",
            "     17 dm (1 = history of diabetes; 0 = no such history)\n",
            "     18 famhist: family history of coronary artery disease (1 = yes; 0 = no)\n",
            "     19 restecg: resting electrocardiographic results\n",
            "        -- Value 0: normal\n",
            "        -- Value 1: having ST-T wave abnormality (T wave inversions and/or ST \n",
            "                    elevation or depression of > 0.05 mV)\n",
            "        -- Value 2: showing probable or definite left ventricular hypertrophy\n",
            "                    by Estes' criteria\n",
            "     20 ekgmo (month of exercise ECG reading)\n",
            "     21 ekgday(day of exercise ECG reading)\n",
            "     22 ekgyr (year of exercise ECG reading)\n",
            "     23 dig (digitalis used furing exercise ECG: 1 = yes; 0 = no)\n",
            "     24 prop (Beta blocker used during exercise ECG: 1 = yes; 0 = no)\n",
            "     25 nitr (nitrates used during exercise ECG: 1 = yes; 0 = no)\n",
            "     26 pro (calcium channel blocker used during exercise ECG: 1 = yes; 0 = no)\n",
            "     27 diuretic (diuretic used used during exercise ECG: 1 = yes; 0 = no)\n",
            "     28 proto: exercise protocol\n",
            "          1 = Bruce     \n",
            "          2 = Kottus\n",
            "          3 = McHenry\n",
            "          4 = fast Balke\n",
            "          5 = Balke\n",
            "          6 = Noughton \n",
            "          7 = bike 150 kpa min/min  (Not sure if \"kpa min/min\" is what was \n",
            "              written!)\n",
            "          8 = bike 125 kpa min/min  \n",
            "          9 = bike 100 kpa min/min\n",
            "         10 = bike 75 kpa min/min\n",
            "         11 = bike 50 kpa min/min\n",
            "         12 = arm ergometer\n",
            "     29 thaldur: duration of exercise test in minutes\n",
            "     30 thaltime: time when ST measure depression was noted\n",
            "     31 met: mets achieved\n",
            "     32 thalach: maximum heart rate achieved\n",
            "     33 thalrest: resting heart rate\n",
            "     34 tpeakbps: peak exercise blood pressure (first of 2 parts)\n",
            "     35 tpeakbpd: peak exercise blood pressure (second of 2 parts)\n",
            "     36 dummy\n",
            "     37 trestbpd: resting blood pressure\n",
            "     38 exang: exercise induced angina (1 = yes; 0 = no)\n",
            "     39 xhypo: (1 = yes; 0 = no)\n",
            "     40 oldpeak = ST depression induced by exercise relative to rest\n",
            "     41 slope: the slope of the peak exercise ST segment\n",
            "        -- Value 1: upsloping\n",
            "        -- Value 2: flat\n",
            "        -- Value 3: downsloping\n",
            "     42 rldv5: height at rest\n",
            "     43 rldv5e: height at peak exercise\n",
            "     44 ca: number of major vessels (0-3) colored by flourosopy\n",
            "     45 restckm: irrelevant\n",
            "     46 exerckm: irrelevant\n",
            "     47 restef: rest raidonuclid (sp?) ejection fraction\n",
            "     48 restwm: rest wall (sp?) motion abnormality\n",
            "        0 = none\n",
            "        1 = mild or moderate\n",
            "        2 = moderate or severe\n",
            "        3 = akinesis or dyskmem (sp?)\n",
            "     49 exeref: exercise radinalid (sp?) ejection fraction\n",
            "     50 exerwm: exercise wall (sp?) motion \n",
            "     51 thal: 3 = normal; 6 = fixed defect; 7 = reversable defect\n",
            "     52 thalsev: not used\n",
            "     53 thalpul: not used\n",
            "     54 earlobe: not used\n",
            "     55 cmo: month of cardiac cath (sp?)  (perhaps \"call\")\n",
            "     56 cday: day of cardiac cath (sp?)\n",
            "     57 cyr: year of cardiac cath (sp?)\n",
            "     58 num: diagnosis of heart disease (angiographic disease status)\n",
            "        -- Value 0: < 50% diameter narrowing\n",
            "        -- Value 1: > 50% diameter narrowing\n",
            "        (in any major vessel: attributes 59 through 68 are vessels)\n",
            "     59 lmt\n",
            "     60 ladprox\n",
            "     61 laddist\n",
            "     62 diag\n",
            "     63 cxmain\n",
            "     64 ramus\n",
            "     65 om1\n",
            "     66 om2\n",
            "     67 rcaprox\n",
            "     68 rcadist\n",
            "     69 lvx1: not used\n",
            "     70 lvx2: not used\n",
            "     71 lvx3: not used\n",
            "     72 lvx4: not used\n",
            "     73 lvf: not used\n",
            "     74 cathef: not used\n",
            "     75 junk: not used\n",
            "     76 name: last name of patient \n",
            "\t(I replaced this with the dummy string \"name\")\n",
            "\n",
            "9. Missing Attribute Values: Several.  Distinguished with value -9.0.\n",
            "\n",
            "10. Class Distribution:\n",
            "        Database:      0   1   2   3   4 Total\n",
            "          Cleveland: 164  55  36  35  13   303\n",
            "          Hungarian: 188  37  26  28  15   294\n",
            "        Switzerland:   8  48  32  30   5   123\n",
            "      Long Beach VA:  51  56  41  42  10   200\n"
          ],
          "name": "stdout"
        }
      ]
    },
    {
      "cell_type": "code",
      "metadata": {
        "id": "CpUM36V8g56X",
        "colab_type": "code",
        "colab": {}
      },
      "source": [
        "# Create a list of the column names we need\n",
        "column_names3 = ['age', 'sex', 'chest-pain-type', 'resting-bp', 'cholesterol', \n",
        "                 'fasting-blood-sugar', 'resting-ecg', 'max-hr',\n",
        "                 'exercise-induced-angina', 'oldpeak', 'slope', \n",
        "                 'colored-vessels', 'thal', 'diagnosis-of-heart-disease']\n",
        "url = 'https://archive.ics.uci.edu/ml/machine-learning-databases/heart-disease/processed.cleveland.data'"
      ],
      "execution_count": 0,
      "outputs": []
    },
    {
      "cell_type": "code",
      "metadata": {
        "id": "S1IiYVwwg53j",
        "colab_type": "code",
        "colab": {
          "base_uri": "https://localhost:8080/",
          "height": 238
        },
        "outputId": "b0dd5456-203e-4755-cbf3-a866edc157a4"
      },
      "source": [
        "# Read in the data with our column names\n",
        "df3 = pd.read_csv(url, header=None, names=column_names3)\n",
        "df3.head()"
      ],
      "execution_count": 70,
      "outputs": [
        {
          "output_type": "execute_result",
          "data": {
            "text/html": [
              "<div>\n",
              "<style scoped>\n",
              "    .dataframe tbody tr th:only-of-type {\n",
              "        vertical-align: middle;\n",
              "    }\n",
              "\n",
              "    .dataframe tbody tr th {\n",
              "        vertical-align: top;\n",
              "    }\n",
              "\n",
              "    .dataframe thead th {\n",
              "        text-align: right;\n",
              "    }\n",
              "</style>\n",
              "<table border=\"1\" class=\"dataframe\">\n",
              "  <thead>\n",
              "    <tr style=\"text-align: right;\">\n",
              "      <th></th>\n",
              "      <th>age</th>\n",
              "      <th>sex</th>\n",
              "      <th>chest-pain-type</th>\n",
              "      <th>resting-bp</th>\n",
              "      <th>cholesterol</th>\n",
              "      <th>fasting-blood-sugar</th>\n",
              "      <th>resting-ecg</th>\n",
              "      <th>max-hr</th>\n",
              "      <th>exercise-induced-angina</th>\n",
              "      <th>oldpeak</th>\n",
              "      <th>slope</th>\n",
              "      <th>colored-vessels</th>\n",
              "      <th>thal</th>\n",
              "      <th>diagnosis-of-heart-disease</th>\n",
              "    </tr>\n",
              "  </thead>\n",
              "  <tbody>\n",
              "    <tr>\n",
              "      <th>0</th>\n",
              "      <td>63.0</td>\n",
              "      <td>1.0</td>\n",
              "      <td>1.0</td>\n",
              "      <td>145.0</td>\n",
              "      <td>233.0</td>\n",
              "      <td>1.0</td>\n",
              "      <td>2.0</td>\n",
              "      <td>150.0</td>\n",
              "      <td>0.0</td>\n",
              "      <td>2.3</td>\n",
              "      <td>3.0</td>\n",
              "      <td>0.0</td>\n",
              "      <td>6.0</td>\n",
              "      <td>0</td>\n",
              "    </tr>\n",
              "    <tr>\n",
              "      <th>1</th>\n",
              "      <td>67.0</td>\n",
              "      <td>1.0</td>\n",
              "      <td>4.0</td>\n",
              "      <td>160.0</td>\n",
              "      <td>286.0</td>\n",
              "      <td>0.0</td>\n",
              "      <td>2.0</td>\n",
              "      <td>108.0</td>\n",
              "      <td>1.0</td>\n",
              "      <td>1.5</td>\n",
              "      <td>2.0</td>\n",
              "      <td>3.0</td>\n",
              "      <td>3.0</td>\n",
              "      <td>2</td>\n",
              "    </tr>\n",
              "    <tr>\n",
              "      <th>2</th>\n",
              "      <td>67.0</td>\n",
              "      <td>1.0</td>\n",
              "      <td>4.0</td>\n",
              "      <td>120.0</td>\n",
              "      <td>229.0</td>\n",
              "      <td>0.0</td>\n",
              "      <td>2.0</td>\n",
              "      <td>129.0</td>\n",
              "      <td>1.0</td>\n",
              "      <td>2.6</td>\n",
              "      <td>2.0</td>\n",
              "      <td>2.0</td>\n",
              "      <td>7.0</td>\n",
              "      <td>1</td>\n",
              "    </tr>\n",
              "    <tr>\n",
              "      <th>3</th>\n",
              "      <td>37.0</td>\n",
              "      <td>1.0</td>\n",
              "      <td>3.0</td>\n",
              "      <td>130.0</td>\n",
              "      <td>250.0</td>\n",
              "      <td>0.0</td>\n",
              "      <td>0.0</td>\n",
              "      <td>187.0</td>\n",
              "      <td>0.0</td>\n",
              "      <td>3.5</td>\n",
              "      <td>3.0</td>\n",
              "      <td>0.0</td>\n",
              "      <td>3.0</td>\n",
              "      <td>0</td>\n",
              "    </tr>\n",
              "    <tr>\n",
              "      <th>4</th>\n",
              "      <td>41.0</td>\n",
              "      <td>0.0</td>\n",
              "      <td>2.0</td>\n",
              "      <td>130.0</td>\n",
              "      <td>204.0</td>\n",
              "      <td>0.0</td>\n",
              "      <td>2.0</td>\n",
              "      <td>172.0</td>\n",
              "      <td>0.0</td>\n",
              "      <td>1.4</td>\n",
              "      <td>1.0</td>\n",
              "      <td>0.0</td>\n",
              "      <td>3.0</td>\n",
              "      <td>0</td>\n",
              "    </tr>\n",
              "  </tbody>\n",
              "</table>\n",
              "</div>"
            ],
            "text/plain": [
              "    age  sex  chest-pain-type  ...  colored-vessels  thal  diagnosis-of-heart-disease\n",
              "0  63.0  1.0              1.0  ...              0.0   6.0                           0\n",
              "1  67.0  1.0              4.0  ...              3.0   3.0                           2\n",
              "2  67.0  1.0              4.0  ...              2.0   7.0                           1\n",
              "3  37.0  1.0              3.0  ...              0.0   3.0                           0\n",
              "4  41.0  0.0              2.0  ...              0.0   3.0                           0\n",
              "\n",
              "[5 rows x 14 columns]"
            ]
          },
          "metadata": {
            "tags": []
          },
          "execution_count": 70
        }
      ]
    },
    {
      "cell_type": "code",
      "metadata": {
        "id": "zJTYk7JO3Oo5",
        "colab_type": "code",
        "colab": {
          "base_uri": "https://localhost:8080/",
          "height": 272
        },
        "outputId": "c3ea8c8f-ec74-4efe-998f-ed5a3234edbb"
      },
      "source": [
        "# Check datatypes of dataframe 3 for categorical data\n",
        "df3.dtypes"
      ],
      "execution_count": 71,
      "outputs": [
        {
          "output_type": "execute_result",
          "data": {
            "text/plain": [
              "age                           float64\n",
              "sex                           float64\n",
              "chest-pain-type               float64\n",
              "resting-bp                    float64\n",
              "cholesterol                   float64\n",
              "fasting-blood-sugar           float64\n",
              "resting-ecg                   float64\n",
              "max-hr                        float64\n",
              "exercise-induced-angina       float64\n",
              "oldpeak                       float64\n",
              "slope                         float64\n",
              "colored-vessels                object\n",
              "thal                           object\n",
              "diagnosis-of-heart-disease      int64\n",
              "dtype: object"
            ]
          },
          "metadata": {
            "tags": []
          },
          "execution_count": 71
        }
      ]
    },
    {
      "cell_type": "code",
      "metadata": {
        "id": "DxSuCYri3Qaq",
        "colab_type": "code",
        "colab": {
          "base_uri": "https://localhost:8080/",
          "height": 119
        },
        "outputId": "abd8585a-9bae-4024-f18c-2d3f3d870f50"
      },
      "source": [
        "# Look further into the diagnosis of heart disease column\n",
        "df3['diagnosis-of-heart-disease'].value_counts()"
      ],
      "execution_count": 72,
      "outputs": [
        {
          "output_type": "execute_result",
          "data": {
            "text/plain": [
              "0    164\n",
              "1     55\n",
              "2     36\n",
              "3     35\n",
              "4     13\n",
              "Name: diagnosis-of-heart-disease, dtype: int64"
            ]
          },
          "metadata": {
            "tags": []
          },
          "execution_count": 72
        }
      ]
    },
    {
      "cell_type": "code",
      "metadata": {
        "id": "Ev4kOKyR3QSc",
        "colab_type": "code",
        "colab": {
          "base_uri": "https://localhost:8080/",
          "height": 102
        },
        "outputId": "d3fd72ad-40bd-4b39-fe32-23bda43ef2e5"
      },
      "source": [
        "# Look further into the chest pain type column\n",
        "df3['chest-pain-type'].value_counts()"
      ],
      "execution_count": 73,
      "outputs": [
        {
          "output_type": "execute_result",
          "data": {
            "text/plain": [
              "4.0    144\n",
              "3.0     86\n",
              "2.0     50\n",
              "1.0     23\n",
              "Name: chest-pain-type, dtype: int64"
            ]
          },
          "metadata": {
            "tags": []
          },
          "execution_count": 73
        }
      ]
    },
    {
      "cell_type": "code",
      "metadata": {
        "id": "306y1Qhb5T6k",
        "colab_type": "code",
        "colab": {
          "base_uri": "https://localhost:8080/",
          "height": 235
        },
        "outputId": "1d744bfc-d60f-4466-c990-2ed003267d0d"
      },
      "source": [
        "# Let's use the above two columns for our crosstab\n",
        "cross1 = pd.crosstab(df3['diagnosis-of-heart-disease'], df3['chest-pain-type'])\n",
        "cross1"
      ],
      "execution_count": 90,
      "outputs": [
        {
          "output_type": "execute_result",
          "data": {
            "text/html": [
              "<div>\n",
              "<style scoped>\n",
              "    .dataframe tbody tr th:only-of-type {\n",
              "        vertical-align: middle;\n",
              "    }\n",
              "\n",
              "    .dataframe tbody tr th {\n",
              "        vertical-align: top;\n",
              "    }\n",
              "\n",
              "    .dataframe thead th {\n",
              "        text-align: right;\n",
              "    }\n",
              "</style>\n",
              "<table border=\"1\" class=\"dataframe\">\n",
              "  <thead>\n",
              "    <tr style=\"text-align: right;\">\n",
              "      <th>chest-pain-type</th>\n",
              "      <th>1.0</th>\n",
              "      <th>2.0</th>\n",
              "      <th>3.0</th>\n",
              "      <th>4.0</th>\n",
              "    </tr>\n",
              "    <tr>\n",
              "      <th>diagnosis-of-heart-disease</th>\n",
              "      <th></th>\n",
              "      <th></th>\n",
              "      <th></th>\n",
              "      <th></th>\n",
              "    </tr>\n",
              "  </thead>\n",
              "  <tbody>\n",
              "    <tr>\n",
              "      <th>0</th>\n",
              "      <td>16</td>\n",
              "      <td>41</td>\n",
              "      <td>68</td>\n",
              "      <td>39</td>\n",
              "    </tr>\n",
              "    <tr>\n",
              "      <th>1</th>\n",
              "      <td>5</td>\n",
              "      <td>6</td>\n",
              "      <td>9</td>\n",
              "      <td>35</td>\n",
              "    </tr>\n",
              "    <tr>\n",
              "      <th>2</th>\n",
              "      <td>1</td>\n",
              "      <td>1</td>\n",
              "      <td>4</td>\n",
              "      <td>30</td>\n",
              "    </tr>\n",
              "    <tr>\n",
              "      <th>3</th>\n",
              "      <td>0</td>\n",
              "      <td>2</td>\n",
              "      <td>4</td>\n",
              "      <td>29</td>\n",
              "    </tr>\n",
              "    <tr>\n",
              "      <th>4</th>\n",
              "      <td>1</td>\n",
              "      <td>0</td>\n",
              "      <td>1</td>\n",
              "      <td>11</td>\n",
              "    </tr>\n",
              "  </tbody>\n",
              "</table>\n",
              "</div>"
            ],
            "text/plain": [
              "chest-pain-type             1.0  2.0  3.0  4.0\n",
              "diagnosis-of-heart-disease                    \n",
              "0                            16   41   68   39\n",
              "1                             5    6    9   35\n",
              "2                             1    1    4   30\n",
              "3                             0    2    4   29\n",
              "4                             1    0    1   11"
            ]
          },
          "metadata": {
            "tags": []
          },
          "execution_count": 90
        }
      ]
    },
    {
      "cell_type": "code",
      "metadata": {
        "id": "DkLv2ZkN5T4c",
        "colab_type": "code",
        "colab": {
          "base_uri": "https://localhost:8080/",
          "height": 204
        },
        "outputId": "614cc701-28ca-4184-adbf-ae3fe61e5957"
      },
      "source": [
        "# Create a second crosstab\n",
        "cross2 = pd.crosstab(df3['chest-pain-type'], df3['exercise-induced-angina'])\n",
        "cross2"
      ],
      "execution_count": 91,
      "outputs": [
        {
          "output_type": "execute_result",
          "data": {
            "text/html": [
              "<div>\n",
              "<style scoped>\n",
              "    .dataframe tbody tr th:only-of-type {\n",
              "        vertical-align: middle;\n",
              "    }\n",
              "\n",
              "    .dataframe tbody tr th {\n",
              "        vertical-align: top;\n",
              "    }\n",
              "\n",
              "    .dataframe thead th {\n",
              "        text-align: right;\n",
              "    }\n",
              "</style>\n",
              "<table border=\"1\" class=\"dataframe\">\n",
              "  <thead>\n",
              "    <tr style=\"text-align: right;\">\n",
              "      <th>exercise-induced-angina</th>\n",
              "      <th>0.0</th>\n",
              "      <th>1.0</th>\n",
              "    </tr>\n",
              "    <tr>\n",
              "      <th>chest-pain-type</th>\n",
              "      <th></th>\n",
              "      <th></th>\n",
              "    </tr>\n",
              "  </thead>\n",
              "  <tbody>\n",
              "    <tr>\n",
              "      <th>1.0</th>\n",
              "      <td>19</td>\n",
              "      <td>4</td>\n",
              "    </tr>\n",
              "    <tr>\n",
              "      <th>2.0</th>\n",
              "      <td>46</td>\n",
              "      <td>4</td>\n",
              "    </tr>\n",
              "    <tr>\n",
              "      <th>3.0</th>\n",
              "      <td>75</td>\n",
              "      <td>11</td>\n",
              "    </tr>\n",
              "    <tr>\n",
              "      <th>4.0</th>\n",
              "      <td>64</td>\n",
              "      <td>80</td>\n",
              "    </tr>\n",
              "  </tbody>\n",
              "</table>\n",
              "</div>"
            ],
            "text/plain": [
              "exercise-induced-angina  0.0  1.0\n",
              "chest-pain-type                  \n",
              "1.0                       19    4\n",
              "2.0                       46    4\n",
              "3.0                       75   11\n",
              "4.0                       64   80"
            ]
          },
          "metadata": {
            "tags": []
          },
          "execution_count": 91
        }
      ]
    },
    {
      "cell_type": "code",
      "metadata": {
        "id": "eX-44qcb5T1W",
        "colab_type": "code",
        "colab": {
          "base_uri": "https://localhost:8080/",
          "height": 142
        },
        "outputId": "629c135c-5331-4c47-b2db-d055adfe7d90"
      },
      "source": [
        "# Create a third crosstab\n",
        "cross3 = pd.crosstab(df3['sex'], df3['chest-pain-type'])\n",
        "cross3"
      ],
      "execution_count": 92,
      "outputs": [
        {
          "output_type": "execute_result",
          "data": {
            "text/html": [
              "<div>\n",
              "<style scoped>\n",
              "    .dataframe tbody tr th:only-of-type {\n",
              "        vertical-align: middle;\n",
              "    }\n",
              "\n",
              "    .dataframe tbody tr th {\n",
              "        vertical-align: top;\n",
              "    }\n",
              "\n",
              "    .dataframe thead th {\n",
              "        text-align: right;\n",
              "    }\n",
              "</style>\n",
              "<table border=\"1\" class=\"dataframe\">\n",
              "  <thead>\n",
              "    <tr style=\"text-align: right;\">\n",
              "      <th>chest-pain-type</th>\n",
              "      <th>1.0</th>\n",
              "      <th>2.0</th>\n",
              "      <th>3.0</th>\n",
              "      <th>4.0</th>\n",
              "    </tr>\n",
              "    <tr>\n",
              "      <th>sex</th>\n",
              "      <th></th>\n",
              "      <th></th>\n",
              "      <th></th>\n",
              "      <th></th>\n",
              "    </tr>\n",
              "  </thead>\n",
              "  <tbody>\n",
              "    <tr>\n",
              "      <th>0.0</th>\n",
              "      <td>4</td>\n",
              "      <td>18</td>\n",
              "      <td>35</td>\n",
              "      <td>40</td>\n",
              "    </tr>\n",
              "    <tr>\n",
              "      <th>1.0</th>\n",
              "      <td>19</td>\n",
              "      <td>32</td>\n",
              "      <td>51</td>\n",
              "      <td>104</td>\n",
              "    </tr>\n",
              "  </tbody>\n",
              "</table>\n",
              "</div>"
            ],
            "text/plain": [
              "chest-pain-type  1.0  2.0  3.0  4.0\n",
              "sex                                \n",
              "0.0                4   18   35   40\n",
              "1.0               19   32   51  104"
            ]
          },
          "metadata": {
            "tags": []
          },
          "execution_count": 92
        }
      ]
    },
    {
      "cell_type": "code",
      "metadata": {
        "id": "rkvbGPrS5Tyx",
        "colab_type": "code",
        "colab": {
          "base_uri": "https://localhost:8080/",
          "height": 142
        },
        "outputId": "09460d02-539c-4586-f534-946e0651ce84"
      },
      "source": [
        "# Create a fourth crosstab\n",
        "cross4 = pd.crosstab(df3['sex'], df3['diagnosis-of-heart-disease'])\n",
        "cross4"
      ],
      "execution_count": 93,
      "outputs": [
        {
          "output_type": "execute_result",
          "data": {
            "text/html": [
              "<div>\n",
              "<style scoped>\n",
              "    .dataframe tbody tr th:only-of-type {\n",
              "        vertical-align: middle;\n",
              "    }\n",
              "\n",
              "    .dataframe tbody tr th {\n",
              "        vertical-align: top;\n",
              "    }\n",
              "\n",
              "    .dataframe thead th {\n",
              "        text-align: right;\n",
              "    }\n",
              "</style>\n",
              "<table border=\"1\" class=\"dataframe\">\n",
              "  <thead>\n",
              "    <tr style=\"text-align: right;\">\n",
              "      <th>diagnosis-of-heart-disease</th>\n",
              "      <th>0</th>\n",
              "      <th>1</th>\n",
              "      <th>2</th>\n",
              "      <th>3</th>\n",
              "      <th>4</th>\n",
              "    </tr>\n",
              "    <tr>\n",
              "      <th>sex</th>\n",
              "      <th></th>\n",
              "      <th></th>\n",
              "      <th></th>\n",
              "      <th></th>\n",
              "      <th></th>\n",
              "    </tr>\n",
              "  </thead>\n",
              "  <tbody>\n",
              "    <tr>\n",
              "      <th>0.0</th>\n",
              "      <td>72</td>\n",
              "      <td>9</td>\n",
              "      <td>7</td>\n",
              "      <td>7</td>\n",
              "      <td>2</td>\n",
              "    </tr>\n",
              "    <tr>\n",
              "      <th>1.0</th>\n",
              "      <td>92</td>\n",
              "      <td>46</td>\n",
              "      <td>29</td>\n",
              "      <td>28</td>\n",
              "      <td>11</td>\n",
              "    </tr>\n",
              "  </tbody>\n",
              "</table>\n",
              "</div>"
            ],
            "text/plain": [
              "diagnosis-of-heart-disease   0   1   2   3   4\n",
              "sex                                           \n",
              "0.0                         72   9   7   7   2\n",
              "1.0                         92  46  29  28  11"
            ]
          },
          "metadata": {
            "tags": []
          },
          "execution_count": 93
        }
      ]
    },
    {
      "cell_type": "markdown",
      "metadata": {
        "id": "OJ4t2IAk-6Vg",
        "colab_type": "text"
      },
      "source": [
        "## 4) Explore the distributions of the variables of the dataset using:\n",
        "- Histograms\n",
        "- Scatterplots\n",
        "- Density Plots"
      ]
    },
    {
      "cell_type": "code",
      "metadata": {
        "id": "DhES5WmH_NFt",
        "colab_type": "code",
        "colab": {
          "base_uri": "https://localhost:8080/",
          "height": 265
        },
        "outputId": "e676573e-7e04-4691-d12f-c73bea96a117"
      },
      "source": [
        "# Visualize the age column with a histogram\n",
        "df3['age'].hist();"
      ],
      "execution_count": 80,
      "outputs": [
        {
          "output_type": "display_data",
          "data": {
            "image/png": "[encoded data removed]",
            "text/plain": [
              "<Figure size 432x288 with 1 Axes>"
            ]
          },
          "metadata": {
            "tags": []
          }
        }
      ]
    },
    {
      "cell_type": "code",
      "metadata": {
        "id": "cYZssLqpLmSs",
        "colab_type": "code",
        "colab": {
          "base_uri": "https://localhost:8080/",
          "height": 265
        },
        "outputId": "73d2a8c1-69a1-41ed-d206-ace44736a889"
      },
      "source": [
        "# Visualize the cholesterol column with a histogram\n",
        "df3['cholesterol'].hist();"
      ],
      "execution_count": 81,
      "outputs": [
        {
          "output_type": "display_data",
          "data": {
            "image/png": "[encoded data removed]",
            "text/plain": [
              "<Figure size 432x288 with 1 Axes>"
            ]
          },
          "metadata": {
            "tags": []
          }
        }
      ]
    },
    {
      "cell_type": "code",
      "metadata": {
        "id": "vTCAcxtlLmRJ",
        "colab_type": "code",
        "colab": {
          "base_uri": "https://localhost:8080/",
          "height": 279
        },
        "outputId": "104e29c0-a414-4912-8922-6524596c5eb2"
      },
      "source": [
        "# Compare the age and cholesterol columns with a scatterplot\n",
        "df3.plot.scatter('age', 'cholesterol');"
      ],
      "execution_count": 82,
      "outputs": [
        {
          "output_type": "display_data",
          "data": {
            "image/png": "[encoded data removed]",
            "text/plain": [
              "<Figure size 432x288 with 1 Axes>"
            ]
          },
          "metadata": {
            "tags": []
          }
        }
      ]
    },
    {
      "cell_type": "code",
      "metadata": {
        "id": "KvZhmyBNLmMv",
        "colab_type": "code",
        "colab": {
          "base_uri": "https://localhost:8080/",
          "height": 279
        },
        "outputId": "6b832162-6a44-4d4b-86f7-b6e868c9c94d"
      },
      "source": [
        "# Compare the age and resting-bp columns with a scatterplot\n",
        "df3.plot.scatter('age', 'resting-bp');"
      ],
      "execution_count": 84,
      "outputs": [
        {
          "output_type": "display_data",
          "data": {
            "image/png": "[encoded data removed]",
            "text/plain": [
              "<Figure size 432x288 with 1 Axes>"
            ]
          },
          "metadata": {
            "tags": []
          }
        }
      ]
    },
    {
      "cell_type": "code",
      "metadata": {
        "id": "wmU_cQGrLmLP",
        "colab_type": "code",
        "colab": {
          "base_uri": "https://localhost:8080/",
          "height": 265
        },
        "outputId": "16d6b2ac-0048-403b-f2f7-cd782c3e9089"
      },
      "source": [
        "# Visualiz the age column with a density plot\n",
        "df3['age'].plot.density();"
      ],
      "execution_count": 86,
      "outputs": [
        {
          "output_type": "display_data",
          "data": {
            "image/png": "[encoded data removed]",
            "text/plain": [
              "<Figure size 432x288 with 1 Axes>"
            ]
          },
          "metadata": {
            "tags": []
          }
        }
      ]
    },
    {
      "cell_type": "code",
      "metadata": {
        "id": "v4MXMVexLmI0",
        "colab_type": "code",
        "colab": {
          "base_uri": "https://localhost:8080/",
          "height": 265
        },
        "outputId": "97bdb96b-9ecf-4268-8980-c0d49ec54cd1"
      },
      "source": [
        "# Visualize the resting-bp column with a density plot\n",
        "df3['resting-bp'].plot.density();"
      ],
      "execution_count": 88,
      "outputs": [
        {
          "output_type": "display_data",
          "data": {
            "image/png": "[encoded data removed]",
            "text/plain": [
              "<Figure size 432x288 with 1 Axes>"
            ]
          },
          "metadata": {
            "tags": []
          }
        }
      ]
    },
    {
      "cell_type": "code",
      "metadata": {
        "id": "gpSMPOgrLmBr",
        "colab_type": "code",
        "colab": {
          "base_uri": "https://localhost:8080/",
          "height": 265
        },
        "outputId": "36b77dde-e4f9-405b-b5ab-c8b3d13cf8f2"
      },
      "source": [
        "# Visualize the resting-ecg column with a density plot\n",
        "df3['resting-ecg'].plot.density();"
      ],
      "execution_count": 89,
      "outputs": [
        {
          "output_type": "display_data",
          "data": {
            "image/png": "[encoded data removed]",
            "text/plain": [
              "<Figure size 432x288 with 1 Axes>"
            ]
          },
          "metadata": {
            "tags": []
          }
        }
      ]
    },
    {
      "cell_type": "markdown",
      "metadata": {
        "id": "LXXTzpgp_N0q",
        "colab_type": "text"
      },
      "source": [
        "## 5) Create at least one visualization from a crosstab:\n",
        "\n",
        "Remember that a crosstab is just a dataframe and can be manipulated in the same way by row index, column, index, or column/row/cell position.\n"
      ]
    },
    {
      "cell_type": "code",
      "metadata": {
        "id": "kBQKXHUa_VxM",
        "colab_type": "code",
        "colab": {
          "base_uri": "https://localhost:8080/",
          "height": 279
        },
        "outputId": "9e8050ed-c900-46c8-ea70-74de0c971a38"
      },
      "source": [
        "# Visualized our first crosstab with a line plot\n",
        "cross1.plot();"
      ],
      "execution_count": 94,
      "outputs": [
        {
          "output_type": "display_data",
          "data": {
            "image/png": "[encoded data removed]",
            "text/plain": [
              "<Figure size 432x288 with 1 Axes>"
            ]
          },
          "metadata": {
            "tags": []
          }
        }
      ]
    },
    {
      "cell_type": "code",
      "metadata": {
        "id": "LnEu0-fhNFeM",
        "colab_type": "code",
        "colab": {
          "base_uri": "https://localhost:8080/",
          "height": 281
        },
        "outputId": "d9d72f0f-462e-4673-d02d-93b8f023e134"
      },
      "source": [
        "# Visualize our second crosstab with a histogram plot\n",
        "cross2.hist();"
      ],
      "execution_count": 103,
      "outputs": [
        {
          "output_type": "display_data",
          "data": {
            "image/png": "[encoded data removed]",
            "text/plain": [
              "<Figure size 432x288 with 2 Axes>"
            ]
          },
          "metadata": {
            "tags": []
          }
        }
      ]
    },
    {
      "cell_type": "code",
      "metadata": {
        "id": "hBFMUMy5NMEP",
        "colab_type": "code",
        "colab": {
          "base_uri": "https://localhost:8080/",
          "height": 279
        },
        "outputId": "7ed71982-78f2-4534-9ae4-56a7ed5f3991"
      },
      "source": [
        "# Visualize our fourth crosstab with a line plot\n",
        "cross4.plot();"
      ],
      "execution_count": 104,
      "outputs": [
        {
          "output_type": "display_data",
          "data": {
            "image/png": "[encoded data removed]",
            "text/plain": [
              "<Figure size 432x288 with 1 Axes>"
            ]
          },
          "metadata": {
            "tags": []
          }
        }
      ]
    },
    {
      "cell_type": "code",
      "metadata": {
        "id": "W0pndUc1N1-z",
        "colab_type": "code",
        "colab": {
          "base_uri": "https://localhost:8080/",
          "height": 281
        },
        "outputId": "60c10976-edd9-4124-9241-2bb71a8065a3"
      },
      "source": [
        "# Visualize our fourth crosstab with a histogram plot\n",
        "cross4.hist();"
      ],
      "execution_count": 105,
      "outputs": [
        {
          "output_type": "display_data",
          "data": {
            "image/png": "[encoded data removed]",
            "text/plain": [
              "<Figure size 432x288 with 6 Axes>"
            ]
          },
          "metadata": {
            "tags": []
          }
        }
      ]
    },
    {
      "cell_type": "code",
      "metadata": {
        "id": "EEYYUiWoN4UK",
        "colab_type": "code",
        "colab": {
          "base_uri": "https://localhost:8080/",
          "height": 285
        },
        "outputId": "363eef81-834d-4271-85c4-94d2990c9400"
      },
      "source": [
        "# Visualize our third crosstab with a bar plot\n",
        "cross3.plot.bar();"
      ],
      "execution_count": 106,
      "outputs": [
        {
          "output_type": "display_data",
          "data": {
            "image/png": "[encoded data removed]",
            "text/plain": [
              "<Figure size 432x288 with 1 Axes>"
            ]
          },
          "metadata": {
            "tags": []
          }
        }
      ]
    },
    {
      "cell_type": "code",
      "metadata": {
        "id": "oxvL2vvEN-3U",
        "colab_type": "code",
        "colab": {
          "base_uri": "https://localhost:8080/",
          "height": 265
        },
        "outputId": "73361726-45cf-4578-9ded-c1fe189e817a"
      },
      "source": [
        "# Visualize our fourth crosstab with a bar plot\n",
        "cross4.plot.barh();"
      ],
      "execution_count": 109,
      "outputs": [
        {
          "output_type": "display_data",
          "data": {
            "image/png": "[encoded data removed]",
            "text/plain": [
              "<Figure size 432x288 with 1 Axes>"
            ]
          },
          "metadata": {
            "tags": []
          }
        }
      ]
    },
    {
      "cell_type": "markdown",
      "metadata": {
        "id": "MZCxTwKuReV9",
        "colab_type": "text"
      },
      "source": [
        "## Stretch Goals \n",
        "\n",
        "The following additional study tasks are optional, they are intended to give you an opportunity to stretch yourself beyond the main requirements of the assignment. You can pick and choose from the below, you do not need to complete them in any particular order.\n",
        "\n",
        "### - Practice Exploring other Datasets\n",
        "\n",
        "### -  Try using the Seaborn plotting library's \"Pairplot\" functionality in order to explore all of the possible histograms and scatterplots of your dataset all at once:\n",
        "\n",
        "[Seaborn Pairplot](https://seaborn.pydata.org/generated/seaborn.pairplot.html)\n",
        "\n",
        "### - Turn some of the continuous variables into categorical variables by binning the values using:\n",
        "- [pd.cut()](https://pandas.pydata.org/pandas-docs/version/0.23.4/generated/pandas.cut.html)\n",
        "- [pd.qcut()](https://pandas.pydata.org/pandas-docs/stable/reference/api/pandas.qcut.html)\n",
        "- <https://stackoverflow.com/questions/30211923/what-is-the-difference-between-pandas-qcut-and-pandas-cut>\n",
        "\n",
        "And then use crosstabs to compare/visualize these binned variables against the other variables.\n",
        "\n",
        "\n",
        "### - Other types and sources of data\n",
        "Not all data comes in a nice single file - for example, image classification involves handling lots of image files. You still will probably want labels for them, so you may have tabular data in addition to the image blobs - and the images may be reduced in resolution and even fit in a regular csv as a bunch of numbers.\n",
        "\n",
        "If you're interested in natural language processing and analyzing text, that is another example where, while it can be put in a csv, you may end up loading much larger raw data and generating features that can then be thought of in a more standard tabular fashion.\n",
        "\n",
        "Overall you will in the course of learning data science deal with loading data in a variety of ways. Another common way to get data is from a database - most modern applications are backed by one or more databases, which you can query to get data to analyze. We'll cover this more in our data engineering unit.\n",
        "\n",
        "How does data get in the database? Most applications generate logs - text files with lots and lots of records of each use of the application. Databases are often populated based on these files, but in some situations you may directly analyze log files. The usual way to do this is with command line (Unix) tools - command lines are intimidating, so don't expect to learn them all at once, but depending on your interests it can be useful to practice.\n",
        "\n",
        "One last major source of data is APIs: https://github.com/toddmotto/public-apis\n",
        "\n",
        "API stands for Application Programming Interface, and while originally meant e.g. the way an application interfaced with the GUI or other aspects of an operating system, now it largely refers to online services that let you query and retrieve data. You can essentially think of most of them as \"somebody else's database\" - you have (usually limited) access.\n",
        "\n",
        "*Stretch goal* - research one of the above extended forms of data/data loading. See if you can get a basic example working in a notebook. Image, text, or (public) APIs are probably more tractable - databases are interesting, but there aren't many publicly accessible and they require a great deal of setup."
      ]
    },
    {
      "cell_type": "markdown",
      "metadata": {
        "id": "8ohdyUSlWTAe",
        "colab_type": "text"
      },
      "source": [
        "## Practice Exploring other Datasets"
      ]
    },
    {
      "cell_type": "code",
      "metadata": {
        "id": "f4QP6--JBXNK",
        "colab_type": "code",
        "colab": {}
      },
      "source": [
        "# Check the raw data of the dataset\n",
        "!curl https://archive.ics.uci.edu/ml/machine-learning-databases/bridges/bridges.data.version2"
      ],
      "execution_count": 0,
      "outputs": []
    },
    {
      "cell_type": "code",
      "metadata": {
        "id": "9lMGkK9tXeWI",
        "colab_type": "code",
        "colab": {}
      },
      "source": [
        "# Check the given attributes/column names of the dataset\n",
        "!curl https://archive.ics.uci.edu/ml/machine-learning-databases/bridges/bridges.names"
      ],
      "execution_count": 0,
      "outputs": []
    },
    {
      "cell_type": "code",
      "metadata": {
        "id": "Roalql2mYy-M",
        "colab_type": "code",
        "colab": {}
      },
      "source": [
        "# Create column names and a variable that holds the dataset's url\n",
        "bridge_columns = ['identifier', 'river', 'location', 'erected', 'purpose', \n",
        "                  'length', 'lanes', 'clear-g', 't-or-d', 'material', 'span', \n",
        "                  'rel-l', 'type']\n",
        "bridge_url = 'https://archive.ics.uci.edu/ml/machine-learning-databases/bridges/bridges.data.version2'"
      ],
      "execution_count": 0,
      "outputs": []
    },
    {
      "cell_type": "code",
      "metadata": {
        "id": "uP9G6wjVZjpN",
        "colab_type": "code",
        "colab": {
          "base_uri": "https://localhost:8080/",
          "height": 204
        },
        "outputId": "b952ef6b-d2d7-40d2-e305-50563ee303fd"
      },
      "source": [
        "# Read in dataset and view first five rows\n",
        "pitts_bridges = pd.read_csv(bridge_url, header=None, names=bridge_columns)\n",
        "pitts_bridges.head()"
      ],
      "execution_count": 120,
      "outputs": [
        {
          "output_type": "execute_result",
          "data": {
            "text/html": [
              "<div>\n",
              "<style scoped>\n",
              "    .dataframe tbody tr th:only-of-type {\n",
              "        vertical-align: middle;\n",
              "    }\n",
              "\n",
              "    .dataframe tbody tr th {\n",
              "        vertical-align: top;\n",
              "    }\n",
              "\n",
              "    .dataframe thead th {\n",
              "        text-align: right;\n",
              "    }\n",
              "</style>\n",
              "<table border=\"1\" class=\"dataframe\">\n",
              "  <thead>\n",
              "    <tr style=\"text-align: right;\">\n",
              "      <th></th>\n",
              "      <th>identifier</th>\n",
              "      <th>river</th>\n",
              "      <th>location</th>\n",
              "      <th>erected</th>\n",
              "      <th>purpose</th>\n",
              "      <th>length</th>\n",
              "      <th>lanes</th>\n",
              "      <th>clear-g</th>\n",
              "      <th>t-or-d</th>\n",
              "      <th>material</th>\n",
              "      <th>span</th>\n",
              "      <th>rel-l</th>\n",
              "      <th>type</th>\n",
              "    </tr>\n",
              "  </thead>\n",
              "  <tbody>\n",
              "    <tr>\n",
              "      <th>0</th>\n",
              "      <td>E1</td>\n",
              "      <td>M</td>\n",
              "      <td>3</td>\n",
              "      <td>CRAFTS</td>\n",
              "      <td>HIGHWAY</td>\n",
              "      <td>?</td>\n",
              "      <td>2</td>\n",
              "      <td>N</td>\n",
              "      <td>THROUGH</td>\n",
              "      <td>WOOD</td>\n",
              "      <td>SHORT</td>\n",
              "      <td>S</td>\n",
              "      <td>WOOD</td>\n",
              "    </tr>\n",
              "    <tr>\n",
              "      <th>1</th>\n",
              "      <td>E2</td>\n",
              "      <td>A</td>\n",
              "      <td>25</td>\n",
              "      <td>CRAFTS</td>\n",
              "      <td>HIGHWAY</td>\n",
              "      <td>MEDIUM</td>\n",
              "      <td>2</td>\n",
              "      <td>N</td>\n",
              "      <td>THROUGH</td>\n",
              "      <td>WOOD</td>\n",
              "      <td>SHORT</td>\n",
              "      <td>S</td>\n",
              "      <td>WOOD</td>\n",
              "    </tr>\n",
              "    <tr>\n",
              "      <th>2</th>\n",
              "      <td>E3</td>\n",
              "      <td>A</td>\n",
              "      <td>39</td>\n",
              "      <td>CRAFTS</td>\n",
              "      <td>AQUEDUCT</td>\n",
              "      <td>?</td>\n",
              "      <td>1</td>\n",
              "      <td>N</td>\n",
              "      <td>THROUGH</td>\n",
              "      <td>WOOD</td>\n",
              "      <td>?</td>\n",
              "      <td>S</td>\n",
              "      <td>WOOD</td>\n",
              "    </tr>\n",
              "    <tr>\n",
              "      <th>3</th>\n",
              "      <td>E5</td>\n",
              "      <td>A</td>\n",
              "      <td>29</td>\n",
              "      <td>CRAFTS</td>\n",
              "      <td>HIGHWAY</td>\n",
              "      <td>MEDIUM</td>\n",
              "      <td>2</td>\n",
              "      <td>N</td>\n",
              "      <td>THROUGH</td>\n",
              "      <td>WOOD</td>\n",
              "      <td>SHORT</td>\n",
              "      <td>S</td>\n",
              "      <td>WOOD</td>\n",
              "    </tr>\n",
              "    <tr>\n",
              "      <th>4</th>\n",
              "      <td>E6</td>\n",
              "      <td>M</td>\n",
              "      <td>23</td>\n",
              "      <td>CRAFTS</td>\n",
              "      <td>HIGHWAY</td>\n",
              "      <td>?</td>\n",
              "      <td>2</td>\n",
              "      <td>N</td>\n",
              "      <td>THROUGH</td>\n",
              "      <td>WOOD</td>\n",
              "      <td>?</td>\n",
              "      <td>S</td>\n",
              "      <td>WOOD</td>\n",
              "    </tr>\n",
              "  </tbody>\n",
              "</table>\n",
              "</div>"
            ],
            "text/plain": [
              "  identifier river location erected  ... material   span rel-l  type\n",
              "0         E1     M        3  CRAFTS  ...     WOOD  SHORT     S  WOOD\n",
              "1         E2     A       25  CRAFTS  ...     WOOD  SHORT     S  WOOD\n",
              "2         E3     A       39  CRAFTS  ...     WOOD      ?     S  WOOD\n",
              "3         E5     A       29  CRAFTS  ...     WOOD  SHORT     S  WOOD\n",
              "4         E6     M       23  CRAFTS  ...     WOOD      ?     S  WOOD\n",
              "\n",
              "[5 rows x 13 columns]"
            ]
          },
          "metadata": {
            "tags": []
          },
          "execution_count": 120
        }
      ]
    },
    {
      "cell_type": "code",
      "metadata": {
        "id": "0ot_PwskZ4Z6",
        "colab_type": "code",
        "colab": {
          "base_uri": "https://localhost:8080/",
          "height": 204
        },
        "outputId": "e2e8850b-b860-45c7-906f-3b32726e227f"
      },
      "source": [
        "# View the last five rows\n",
        "pitts_bridges.tail()"
      ],
      "execution_count": 121,
      "outputs": [
        {
          "output_type": "execute_result",
          "data": {
            "text/html": [
              "<div>\n",
              "<style scoped>\n",
              "    .dataframe tbody tr th:only-of-type {\n",
              "        vertical-align: middle;\n",
              "    }\n",
              "\n",
              "    .dataframe tbody tr th {\n",
              "        vertical-align: top;\n",
              "    }\n",
              "\n",
              "    .dataframe thead th {\n",
              "        text-align: right;\n",
              "    }\n",
              "</style>\n",
              "<table border=\"1\" class=\"dataframe\">\n",
              "  <thead>\n",
              "    <tr style=\"text-align: right;\">\n",
              "      <th></th>\n",
              "      <th>identifier</th>\n",
              "      <th>river</th>\n",
              "      <th>location</th>\n",
              "      <th>erected</th>\n",
              "      <th>purpose</th>\n",
              "      <th>length</th>\n",
              "      <th>lanes</th>\n",
              "      <th>clear-g</th>\n",
              "      <th>t-or-d</th>\n",
              "      <th>material</th>\n",
              "      <th>span</th>\n",
              "      <th>rel-l</th>\n",
              "      <th>type</th>\n",
              "    </tr>\n",
              "  </thead>\n",
              "  <tbody>\n",
              "    <tr>\n",
              "      <th>103</th>\n",
              "      <td>E84</td>\n",
              "      <td>A</td>\n",
              "      <td>24</td>\n",
              "      <td>MODERN</td>\n",
              "      <td>HIGHWAY</td>\n",
              "      <td>SHORT</td>\n",
              "      <td>6</td>\n",
              "      <td>G</td>\n",
              "      <td>THROUGH</td>\n",
              "      <td>STEEL</td>\n",
              "      <td>MEDIUM</td>\n",
              "      <td>F</td>\n",
              "      <td>ARCH</td>\n",
              "    </tr>\n",
              "    <tr>\n",
              "      <th>104</th>\n",
              "      <td>E91</td>\n",
              "      <td>O</td>\n",
              "      <td>44</td>\n",
              "      <td>MODERN</td>\n",
              "      <td>HIGHWAY</td>\n",
              "      <td>LONG</td>\n",
              "      <td>6</td>\n",
              "      <td>G</td>\n",
              "      <td>THROUGH</td>\n",
              "      <td>STEEL</td>\n",
              "      <td>LONG</td>\n",
              "      <td>F</td>\n",
              "      <td>ARCH</td>\n",
              "    </tr>\n",
              "    <tr>\n",
              "      <th>105</th>\n",
              "      <td>E90</td>\n",
              "      <td>M</td>\n",
              "      <td>7</td>\n",
              "      <td>MODERN</td>\n",
              "      <td>HIGHWAY</td>\n",
              "      <td>SHORT</td>\n",
              "      <td>6</td>\n",
              "      <td>G</td>\n",
              "      <td>THROUGH</td>\n",
              "      <td>STEEL</td>\n",
              "      <td>LONG</td>\n",
              "      <td>F</td>\n",
              "      <td>ARCH</td>\n",
              "    </tr>\n",
              "    <tr>\n",
              "      <th>106</th>\n",
              "      <td>E100</td>\n",
              "      <td>O</td>\n",
              "      <td>43</td>\n",
              "      <td>MODERN</td>\n",
              "      <td>HIGHWAY</td>\n",
              "      <td>?</td>\n",
              "      <td>?</td>\n",
              "      <td>G</td>\n",
              "      <td>?</td>\n",
              "      <td>?</td>\n",
              "      <td>?</td>\n",
              "      <td>F</td>\n",
              "      <td>?</td>\n",
              "    </tr>\n",
              "    <tr>\n",
              "      <th>107</th>\n",
              "      <td>E109</td>\n",
              "      <td>A</td>\n",
              "      <td>28</td>\n",
              "      <td>MODERN</td>\n",
              "      <td>HIGHWAY</td>\n",
              "      <td>?</td>\n",
              "      <td>?</td>\n",
              "      <td>G</td>\n",
              "      <td>?</td>\n",
              "      <td>?</td>\n",
              "      <td>?</td>\n",
              "      <td>F</td>\n",
              "      <td>?</td>\n",
              "    </tr>\n",
              "  </tbody>\n",
              "</table>\n",
              "</div>"
            ],
            "text/plain": [
              "    identifier river location erected  ... material    span rel-l  type\n",
              "103        E84     A       24  MODERN  ...    STEEL  MEDIUM     F  ARCH\n",
              "104        E91     O       44  MODERN  ...    STEEL    LONG     F  ARCH\n",
              "105        E90     M        7  MODERN  ...    STEEL    LONG     F  ARCH\n",
              "106       E100     O       43  MODERN  ...        ?       ?     F     ?\n",
              "107       E109     A       28  MODERN  ...        ?       ?     F     ?\n",
              "\n",
              "[5 rows x 13 columns]"
            ]
          },
          "metadata": {
            "tags": []
          },
          "execution_count": 121
        }
      ]
    },
    {
      "cell_type": "code",
      "metadata": {
        "id": "F_-xcaP0Z6zV",
        "colab_type": "code",
        "colab": {
          "base_uri": "https://localhost:8080/",
          "height": 34
        },
        "outputId": "471df09f-e3db-44e2-b103-781fbf855772"
      },
      "source": [
        "# Check the dataframe's shape \n",
        "pitts_bridges.shape"
      ],
      "execution_count": 122,
      "outputs": [
        {
          "output_type": "execute_result",
          "data": {
            "text/plain": [
              "(108, 13)"
            ]
          },
          "metadata": {
            "tags": []
          },
          "execution_count": 122
        }
      ]
    },
    {
      "cell_type": "code",
      "metadata": {
        "id": "kzfrTJ7IbTxM",
        "colab_type": "code",
        "colab": {
          "base_uri": "https://localhost:8080/",
          "height": 173
        },
        "outputId": "01ff041d-ec0d-40e2-dac1-480543da984e"
      },
      "source": [
        "# Look into the statistical summary of the dataframe\n",
        "pitts_bridges.describe()"
      ],
      "execution_count": 124,
      "outputs": [
        {
          "output_type": "execute_result",
          "data": {
            "text/html": [
              "<div>\n",
              "<style scoped>\n",
              "    .dataframe tbody tr th:only-of-type {\n",
              "        vertical-align: middle;\n",
              "    }\n",
              "\n",
              "    .dataframe tbody tr th {\n",
              "        vertical-align: top;\n",
              "    }\n",
              "\n",
              "    .dataframe thead th {\n",
              "        text-align: right;\n",
              "    }\n",
              "</style>\n",
              "<table border=\"1\" class=\"dataframe\">\n",
              "  <thead>\n",
              "    <tr style=\"text-align: right;\">\n",
              "      <th></th>\n",
              "      <th>identifier</th>\n",
              "      <th>river</th>\n",
              "      <th>location</th>\n",
              "      <th>erected</th>\n",
              "      <th>purpose</th>\n",
              "      <th>length</th>\n",
              "      <th>lanes</th>\n",
              "      <th>clear-g</th>\n",
              "      <th>t-or-d</th>\n",
              "      <th>material</th>\n",
              "      <th>span</th>\n",
              "      <th>rel-l</th>\n",
              "      <th>type</th>\n",
              "    </tr>\n",
              "  </thead>\n",
              "  <tbody>\n",
              "    <tr>\n",
              "      <th>count</th>\n",
              "      <td>108</td>\n",
              "      <td>108</td>\n",
              "      <td>108</td>\n",
              "      <td>108</td>\n",
              "      <td>108</td>\n",
              "      <td>108</td>\n",
              "      <td>108</td>\n",
              "      <td>108</td>\n",
              "      <td>108</td>\n",
              "      <td>108</td>\n",
              "      <td>108</td>\n",
              "      <td>108</td>\n",
              "      <td>108</td>\n",
              "    </tr>\n",
              "    <tr>\n",
              "      <th>unique</th>\n",
              "      <td>108</td>\n",
              "      <td>4</td>\n",
              "      <td>55</td>\n",
              "      <td>4</td>\n",
              "      <td>4</td>\n",
              "      <td>4</td>\n",
              "      <td>5</td>\n",
              "      <td>3</td>\n",
              "      <td>3</td>\n",
              "      <td>4</td>\n",
              "      <td>4</td>\n",
              "      <td>4</td>\n",
              "      <td>8</td>\n",
              "    </tr>\n",
              "    <tr>\n",
              "      <th>top</th>\n",
              "      <td>E65</td>\n",
              "      <td>A</td>\n",
              "      <td>39</td>\n",
              "      <td>MATURE</td>\n",
              "      <td>HIGHWAY</td>\n",
              "      <td>MEDIUM</td>\n",
              "      <td>2</td>\n",
              "      <td>G</td>\n",
              "      <td>THROUGH</td>\n",
              "      <td>STEEL</td>\n",
              "      <td>MEDIUM</td>\n",
              "      <td>F</td>\n",
              "      <td>SIMPLE-T</td>\n",
              "    </tr>\n",
              "    <tr>\n",
              "      <th>freq</th>\n",
              "      <td>1</td>\n",
              "      <td>49</td>\n",
              "      <td>5</td>\n",
              "      <td>54</td>\n",
              "      <td>71</td>\n",
              "      <td>48</td>\n",
              "      <td>61</td>\n",
              "      <td>80</td>\n",
              "      <td>87</td>\n",
              "      <td>79</td>\n",
              "      <td>53</td>\n",
              "      <td>58</td>\n",
              "      <td>44</td>\n",
              "    </tr>\n",
              "  </tbody>\n",
              "</table>\n",
              "</div>"
            ],
            "text/plain": [
              "       identifier river location erected  ... material    span rel-l      type\n",
              "count         108   108      108     108  ...      108     108   108       108\n",
              "unique        108     4       55       4  ...        4       4     4         8\n",
              "top           E65     A       39  MATURE  ...    STEEL  MEDIUM     F  SIMPLE-T\n",
              "freq            1    49        5      54  ...       79      53    58        44\n",
              "\n",
              "[4 rows x 13 columns]"
            ]
          },
          "metadata": {
            "tags": []
          },
          "execution_count": 124
        }
      ]
    },
    {
      "cell_type": "code",
      "metadata": {
        "id": "0LHUbvgTbwd7",
        "colab_type": "code",
        "colab": {
          "base_uri": "https://localhost:8080/",
          "height": 255
        },
        "outputId": "2f0f5fc2-7d35-426a-858e-deeea9c94f5f"
      },
      "source": [
        "# Look at the datatypes of each column in the dataframe\n",
        "pitts_bridges.dtypes"
      ],
      "execution_count": 125,
      "outputs": [
        {
          "output_type": "execute_result",
          "data": {
            "text/plain": [
              "identifier    object\n",
              "river         object\n",
              "location      object\n",
              "erected       object\n",
              "purpose       object\n",
              "length        object\n",
              "lanes         object\n",
              "clear-g       object\n",
              "t-or-d        object\n",
              "material      object\n",
              "span          object\n",
              "rel-l         object\n",
              "type          object\n",
              "dtype: object"
            ]
          },
          "metadata": {
            "tags": []
          },
          "execution_count": 125
        }
      ]
    },
    {
      "cell_type": "code",
      "metadata": {
        "id": "FxoHJirEb38i",
        "colab_type": "code",
        "colab": {
          "base_uri": "https://localhost:8080/",
          "height": 255
        },
        "outputId": "3ffbfe76-b98a-4bf2-f1f4-2cbcdd5c058b"
      },
      "source": [
        "# Check for null values in the dataframe\n",
        "pitts_bridges.isnull().sum()"
      ],
      "execution_count": 126,
      "outputs": [
        {
          "output_type": "execute_result",
          "data": {
            "text/plain": [
              "identifier    0\n",
              "river         0\n",
              "location      0\n",
              "erected       0\n",
              "purpose       0\n",
              "length        0\n",
              "lanes         0\n",
              "clear-g       0\n",
              "t-or-d        0\n",
              "material      0\n",
              "span          0\n",
              "rel-l         0\n",
              "type          0\n",
              "dtype: int64"
            ]
          },
          "metadata": {
            "tags": []
          },
          "execution_count": 126
        }
      ]
    },
    {
      "cell_type": "code",
      "metadata": {
        "id": "sNWjZT12cjtD",
        "colab_type": "code",
        "colab": {
          "base_uri": "https://localhost:8080/",
          "height": 204
        },
        "outputId": "3fc5a2b5-ea02-4a15-fa72-027d46bc51bf"
      },
      "source": [
        "erected_by_length = pd.crosstab(pitts_bridges['erected'], pitts_bridges['length'])\n",
        "erected_by_length"
      ],
      "execution_count": 128,
      "outputs": [
        {
          "output_type": "execute_result",
          "data": {
            "text/html": [
              "<div>\n",
              "<style scoped>\n",
              "    .dataframe tbody tr th:only-of-type {\n",
              "        vertical-align: middle;\n",
              "    }\n",
              "\n",
              "    .dataframe tbody tr th {\n",
              "        vertical-align: top;\n",
              "    }\n",
              "\n",
              "    .dataframe thead th {\n",
              "        text-align: right;\n",
              "    }\n",
              "</style>\n",
              "<table border=\"1\" class=\"dataframe\">\n",
              "  <thead>\n",
              "    <tr style=\"text-align: right;\">\n",
              "      <th>length</th>\n",
              "      <th>?</th>\n",
              "      <th>LONG</th>\n",
              "      <th>MEDIUM</th>\n",
              "      <th>SHORT</th>\n",
              "    </tr>\n",
              "    <tr>\n",
              "      <th>erected</th>\n",
              "      <th></th>\n",
              "      <th></th>\n",
              "      <th></th>\n",
              "      <th></th>\n",
              "    </tr>\n",
              "  </thead>\n",
              "  <tbody>\n",
              "    <tr>\n",
              "      <th>CRAFTS</th>\n",
              "      <td>7</td>\n",
              "      <td>0</td>\n",
              "      <td>10</td>\n",
              "      <td>1</td>\n",
              "    </tr>\n",
              "    <tr>\n",
              "      <th>EMERGING</th>\n",
              "      <td>6</td>\n",
              "      <td>1</td>\n",
              "      <td>8</td>\n",
              "      <td>0</td>\n",
              "    </tr>\n",
              "    <tr>\n",
              "      <th>MATURE</th>\n",
              "      <td>10</td>\n",
              "      <td>15</td>\n",
              "      <td>24</td>\n",
              "      <td>5</td>\n",
              "    </tr>\n",
              "    <tr>\n",
              "      <th>MODERN</th>\n",
              "      <td>4</td>\n",
              "      <td>5</td>\n",
              "      <td>6</td>\n",
              "      <td>6</td>\n",
              "    </tr>\n",
              "  </tbody>\n",
              "</table>\n",
              "</div>"
            ],
            "text/plain": [
              "length     ?  LONG  MEDIUM  SHORT\n",
              "erected                          \n",
              "CRAFTS     7     0      10      1\n",
              "EMERGING   6     1       8      0\n",
              "MATURE    10    15      24      5\n",
              "MODERN     4     5       6      6"
            ]
          },
          "metadata": {
            "tags": []
          },
          "execution_count": 128
        }
      ]
    },
    {
      "cell_type": "code",
      "metadata": {
        "id": "SDInOzikd4qU",
        "colab_type": "code",
        "colab": {}
      },
      "source": [
        "# A quick note: We have a question mark, which is indicative of empty values not identified \n",
        "# by the isnull command"
      ],
      "execution_count": 0,
      "outputs": []
    },
    {
      "cell_type": "code",
      "metadata": {
        "id": "R2TidoJceOwE",
        "colab_type": "code",
        "colab": {}
      },
      "source": [
        ""
      ],
      "execution_count": 0,
      "outputs": []
    }
  ]
}