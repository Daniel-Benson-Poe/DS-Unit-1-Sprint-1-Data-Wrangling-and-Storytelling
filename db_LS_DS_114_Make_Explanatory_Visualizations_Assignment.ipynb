{
  "nbformat": 4,
  "nbformat_minor": 0,
  "metadata": {
    "colab": {
      "name": "db_LS_DS_114_Make_Explanatory_Visualizations_Assignment.ipynb",
      "provenance": [],
      "collapsed_sections": [],
      "include_colab_link": true
    },
    "language_info": {
      "codemirror_mode": {
        "name": "ipython",
        "version": 3
      },
      "file_extension": ".py",
      "mimetype": "text/x-python",
      "name": "python",
      "nbconvert_exporter": "python",
      "pygments_lexer": "ipython3",
      "version": "3.7.1"
    },
    "kernelspec": {
      "display_name": "Python 3",
      "language": "python",
      "name": "python3"
    }
  },
  "cells": [
    {
      "cell_type": "markdown",
      "metadata": {
        "id": "view-in-github",
        "colab_type": "text"
      },
      "source": [
        "<a href=\"https://colab.research.google.com/github/Daniel-Benson-Poe/DS-Unit-1-Sprint-1-Data-Wrangling-and-Storytelling/blob/master/db_LS_DS_114_Make_Explanatory_Visualizations_Assignment.ipynb\" target=\"_parent\"><img src=\"https://colab.research.google.com/assets/colab-badge.svg\" alt=\"Open In Colab\"/></a>"
      ]
    },
    {
      "cell_type": "markdown",
      "metadata": {
        "colab_type": "text",
        "id": "NMEswXWh9mqw"
      },
      "source": [
        "Lambda School Data Science\n",
        "\n",
        "*Unit 1, Sprint 1, Module 4*\n",
        "\n",
        "---\n",
        "\n",
        "# ASSIGNMENT\n",
        "\n",
        "### 1) Replicate the lesson code. I recommend that you [do not copy-paste](https://docs.google.com/document/d/1ubOw9B3Hfip27hF2ZFnW3a3z9xAgrUDRReOEo-FHCVs/edit).\n",
        "\n",
        "Get caught up to where we got our example in class and then try and take things further. How close to \"pixel perfect\" can you make the lecture graph?\n",
        "\n",
        "Once you have something that you're proud of, share your graph in the cohort channel and move on to the second exercise.\n",
        "\n",
        "### 2) Reproduce another example from [FiveThityEight's shared data repository](https://data.fivethirtyeight.com/).\n",
        "\n",
        "**WARNING**: There are a lot of very custom graphs and tables at the above link. I **highly** recommend not trying to reproduce any that look like a table of values or something really different from the graph types that we are already familiar with. Search through the posts until you find a graph type that you are more or less familiar with: histogram, bar chart, stacked bar chart, line chart, [seaborn relplot](https://seaborn.pydata.org/generated/seaborn.relplot.html), etc. Recreating some of the graphics that 538 uses would be a lot easier in Adobe photoshop/illustrator than with matplotlib. \n",
        "\n",
        "- If you put in some time to find a graph that looks \"easy\" to replicate you'll probably find that it's not as easy as you thought. \n",
        "\n",
        "- If you start with a graph that looks hard to replicate you'll probably run up against a brick wall and be disappointed with your afternoon.\n",
        "\n",
        "\n",
        "\n",
        "\n",
        "\n",
        "\n",
        "\n",
        "\n",
        "\n",
        "\n"
      ]
    },
    {
      "cell_type": "markdown",
      "metadata": {
        "id": "IfWR_luXVfDT",
        "colab_type": "text"
      },
      "source": [
        "## 1) Replicate the lesson code."
      ]
    },
    {
      "cell_type": "code",
      "metadata": {
        "id": "7SY1ZHawyZvz",
        "colab_type": "code",
        "colab": {}
      },
      "source": [
        "# imports\n",
        "import pandas as pd\n",
        "import numpy as np\n",
        "import matplotlib.pyplot as plt"
      ],
      "execution_count": 0,
      "outputs": []
    },
    {
      "cell_type": "code",
      "metadata": {
        "id": "iHR4dbfzVdZ6",
        "colab_type": "code",
        "outputId": "a29c9a15-692b-47b6-8b14-c04965c7966c",
        "colab": {
          "base_uri": "https://localhost:8080/",
          "height": 54
        }
      },
      "source": [
        "# use the 'magic' symbol (%) to specify some non-python code (i.e., affects the underlying jupyter kernel).\n",
        "%matplotlib inline\n",
        "'''\n",
        "That line is only for jupyter notebooks, and allows plt figures to show up in your noteboook.\n",
        "if you are using another editor, you'll use: \n",
        " plt.show() \n",
        "at the end of all your plotting commands to have the figure pop up in another window.\n",
        "'''"
      ],
      "execution_count": 2,
      "outputs": [
        {
          "output_type": "execute_result",
          "data": {
            "text/plain": [
              "\"\\nThat line is only for jupyter notebooks, and allows plt figures to show up in your noteboook.\\nif you are using another editor, you'll use: \\n plt.show() \\nat the end of all your plotting commands to have the figure pop up in another window.\\n\""
            ]
          },
          "metadata": {
            "tags": []
          },
          "execution_count": 2
        }
      ]
    },
    {
      "cell_type": "code",
      "metadata": {
        "id": "uVlxzuG5VdYm",
        "colab_type": "code",
        "colab": {}
      },
      "source": [
        "# Specify the plot style we want to use\n",
        "plt.style.use('fast')\n",
        "# Although fast is the default style so we really don't have to set it"
      ],
      "execution_count": 0,
      "outputs": []
    },
    {
      "cell_type": "markdown",
      "metadata": {
        "id": "-FuoZotTWCAo",
        "colab_type": "text"
      },
      "source": [
        "Part 1. Pandas Built in Visualization Tools"
      ]
    },
    {
      "cell_type": "code",
      "metadata": {
        "id": "EE9iSSCAVdWy",
        "colab_type": "code",
        "outputId": "2cb09526-d449-4f5d-b4e0-735ca1428e59",
        "colab": {
          "base_uri": "https://localhost:8080/",
          "height": 197
        }
      },
      "source": [
        "# Read in titanic dataset\n",
        "url = 'https://raw.githubusercontent.com/austinlasseter/pandas_visualization/master/data/titanic.csv'\n",
        "\n",
        "df = pd.read_csv(url)\n",
        "df.head()"
      ],
      "execution_count": 0,
      "outputs": [
        {
          "output_type": "execute_result",
          "data": {
            "text/html": [
              "<div>\n",
              "<style scoped>\n",
              "    .dataframe tbody tr th:only-of-type {\n",
              "        vertical-align: middle;\n",
              "    }\n",
              "\n",
              "    .dataframe tbody tr th {\n",
              "        vertical-align: top;\n",
              "    }\n",
              "\n",
              "    .dataframe thead th {\n",
              "        text-align: right;\n",
              "    }\n",
              "</style>\n",
              "<table border=\"1\" class=\"dataframe\">\n",
              "  <thead>\n",
              "    <tr style=\"text-align: right;\">\n",
              "      <th></th>\n",
              "      <th>Survived</th>\n",
              "      <th>Pclass</th>\n",
              "      <th>Sex</th>\n",
              "      <th>Age</th>\n",
              "      <th>Fare</th>\n",
              "      <th>Embarked</th>\n",
              "    </tr>\n",
              "  </thead>\n",
              "  <tbody>\n",
              "    <tr>\n",
              "      <th>0</th>\n",
              "      <td>0</td>\n",
              "      <td>3</td>\n",
              "      <td>male</td>\n",
              "      <td>22.0</td>\n",
              "      <td>7.2500</td>\n",
              "      <td>Southampton</td>\n",
              "    </tr>\n",
              "    <tr>\n",
              "      <th>1</th>\n",
              "      <td>1</td>\n",
              "      <td>1</td>\n",
              "      <td>female</td>\n",
              "      <td>38.0</td>\n",
              "      <td>71.2833</td>\n",
              "      <td>Cherbourg</td>\n",
              "    </tr>\n",
              "    <tr>\n",
              "      <th>2</th>\n",
              "      <td>1</td>\n",
              "      <td>3</td>\n",
              "      <td>female</td>\n",
              "      <td>26.0</td>\n",
              "      <td>7.9250</td>\n",
              "      <td>Southampton</td>\n",
              "    </tr>\n",
              "    <tr>\n",
              "      <th>3</th>\n",
              "      <td>1</td>\n",
              "      <td>1</td>\n",
              "      <td>female</td>\n",
              "      <td>35.0</td>\n",
              "      <td>53.1000</td>\n",
              "      <td>Southampton</td>\n",
              "    </tr>\n",
              "    <tr>\n",
              "      <th>4</th>\n",
              "      <td>0</td>\n",
              "      <td>3</td>\n",
              "      <td>male</td>\n",
              "      <td>35.0</td>\n",
              "      <td>8.0500</td>\n",
              "      <td>Southampton</td>\n",
              "    </tr>\n",
              "  </tbody>\n",
              "</table>\n",
              "</div>"
            ],
            "text/plain": [
              "   Survived  Pclass     Sex   Age     Fare     Embarked\n",
              "0         0       3    male  22.0   7.2500  Southampton\n",
              "1         1       1  female  38.0  71.2833    Cherbourg\n",
              "2         1       3  female  26.0   7.9250  Southampton\n",
              "3         1       1  female  35.0  53.1000  Southampton\n",
              "4         0       3    male  35.0   8.0500  Southampton"
            ]
          },
          "metadata": {
            "tags": []
          },
          "execution_count": 5
        }
      ]
    },
    {
      "cell_type": "code",
      "metadata": {
        "id": "nNAIDqsvVdTK",
        "colab_type": "code",
        "outputId": "08bdbdfe-0649-4176-8486-27e906525e1e",
        "colab": {
          "base_uri": "https://localhost:8080/",
          "height": 197
        }
      },
      "source": [
        "# Cabin class is categorical\n",
        "# it can be displayed using number or string values\n",
        "df['cabin_class'] = df['Pclass'].map({1:'first', 2:'second', 3:'third'})\n",
        "df.head()"
      ],
      "execution_count": 0,
      "outputs": [
        {
          "output_type": "execute_result",
          "data": {
            "text/html": [
              "<div>\n",
              "<style scoped>\n",
              "    .dataframe tbody tr th:only-of-type {\n",
              "        vertical-align: middle;\n",
              "    }\n",
              "\n",
              "    .dataframe tbody tr th {\n",
              "        vertical-align: top;\n",
              "    }\n",
              "\n",
              "    .dataframe thead th {\n",
              "        text-align: right;\n",
              "    }\n",
              "</style>\n",
              "<table border=\"1\" class=\"dataframe\">\n",
              "  <thead>\n",
              "    <tr style=\"text-align: right;\">\n",
              "      <th></th>\n",
              "      <th>Survived</th>\n",
              "      <th>Pclass</th>\n",
              "      <th>Sex</th>\n",
              "      <th>Age</th>\n",
              "      <th>Fare</th>\n",
              "      <th>Embarked</th>\n",
              "      <th>cabin_class</th>\n",
              "    </tr>\n",
              "  </thead>\n",
              "  <tbody>\n",
              "    <tr>\n",
              "      <th>0</th>\n",
              "      <td>0</td>\n",
              "      <td>3</td>\n",
              "      <td>male</td>\n",
              "      <td>22.0</td>\n",
              "      <td>7.2500</td>\n",
              "      <td>Southampton</td>\n",
              "      <td>third</td>\n",
              "    </tr>\n",
              "    <tr>\n",
              "      <th>1</th>\n",
              "      <td>1</td>\n",
              "      <td>1</td>\n",
              "      <td>female</td>\n",
              "      <td>38.0</td>\n",
              "      <td>71.2833</td>\n",
              "      <td>Cherbourg</td>\n",
              "      <td>first</td>\n",
              "    </tr>\n",
              "    <tr>\n",
              "      <th>2</th>\n",
              "      <td>1</td>\n",
              "      <td>3</td>\n",
              "      <td>female</td>\n",
              "      <td>26.0</td>\n",
              "      <td>7.9250</td>\n",
              "      <td>Southampton</td>\n",
              "      <td>third</td>\n",
              "    </tr>\n",
              "    <tr>\n",
              "      <th>3</th>\n",
              "      <td>1</td>\n",
              "      <td>1</td>\n",
              "      <td>female</td>\n",
              "      <td>35.0</td>\n",
              "      <td>53.1000</td>\n",
              "      <td>Southampton</td>\n",
              "      <td>first</td>\n",
              "    </tr>\n",
              "    <tr>\n",
              "      <th>4</th>\n",
              "      <td>0</td>\n",
              "      <td>3</td>\n",
              "      <td>male</td>\n",
              "      <td>35.0</td>\n",
              "      <td>8.0500</td>\n",
              "      <td>Southampton</td>\n",
              "      <td>third</td>\n",
              "    </tr>\n",
              "  </tbody>\n",
              "</table>\n",
              "</div>"
            ],
            "text/plain": [
              "   Survived  Pclass     Sex   Age     Fare     Embarked cabin_class\n",
              "0         0       3    male  22.0   7.2500  Southampton       third\n",
              "1         1       1  female  38.0  71.2833    Cherbourg       first\n",
              "2         1       3  female  26.0   7.9250  Southampton       third\n",
              "3         1       1  female  35.0  53.1000  Southampton       first\n",
              "4         0       3    male  35.0   8.0500  Southampton       third"
            ]
          },
          "metadata": {
            "tags": []
          },
          "execution_count": 5
        }
      ]
    },
    {
      "cell_type": "code",
      "metadata": {
        "id": "77TyQeD4VdQr",
        "colab_type": "code",
        "outputId": "56811cf7-faf7-4323-a168-bd4314459bbc",
        "colab": {
          "base_uri": "https://localhost:8080/",
          "height": 266
        }
      },
      "source": [
        "# Fare is a continuous variable so it can be displayed with a histogram\n",
        "df['Fare'].plot(kind='hist');"
      ],
      "execution_count": 0,
      "outputs": [
        {
          "output_type": "display_data",
          "data": {
            "image/png": "[encoded data removed]",
            "text/plain": [
              "<Figure size 432x288 with 1 Axes>"
            ]
          },
          "metadata": {
            "tags": []
          }
        }
      ]
    },
    {
      "cell_type": "code",
      "metadata": {
        "id": "RDT3-xn_VdO3",
        "colab_type": "code",
        "outputId": "1d03b21c-3409-405f-d2d9-27130bfa608f",
        "colab": {
          "base_uri": "https://localhost:8080/",
          "height": 264
        }
      },
      "source": [
        "# Remove the extreme outliers\n",
        "df = df[df['Fare']<500]\n",
        "df['Fare'].plot(kind='hist', color='dodgerblue');"
      ],
      "execution_count": 0,
      "outputs": [
        {
          "output_type": "display_data",
          "data": {
            "image/png": "[encoded data removed]",
            "text/plain": [
              "<Figure size 432x288 with 1 Axes>"
            ]
          },
          "metadata": {
            "tags": []
          }
        }
      ]
    },
    {
      "cell_type": "code",
      "metadata": {
        "id": "RxriwHIOVdLR",
        "colab_type": "code",
        "outputId": "4b1458a8-9a11-40d1-d7d6-4e4cb238cc80",
        "colab": {
          "base_uri": "https://localhost:8080/",
          "height": 197
        }
      },
      "source": [
        "# A continuous variable can be converted to categorical using binning\n",
        "farebins = [0, 8, 15, 33, 512]\n",
        "farelabels = ['low', 'medium', 'high', 'vhigh']\n",
        "df['fare_groups'] = pd.cut(df['Fare'], bins=farebins, labels=farelabels)\n",
        "df.head()"
      ],
      "execution_count": 0,
      "outputs": [
        {
          "output_type": "execute_result",
          "data": {
            "text/html": [
              "<div>\n",
              "<style scoped>\n",
              "    .dataframe tbody tr th:only-of-type {\n",
              "        vertical-align: middle;\n",
              "    }\n",
              "\n",
              "    .dataframe tbody tr th {\n",
              "        vertical-align: top;\n",
              "    }\n",
              "\n",
              "    .dataframe thead th {\n",
              "        text-align: right;\n",
              "    }\n",
              "</style>\n",
              "<table border=\"1\" class=\"dataframe\">\n",
              "  <thead>\n",
              "    <tr style=\"text-align: right;\">\n",
              "      <th></th>\n",
              "      <th>Survived</th>\n",
              "      <th>Pclass</th>\n",
              "      <th>Sex</th>\n",
              "      <th>Age</th>\n",
              "      <th>Fare</th>\n",
              "      <th>Embarked</th>\n",
              "      <th>cabin_class</th>\n",
              "      <th>fare_groups</th>\n",
              "    </tr>\n",
              "  </thead>\n",
              "  <tbody>\n",
              "    <tr>\n",
              "      <th>0</th>\n",
              "      <td>0</td>\n",
              "      <td>3</td>\n",
              "      <td>male</td>\n",
              "      <td>22.0</td>\n",
              "      <td>7.2500</td>\n",
              "      <td>Southampton</td>\n",
              "      <td>third</td>\n",
              "      <td>low</td>\n",
              "    </tr>\n",
              "    <tr>\n",
              "      <th>1</th>\n",
              "      <td>1</td>\n",
              "      <td>1</td>\n",
              "      <td>female</td>\n",
              "      <td>38.0</td>\n",
              "      <td>71.2833</td>\n",
              "      <td>Cherbourg</td>\n",
              "      <td>first</td>\n",
              "      <td>vhigh</td>\n",
              "    </tr>\n",
              "    <tr>\n",
              "      <th>2</th>\n",
              "      <td>1</td>\n",
              "      <td>3</td>\n",
              "      <td>female</td>\n",
              "      <td>26.0</td>\n",
              "      <td>7.9250</td>\n",
              "      <td>Southampton</td>\n",
              "      <td>third</td>\n",
              "      <td>low</td>\n",
              "    </tr>\n",
              "    <tr>\n",
              "      <th>3</th>\n",
              "      <td>1</td>\n",
              "      <td>1</td>\n",
              "      <td>female</td>\n",
              "      <td>35.0</td>\n",
              "      <td>53.1000</td>\n",
              "      <td>Southampton</td>\n",
              "      <td>first</td>\n",
              "      <td>vhigh</td>\n",
              "    </tr>\n",
              "    <tr>\n",
              "      <th>4</th>\n",
              "      <td>0</td>\n",
              "      <td>3</td>\n",
              "      <td>male</td>\n",
              "      <td>35.0</td>\n",
              "      <td>8.0500</td>\n",
              "      <td>Southampton</td>\n",
              "      <td>third</td>\n",
              "      <td>medium</td>\n",
              "    </tr>\n",
              "  </tbody>\n",
              "</table>\n",
              "</div>"
            ],
            "text/plain": [
              "   Survived  Pclass     Sex   Age     Fare     Embarked cabin_class fare_groups\n",
              "0         0       3    male  22.0   7.2500  Southampton       third         low\n",
              "1         1       1  female  38.0  71.2833    Cherbourg       first       vhigh\n",
              "2         1       3  female  26.0   7.9250  Southampton       third         low\n",
              "3         1       1  female  35.0  53.1000  Southampton       first       vhigh\n",
              "4         0       3    male  35.0   8.0500  Southampton       third      medium"
            ]
          },
          "metadata": {
            "tags": []
          },
          "execution_count": 9
        }
      ]
    },
    {
      "cell_type": "code",
      "metadata": {
        "id": "QNErMM0hVdJd",
        "colab_type": "code",
        "colab": {}
      },
      "source": [
        "myresults = df['fare_groups'].value_counts().sort_index()"
      ],
      "execution_count": 0,
      "outputs": []
    },
    {
      "cell_type": "code",
      "metadata": {
        "id": "5SEFtlSDVdGH",
        "colab_type": "code",
        "outputId": "9a9f4acc-234f-41b9-f271-395d8e8ba9db",
        "colab": {
          "base_uri": "https://localhost:8080/",
          "height": 268
        }
      },
      "source": [
        "# Sometimes it's important to specify the range of your y-axis to ensure more accurate results\n",
        "myresults.plot(ylim=(0,200));"
      ],
      "execution_count": 0,
      "outputs": [
        {
          "output_type": "display_data",
          "data": {
            "image/png": "[encoded data removed]",
            "text/plain": [
              "<Figure size 432x288 with 1 Axes>"
            ]
          },
          "metadata": {
            "tags": []
          }
        }
      ]
    },
    {
      "cell_type": "markdown",
      "metadata": {
        "id": "-0QbWbfJat_m",
        "colab_type": "text"
      },
      "source": [
        "Display single continuous variable"
      ]
    },
    {
      "cell_type": "code",
      "metadata": {
        "id": "0sxwZN4yVdEd",
        "colab_type": "code",
        "outputId": "b5d97680-58cc-47b4-b62a-d1b0b05bcb75",
        "colab": {
          "base_uri": "https://localhost:8080/",
          "height": 264
        }
      },
      "source": [
        "# Histogram\n",
        "df['Age'].plot(kind='hist', bins=25, figsize=(16,4), color='tan');"
      ],
      "execution_count": 0,
      "outputs": [
        {
          "output_type": "display_data",
          "data": {
            "image/png": "[encoded data removed]",
            "text/plain": [
              "<Figure size 1152x288 with 1 Axes>"
            ]
          },
          "metadata": {
            "tags": []
          }
        }
      ]
    },
    {
      "cell_type": "code",
      "metadata": {
        "id": "jelPcGgoVdA9",
        "colab_type": "code",
        "outputId": "6609fa3d-d082-4298-c85c-cb25bbb2ec19",
        "colab": {
          "base_uri": "https://localhost:8080/",
          "height": 264
        }
      },
      "source": [
        "# Stacked histogram of continuous variable, broken out by categorical variable\n",
        "df[df['Pclass']==1]['Age'].plot(kind='hist', bins=25, figsize=(14,4), alpha=0.5);\n",
        "df[df['Pclass']==2]['Age'].plot(kind='hist', bins=25, figsize=(14,4), alpha=0.5);\n",
        "df[df['Pclass']==3]['Age'].plot(kind='hist', bins=25, figsize=(14,4), alpha=0.5);\n"
      ],
      "execution_count": 0,
      "outputs": [
        {
          "output_type": "display_data",
          "data": {
            "image/png": "[encoded data removed]",
            "text/plain": [
              "<Figure size 1008x288 with 1 Axes>"
            ]
          },
          "metadata": {
            "tags": []
          }
        }
      ]
    },
    {
      "cell_type": "code",
      "metadata": {
        "id": "YrIv_XHOVc-n",
        "colab_type": "code",
        "outputId": "67fb319c-9302-4833-b3b3-4851180f99d8",
        "colab": {
          "base_uri": "https://localhost:8080/",
          "height": 264
        }
      },
      "source": [
        "# This is easier read using a kernel density estimate (kde)\n",
        "df[df['Pclass']==1]['Age'].plot(kind='density', xlim=(0,85), figsize=(14,4), color='navy');\n",
        "df[df['Pclass']==2]['Age'].plot(kind='density', xlim=(0,85), figsize=(14,4), color='lightblue');\n",
        "df[df['Pclass']==3]['Age'].plot(kind='density', xlim=(0,85), figsize=(14,4), color='crimson');"
      ],
      "execution_count": 0,
      "outputs": [
        {
          "output_type": "display_data",
          "data": {
            "image/png": "[encoded data removed]",
            "text/plain": [
              "<Figure size 1008x288 with 1 Axes>"
            ]
          },
          "metadata": {
            "tags": []
          }
        }
      ]
    },
    {
      "cell_type": "markdown",
      "metadata": {
        "id": "udhXOs-vb1eN",
        "colab_type": "text"
      },
      "source": [
        "Display Single Categorical Variable"
      ]
    },
    {
      "cell_type": "code",
      "metadata": {
        "id": "w2c-1YvWVc8w",
        "colab_type": "code",
        "outputId": "89bc8d33-3a78-419f-a302-b22871fe4f3f",
        "colab": {
          "base_uri": "https://localhost:8080/",
          "height": 264
        }
      },
      "source": [
        "# Bar chart. Use colors to make a particular value pop!\n",
        "df['fare_groups'].value_counts().sort_index().plot(kind='barh', color=['gray', 'gray', 'crimson', 'gray']);"
      ],
      "execution_count": 0,
      "outputs": [
        {
          "output_type": "display_data",
          "data": {
            "image/png": "[encoded data removed]",
            "text/plain": [
              "<Figure size 432x288 with 1 Axes>"
            ]
          },
          "metadata": {
            "tags": []
          }
        }
      ]
    },
    {
      "cell_type": "code",
      "metadata": {
        "id": "-AStD3yyVc5X",
        "colab_type": "code",
        "outputId": "b6c66421-5c91-4b96-eb14-805cbaadf2ba",
        "colab": {
          "base_uri": "https://localhost:8080/",
          "height": 247
        }
      },
      "source": [
        "# Pie Chart\n",
        "df['fare_groups'].value_counts().plot(kind='pie', figsize=(4,4));"
      ],
      "execution_count": 0,
      "outputs": [
        {
          "output_type": "display_data",
          "data": {
            "image/png": "[encoded data removed]",
            "text/plain": [
              "<Figure size 288x288 with 1 Axes>"
            ]
          },
          "metadata": {
            "tags": []
          }
        }
      ]
    },
    {
      "cell_type": "markdown",
      "metadata": {
        "id": "Y1vhZupncaPN",
        "colab_type": "text"
      },
      "source": [
        "Compare two categorical variables"
      ]
    },
    {
      "cell_type": "code",
      "metadata": {
        "id": "74RcgrVXVc3h",
        "colab_type": "code",
        "colab": {}
      },
      "source": [
        "# Using crosstab\n",
        "cab_survive = pd.crosstab(df['cabin_class'], df['Survived'])"
      ],
      "execution_count": 0,
      "outputs": []
    },
    {
      "cell_type": "code",
      "metadata": {
        "id": "OTqHrvwrVc0E",
        "colab_type": "code",
        "outputId": "fee22660-f4a6-416f-8d1a-a91ef5377366",
        "colab": {
          "base_uri": "https://localhost:8080/",
          "height": 305
        }
      },
      "source": [
        "# Make that into a bar chart\n",
        "cab_survive.plot(kind='bar');"
      ],
      "execution_count": 0,
      "outputs": [
        {
          "output_type": "display_data",
          "data": {
            "image/png": "[encoded data removed]",
            "text/plain": [
              "<Figure size 432x288 with 1 Axes>"
            ]
          },
          "metadata": {
            "tags": []
          }
        }
      ]
    },
    {
      "cell_type": "code",
      "metadata": {
        "id": "wbR2o08BVcyp",
        "colab_type": "code",
        "colab": {}
      },
      "source": [
        "# Crosstab with column percents\n",
        "cab_survive1 = pd.crosstab(df['cabin_class'], df['Survived'], normalize='columns')"
      ],
      "execution_count": 0,
      "outputs": []
    },
    {
      "cell_type": "code",
      "metadata": {
        "id": "MYGXVZEvVcvK",
        "colab_type": "code",
        "outputId": "28bc95c1-98bd-45c2-b5d8-b1c114ba773b",
        "colab": {
          "base_uri": "https://localhost:8080/",
          "height": 305
        }
      },
      "source": [
        "# Make a stacked bar chart \n",
        "cab_survive1.plot(kind='bar', stacked=True, color=['orange', 'gray']);"
      ],
      "execution_count": 0,
      "outputs": [
        {
          "output_type": "display_data",
          "data": {
            "image/png": "[encoded data removed]",
            "text/plain": [
              "<Figure size 432x288 with 1 Axes>"
            ]
          },
          "metadata": {
            "tags": []
          }
        }
      ]
    },
    {
      "cell_type": "code",
      "metadata": {
        "id": "x5yUQ7rMVcti",
        "colab_type": "code",
        "colab": {}
      },
      "source": [
        "# Crosstab with index percents\n",
        "cab_survive2 = pd.crosstab(df['cabin_class'], df['Survived'], normalize='index')"
      ],
      "execution_count": 0,
      "outputs": []
    },
    {
      "cell_type": "code",
      "metadata": {
        "id": "T62bpJ5WVcqQ",
        "colab_type": "code",
        "outputId": "be701e94-e9b7-4074-dd42-fe2a378e08a8",
        "colab": {
          "base_uri": "https://localhost:8080/",
          "height": 264
        }
      },
      "source": [
        "# A paired barchart \n",
        "cab_survive2.plot(kind='barh', color=['purple', 'lightgreen'], figsize=(10,4));"
      ],
      "execution_count": 0,
      "outputs": [
        {
          "output_type": "display_data",
          "data": {
            "image/png": "[encoded data removed]",
            "text/plain": [
              "<Figure size 720x288 with 1 Axes>"
            ]
          },
          "metadata": {
            "tags": []
          }
        }
      ]
    },
    {
      "cell_type": "markdown",
      "metadata": {
        "id": "VEQq6koLeBsq",
        "colab_type": "text"
      },
      "source": [
        "Compare a categorical and a continuous"
      ]
    },
    {
      "cell_type": "code",
      "metadata": {
        "id": "N-RPUjziVcnc",
        "colab_type": "code",
        "outputId": "902d1570-1405-4f5a-fe28-800bc6c4e20a",
        "colab": {
          "base_uri": "https://localhost:8080/",
          "height": 34
        }
      },
      "source": [
        "# Look at a single continuous variable\n",
        "df['Age'].mean()"
      ],
      "execution_count": 0,
      "outputs": [
        {
          "output_type": "execute_result",
          "data": {
            "text/plain": [
              "29.618011283497882"
            ]
          },
          "metadata": {
            "tags": []
          },
          "execution_count": 27
        }
      ]
    },
    {
      "cell_type": "code",
      "metadata": {
        "id": "mscrtY5-Vcko",
        "colab_type": "code",
        "colab": {}
      },
      "source": [
        "# Explore that continuous variable broken out by a categorical variable\n",
        "cab_age = df.groupby('cabin_class')['Age'].mean()"
      ],
      "execution_count": 0,
      "outputs": []
    },
    {
      "cell_type": "code",
      "metadata": {
        "id": "i-W27fSlVci1",
        "colab_type": "code",
        "outputId": "27112061-ef05-4bce-fe60-05c147d3071e",
        "colab": {
          "base_uri": "https://localhost:8080/",
          "height": 264
        }
      },
      "source": [
        "# Visualize single continuous\n",
        "df['Age'].plot(kind='box');"
      ],
      "execution_count": 0,
      "outputs": [
        {
          "output_type": "display_data",
          "data": {
            "image/png": "[encoded data removed]",
            "text/plain": [
              "<Figure size 432x288 with 1 Axes>"
            ]
          },
          "metadata": {
            "tags": []
          }
        }
      ]
    },
    {
      "cell_type": "code",
      "metadata": {
        "id": "vS7dIs8vVcfr",
        "colab_type": "code",
        "outputId": "7ce0f9e8-67aa-4168-fa0f-301385c24d66",
        "colab": {
          "base_uri": "https://localhost:8080/",
          "height": 302
        }
      },
      "source": [
        "# But to break out a continuoys variable by a categorical, use .boxplot\n",
        "df.boxplot(column='Age', by='cabin_class');"
      ],
      "execution_count": 0,
      "outputs": [
        {
          "output_type": "display_data",
          "data": {
            "image/png": "[encoded data removed]",
            "text/plain": [
              "<Figure size 432x288 with 1 Axes>"
            ]
          },
          "metadata": {
            "tags": []
          }
        }
      ]
    },
    {
      "cell_type": "markdown",
      "metadata": {
        "id": "iSuFW14QeqwO",
        "colab_type": "text"
      },
      "source": [
        "Compare Two or Three Continuous Variables"
      ]
    },
    {
      "cell_type": "code",
      "metadata": {
        "id": "QfuH5CjMVceL",
        "colab_type": "code",
        "outputId": "93f4fe50-40cc-44ef-fe0e-40a8a9c275c4",
        "colab": {
          "base_uri": "https://localhost:8080/",
          "height": 278
        }
      },
      "source": [
        "# Two continuous variables\n",
        "df.plot(kind='scatter', x='Fare', y='Age', figsize=(10,4));"
      ],
      "execution_count": 0,
      "outputs": [
        {
          "output_type": "display_data",
          "data": {
            "image/png": "[encoded data removed]",
            "text/plain": [
              "<Figure size 720x288 with 1 Axes>"
            ]
          },
          "metadata": {
            "tags": []
          }
        }
      ]
    },
    {
      "cell_type": "code",
      "metadata": {
        "id": "p79Ug-bZVca_",
        "colab_type": "code",
        "outputId": "1e2b98f0-9e24-4d3d-b2f6-eaaa91358add",
        "colab": {
          "base_uri": "https://localhost:8080/",
          "height": 257
        }
      },
      "source": [
        "# Three variables\n",
        "df.plot(kind='scatter', x='Fare', y='Age', c='Pclass', colormap='plasma', figsize=(10,4));"
      ],
      "execution_count": 0,
      "outputs": [
        {
          "output_type": "display_data",
          "data": {
            "image/png": "[encoded data removed]",
            "text/plain": [
              "<Figure size 720x288 with 2 Axes>"
            ]
          },
          "metadata": {
            "tags": []
          }
        }
      ]
    },
    {
      "cell_type": "markdown",
      "metadata": {
        "id": "zZoMNDdNfJdi",
        "colab_type": "text"
      },
      "source": [
        "Use lineplot to examine two continuous variables"
      ]
    },
    {
      "cell_type": "code",
      "metadata": {
        "id": "WKoeeq3xVcYj",
        "colab_type": "code",
        "outputId": "984ab1e3-37c5-4db9-e854-c6d4d3ea7f71",
        "colab": {
          "base_uri": "https://localhost:8080/",
          "height": 278
        }
      },
      "source": [
        "# line chart\n",
        "df.groupby('Age')['Fare'].mean().plot(kind='line', figsize=(10,4));"
      ],
      "execution_count": 0,
      "outputs": [
        {
          "output_type": "display_data",
          "data": {
            "image/png": "[encoded data removed]",
            "text/plain": [
              "<Figure size 720x288 with 1 Axes>"
            ]
          },
          "metadata": {
            "tags": []
          }
        }
      ]
    },
    {
      "cell_type": "code",
      "metadata": {
        "id": "GBE95l8LVcXD",
        "colab_type": "code",
        "outputId": "cfcb6af4-45e5-4979-bda0-5efbd5ec65dd",
        "colab": {
          "base_uri": "https://localhost:8080/",
          "height": 278
        }
      },
      "source": [
        "# Line chart\n",
        "mycolors = ['crimson', 'purple', 'dodgerblue']\n",
        "# Rather than specifying 3 plots \n",
        "# you can just loop through the values\n",
        "for x in [1,2,3]:\n",
        "  df[df['Pclass']==x].groupby('Age')['Fare'].mean().plot(figsize=(10,4), color=mycolors[x-1]);"
      ],
      "execution_count": 0,
      "outputs": [
        {
          "output_type": "display_data",
          "data": {
            "image/png": "[encoded data removed]",
            "text/plain": [
              "<Figure size 720x288 with 1 Axes>"
            ]
          },
          "metadata": {
            "tags": []
          }
        }
      ]
    },
    {
      "cell_type": "markdown",
      "metadata": {
        "id": "0CBnZ_xHf13m",
        "colab_type": "text"
      },
      "source": [
        "Compare multiple continuoys variables"
      ]
    },
    {
      "cell_type": "code",
      "metadata": {
        "id": "A9D3QDXYVcTS",
        "colab_type": "code",
        "outputId": "c3780dfa-1d63-43f1-a731-efef40e9370d",
        "colab": {
          "base_uri": "https://localhost:8080/",
          "height": 167
        }
      },
      "source": [
        "# Correlation matrix\n",
        "corr_matrix = df.corr()\n",
        "corr_matrix"
      ],
      "execution_count": 0,
      "outputs": [
        {
          "output_type": "execute_result",
          "data": {
            "text/html": [
              "<div>\n",
              "<style scoped>\n",
              "    .dataframe tbody tr th:only-of-type {\n",
              "        vertical-align: middle;\n",
              "    }\n",
              "\n",
              "    .dataframe tbody tr th {\n",
              "        vertical-align: top;\n",
              "    }\n",
              "\n",
              "    .dataframe thead th {\n",
              "        text-align: right;\n",
              "    }\n",
              "</style>\n",
              "<table border=\"1\" class=\"dataframe\">\n",
              "  <thead>\n",
              "    <tr style=\"text-align: right;\">\n",
              "      <th></th>\n",
              "      <th>Survived</th>\n",
              "      <th>Pclass</th>\n",
              "      <th>Age</th>\n",
              "      <th>Fare</th>\n",
              "    </tr>\n",
              "  </thead>\n",
              "  <tbody>\n",
              "    <tr>\n",
              "      <th>Survived</th>\n",
              "      <td>1.000000</td>\n",
              "      <td>-0.351579</td>\n",
              "      <td>-0.084756</td>\n",
              "      <td>0.272376</td>\n",
              "    </tr>\n",
              "    <tr>\n",
              "      <th>Pclass</th>\n",
              "      <td>-0.351579</td>\n",
              "      <td>1.000000</td>\n",
              "      <td>-0.365259</td>\n",
              "      <td>-0.616062</td>\n",
              "    </tr>\n",
              "    <tr>\n",
              "      <th>Age</th>\n",
              "      <td>-0.084756</td>\n",
              "      <td>-0.365259</td>\n",
              "      <td>1.000000</td>\n",
              "      <td>0.096573</td>\n",
              "    </tr>\n",
              "    <tr>\n",
              "      <th>Fare</th>\n",
              "      <td>0.272376</td>\n",
              "      <td>-0.616062</td>\n",
              "      <td>0.096573</td>\n",
              "      <td>1.000000</td>\n",
              "    </tr>\n",
              "  </tbody>\n",
              "</table>\n",
              "</div>"
            ],
            "text/plain": [
              "          Survived    Pclass       Age      Fare\n",
              "Survived  1.000000 -0.351579 -0.084756  0.272376\n",
              "Pclass   -0.351579  1.000000 -0.365259 -0.616062\n",
              "Age      -0.084756 -0.365259  1.000000  0.096573\n",
              "Fare      0.272376 -0.616062  0.096573  1.000000"
            ]
          },
          "metadata": {
            "tags": []
          },
          "execution_count": 36
        }
      ]
    },
    {
      "cell_type": "code",
      "metadata": {
        "id": "iWlLFB7ZVcRz",
        "colab_type": "code",
        "outputId": "eaa44272-3974-45e3-8f79-a1fc06c15ab6",
        "colab": {
          "base_uri": "https://localhost:8080/",
          "height": 268
        }
      },
      "source": [
        "# Display correlation matrix as a heatmap\n",
        "plt.imshow(corr_matrix);"
      ],
      "execution_count": 0,
      "outputs": [
        {
          "output_type": "display_data",
          "data": {
            "image/png": "[encoded data removed]",
            "text/plain": [
              "<Figure size 432x288 with 1 Axes>"
            ]
          },
          "metadata": {
            "tags": []
          }
        }
      ]
    },
    {
      "cell_type": "code",
      "metadata": {
        "id": "Sob8V_jAVcOV",
        "colab_type": "code",
        "outputId": "5bbede8e-61ac-4a77-d404-eb1287f3bb11",
        "colab": {
          "base_uri": "https://localhost:8080/",
          "height": 264
        }
      },
      "source": [
        "# This is better looking with seaborn code though\n",
        "import seaborn as sns\n",
        "sns.heatmap(corr_matrix);"
      ],
      "execution_count": 0,
      "outputs": [
        {
          "output_type": "display_data",
          "data": {
            "image/png": "[encoded data removed]",
            "text/plain": [
              "<Figure size 432x288 with 2 Axes>"
            ]
          },
          "metadata": {
            "tags": []
          }
        }
      ]
    },
    {
      "cell_type": "markdown",
      "metadata": {
        "id": "aZVnyj5dgfYR",
        "colab_type": "text"
      },
      "source": [
        "Intro to Matplotlib"
      ]
    },
    {
      "cell_type": "code",
      "metadata": {
        "id": "8Gsut-8GVcMO",
        "colab_type": "code",
        "colab": {}
      },
      "source": [
        "import numpy as np\n",
        "x = np.linspace(0, 5, 11)\n",
        "y = x ** 2"
      ],
      "execution_count": 0,
      "outputs": []
    },
    {
      "cell_type": "code",
      "metadata": {
        "id": "IS6n8-5yVcJ8",
        "colab_type": "code",
        "outputId": "935c0aec-204c-4b20-e443-a1ad9aa4bc0a",
        "colab": {
          "base_uri": "https://localhost:8080/",
          "height": 34
        }
      },
      "source": [
        "x"
      ],
      "execution_count": 0,
      "outputs": [
        {
          "output_type": "execute_result",
          "data": {
            "text/plain": [
              "array([0. , 0.5, 1. , 1.5, 2. , 2.5, 3. , 3.5, 4. , 4.5, 5. ])"
            ]
          },
          "metadata": {
            "tags": []
          },
          "execution_count": 8
        }
      ]
    },
    {
      "cell_type": "code",
      "metadata": {
        "id": "aqKf_UALVcHk",
        "colab_type": "code",
        "outputId": "d9f28575-d59a-4359-baa1-59f11c60ce2a",
        "colab": {
          "base_uri": "https://localhost:8080/",
          "height": 52
        }
      },
      "source": [
        "y"
      ],
      "execution_count": 0,
      "outputs": [
        {
          "output_type": "execute_result",
          "data": {
            "text/plain": [
              "array([ 0.  ,  0.25,  1.  ,  2.25,  4.  ,  6.25,  9.  , 12.25, 16.  ,\n",
              "       20.25, 25.  ])"
            ]
          },
          "metadata": {
            "tags": []
          },
          "execution_count": 9
        }
      ]
    },
    {
      "cell_type": "code",
      "metadata": {
        "id": "R7mi1MVVVcEp",
        "colab_type": "code",
        "outputId": "dc707a89-9cec-4d89-ddd0-b849e497833d",
        "colab": {
          "base_uri": "https://localhost:8080/",
          "height": 264
        }
      },
      "source": [
        "# Very simple plot to get started\n",
        "plt.plot(y,x);"
      ],
      "execution_count": 0,
      "outputs": [
        {
          "output_type": "display_data",
          "data": {
            "image/png": "[encoded data removed]",
            "text/plain": [
              "<Figure size 432x288 with 1 Axes>"
            ]
          },
          "metadata": {
            "tags": []
          }
        }
      ]
    },
    {
      "cell_type": "code",
      "metadata": {
        "id": "jdzTysBkguTI",
        "colab_type": "code",
        "outputId": "28b942a1-de74-4b44-b4e5-72b0c89d9628",
        "colab": {
          "base_uri": "https://localhost:8080/",
          "height": 264
        }
      },
      "source": [
        "# You can have two plt plots together \n",
        "plt.plot(x, y, 'b')\n",
        "plt.plot(y, x, 'r');"
      ],
      "execution_count": 0,
      "outputs": [
        {
          "output_type": "display_data",
          "data": {
            "image/png": "[encoded data removed]",
            "text/plain": [
              "<Figure size 432x288 with 1 Axes>"
            ]
          },
          "metadata": {
            "tags": []
          }
        }
      ]
    },
    {
      "cell_type": "code",
      "metadata": {
        "id": "0r3vMgnBguRk",
        "colab_type": "code",
        "outputId": "1407b7e8-c676-48a2-fb56-91c62ca04fcf",
        "colab": {
          "base_uri": "https://localhost:8080/",
          "height": 294
        }
      },
      "source": [
        "# Now add labels and some texture\n",
        "plt.plot(x, y, 'b--')\n",
        "plt.plot(y, x, 'r*-')\n",
        "plt.xlabel('X axis here')\n",
        "plt.ylabel('Y axis here')\n",
        "plt.title('my title here');"
      ],
      "execution_count": 0,
      "outputs": [
        {
          "output_type": "display_data",
          "data": {
            "image/png": "[encoded data removed]",
            "text/plain": [
              "<Figure size 432x288 with 1 Axes>"
            ]
          },
          "metadata": {
            "tags": []
          }
        }
      ]
    },
    {
      "cell_type": "markdown",
      "metadata": {
        "id": "LHMfhLvohj7K",
        "colab_type": "text"
      },
      "source": [
        "Creating multiplots with the same canvas"
      ]
    },
    {
      "cell_type": "code",
      "metadata": {
        "id": "sRDWI6MeguNm",
        "colab_type": "code",
        "outputId": "9ddfe3f5-d783-48a6-b296-a2806a95e9f1",
        "colab": {
          "base_uri": "https://localhost:8080/",
          "height": 264
        }
      },
      "source": [
        "# Basic syntax: plt.subplot(nrows, ncols, plot_number)\n",
        "plt.subplot(1,2,1)\n",
        "plt.plot(x, y, 'b--')\n",
        "\n",
        "plt.subplot(1,2,2)\n",
        "plt.plot(y, x, 'r*-');"
      ],
      "execution_count": 0,
      "outputs": [
        {
          "output_type": "display_data",
          "data": {
            "image/png": "[encoded data removed]",
            "text/plain": [
              "<Figure size 432x288 with 2 Axes>"
            ]
          },
          "metadata": {
            "tags": []
          }
        }
      ]
    },
    {
      "cell_type": "markdown",
      "metadata": {
        "id": "1etTdRJ0h2P_",
        "colab_type": "text"
      },
      "source": [
        "Matplotlib object oriented method"
      ]
    },
    {
      "cell_type": "code",
      "metadata": {
        "id": "jZjO9e1OguLE",
        "colab_type": "code",
        "outputId": "a718b3e8-0eba-48e8-a4dd-b1bc5922d583",
        "colab": {
          "base_uri": "https://localhost:8080/",
          "height": 307
        }
      },
      "source": [
        "# Create figure (the empty canvas)\n",
        "fig = plt.figure()\n",
        "# Add set of axes to figure\n",
        "# left, bottom, width, height (range 0 to 1)\n",
        "axes = fig.add_axes([0.1, 0.1, 0.8, 0.8])\n",
        "# Plot on that set of axes\n",
        "axes.plot(x, y, 'b')\n",
        "axes.set_xlabel('my x axis')\n",
        "axes.set_ylabel('my y axis')\n",
        "axes.set_title('my title here');"
      ],
      "execution_count": 0,
      "outputs": [
        {
          "output_type": "display_data",
          "data": {
            "image/png": "[encoded data removed]",
            "text/plain": [
              "<Figure size 432x288 with 1 Axes>"
            ]
          },
          "metadata": {
            "tags": []
          }
        }
      ]
    },
    {
      "cell_type": "markdown",
      "metadata": {
        "id": "TFfS3ydFiba_",
        "colab_type": "text"
      },
      "source": [
        "We can easily add more than one axis to a figure"
      ]
    },
    {
      "cell_type": "code",
      "metadata": {
        "id": "bxh6CBKMguIv",
        "colab_type": "code",
        "outputId": "73b2c815-669e-448f-e35f-2a5f50cfba0a",
        "colab": {
          "base_uri": "https://localhost:8080/",
          "height": 277
        }
      },
      "source": [
        "# Creates blank canvas\n",
        "fig = plt.figure()\n",
        "axes1 = fig.add_axes([0.1, 0.1, 0.8, 0.8])\n",
        "axes2 = fig.add_axes([0.2, 0.5, 0.4, 0.3])\n",
        "# Larger figure axes 1\n",
        "axes1.plot(x, y, 'b')\n",
        "# Insert figure axes 2\n",
        "axes2.plot(y, x, 'r');"
      ],
      "execution_count": 0,
      "outputs": [
        {
          "output_type": "display_data",
          "data": {
            "image/png": "[encoded data removed]",
            "text/plain": [
              "<Figure size 432x288 with 2 Axes>"
            ]
          },
          "metadata": {
            "tags": []
          }
        }
      ]
    },
    {
      "cell_type": "markdown",
      "metadata": {
        "id": "hwsZDUB9jDMp",
        "colab_type": "text"
      },
      "source": [
        "subplots method"
      ]
    },
    {
      "cell_type": "code",
      "metadata": {
        "id": "eAPBJU95guG-",
        "colab_type": "code",
        "outputId": "25654e61-c641-464a-9b39-616764a87fab",
        "colab": {
          "base_uri": "https://localhost:8080/",
          "height": 268
        }
      },
      "source": [
        "fig, ax = plt.subplots()"
      ],
      "execution_count": 0,
      "outputs": [
        {
          "output_type": "display_data",
          "data": {
            "image/png": "[encoded data removed]",
            "text/plain": [
              "<Figure size 432x288 with 1 Axes>"
            ]
          },
          "metadata": {
            "tags": []
          }
        }
      ]
    },
    {
      "cell_type": "code",
      "metadata": {
        "id": "0zWaU_LcguEP",
        "colab_type": "code",
        "outputId": "4b93bd3c-ba00-4184-e719-fb10dde38605",
        "colab": {
          "base_uri": "https://localhost:8080/",
          "height": 294
        }
      },
      "source": [
        "# Use tuple unpacking to grab fig and axes\n",
        "fig, axes = plt.subplots(nrows=1, ncols=1)\n",
        "\n",
        "# Default is (1,1)\n",
        "\n",
        "# Use axes object to add stuff to plot\n",
        "axes.plot(x, y, 'darkred')\n",
        "axes.set_xlabel('x axis')\n",
        "axes.set_ylabel('y axis')\n",
        "axes.set_title('my title');"
      ],
      "execution_count": 0,
      "outputs": [
        {
          "output_type": "display_data",
          "data": {
            "image/png": "[encoded data removed]",
            "text/plain": [
              "<Figure size 432x288 with 1 Axes>"
            ]
          },
          "metadata": {
            "tags": []
          }
        }
      ]
    },
    {
      "cell_type": "markdown",
      "metadata": {
        "id": "MgchaUTikuKQ",
        "colab_type": "text"
      },
      "source": [
        "Then you can specify number of rows and columns when creating the subplots() object"
      ]
    },
    {
      "cell_type": "code",
      "metadata": {
        "id": "UYF49o_lguBx",
        "colab_type": "code",
        "outputId": "5ce9e327-09ce-44f6-ebaf-912de2b6c163",
        "colab": {
          "base_uri": "https://localhost:8080/",
          "height": 296
        }
      },
      "source": [
        "# Empty canvas of 1 by 2 subplots\n",
        "fig, axes = plt.subplots(nrows=2, ncols=2)\n",
        "# parameter labels 'nrows' and 'ncols' are optional\n",
        "plt.tight_layout()"
      ],
      "execution_count": 0,
      "outputs": [
        {
          "output_type": "display_data",
          "data": {
            "image/png": "[encoded data removed]",
            "text/plain": [
              "<Figure size 432x288 with 4 Axes>"
            ]
          },
          "metadata": {
            "tags": []
          }
        }
      ]
    },
    {
      "cell_type": "code",
      "metadata": {
        "id": "RqUW8lWxgt_M",
        "colab_type": "code",
        "outputId": "d31c6f04-0626-483f-ed9e-473fc72a19b6",
        "colab": {
          "base_uri": "https://localhost:8080/",
          "height": 105
        }
      },
      "source": [
        "# Axes is an array of axes to plot on \n",
        "axes"
      ],
      "execution_count": 0,
      "outputs": [
        {
          "output_type": "execute_result",
          "data": {
            "text/plain": [
              "array([[<matplotlib.axes._subplots.AxesSubplot object at 0x7fe3ea7b8f60>,\n",
              "        <matplotlib.axes._subplots.AxesSubplot object at 0x7fe3ea787588>],\n",
              "       [<matplotlib.axes._subplots.AxesSubplot object at 0x7fe3ea9efdd8>,\n",
              "        <matplotlib.axes._subplots.AxesSubplot object at 0x7fe3ebfad860>]],\n",
              "      dtype=object)"
            ]
          },
          "metadata": {
            "tags": []
          },
          "execution_count": 59
        }
      ]
    },
    {
      "cell_type": "code",
      "metadata": {
        "id": "L8olRQv2gt8r",
        "colab_type": "code",
        "outputId": "ff409c3a-c705-4a99-a854-89b24bae2457",
        "colab": {
          "base_uri": "https://localhost:8080/",
          "height": 296
        }
      },
      "source": [
        "# We can iterate through this array\n",
        "fig, axes = plt.subplots(nrows=1, ncols=2)\n",
        "\n",
        "# Display the figure object\n",
        "for ax in axes:\n",
        "  ax.plot(x, y, 'g')\n",
        "  ax.set_xlabel('x axis')\n",
        "  ax.set_title('this');\n",
        "plt.tight_layout();\n"
      ],
      "execution_count": 0,
      "outputs": [
        {
          "output_type": "display_data",
          "data": {
            "image/png": "[encoded data removed]",
            "text/plain": [
              "<Figure size 432x288 with 2 Axes>"
            ]
          },
          "metadata": {
            "tags": []
          }
        }
      ]
    },
    {
      "cell_type": "markdown",
      "metadata": {
        "id": "bKdbH3dRmHlL",
        "colab_type": "text"
      },
      "source": [
        "Figure size, aspect ratio, and dpi"
      ]
    },
    {
      "cell_type": "code",
      "metadata": {
        "id": "YC06HE5Kgt61",
        "colab_type": "code",
        "outputId": "b09f70d4-22aa-4dea-f857-448e456f9892",
        "colab": {
          "base_uri": "https://localhost:8080/",
          "height": 34
        }
      },
      "source": [
        "# Matplotlib allows the aspect ratio, DPI and figure size to be specified when the Figure object is created.\n",
        "# dpi = dots per inch\n",
        "fig = plt.figure(figsize=(8,4), dpi=100)"
      ],
      "execution_count": 0,
      "outputs": [
        {
          "output_type": "display_data",
          "data": {
            "text/plain": [
              "<Figure size 800x400 with 0 Axes>"
            ]
          },
          "metadata": {
            "tags": []
          }
        }
      ]
    },
    {
      "cell_type": "code",
      "metadata": {
        "id": "0cELOATvgt5P",
        "colab_type": "code",
        "outputId": "25ce0afb-411c-4c96-899c-654a47f4abf4",
        "colab": {
          "base_uri": "https://localhost:8080/",
          "height": 187
        }
      },
      "source": [
        "fig, axes = plt.subplots(figsize=(8,4), dpi=50)\n",
        "axes.plot(x, y, 'r');"
      ],
      "execution_count": 0,
      "outputs": [
        {
          "output_type": "display_data",
          "data": {
            "image/png": "[encoded data removed]",
            "text/plain": [
              "<Figure size 400x200 with 1 Axes>"
            ]
          },
          "metadata": {
            "tags": []
          }
        }
      ]
    },
    {
      "cell_type": "markdown",
      "metadata": {
        "id": "sd1EaDHim4DJ",
        "colab_type": "text"
      },
      "source": [
        "Saving Figures"
      ]
    },
    {
      "cell_type": "code",
      "metadata": {
        "id": "WORM2S3Egt1L",
        "colab_type": "code",
        "colab": {}
      },
      "source": [
        "fig.savefig('filename.png')"
      ],
      "execution_count": 0,
      "outputs": []
    },
    {
      "cell_type": "code",
      "metadata": {
        "id": "h-6Vc-MCgtys",
        "colab_type": "code",
        "colab": {}
      },
      "source": [
        "# We can also specify the dpi\n",
        "fig.savefig('filename.png', dpi=200)"
      ],
      "execution_count": 0,
      "outputs": []
    },
    {
      "cell_type": "markdown",
      "metadata": {
        "id": "t4S_za-SnEdN",
        "colab_type": "text"
      },
      "source": [
        "Legends, Labels and titles\n"
      ]
    },
    {
      "cell_type": "code",
      "metadata": {
        "id": "UIom1wGrgtxD",
        "colab_type": "code",
        "outputId": "636be4cb-b266-408e-8d9a-ad6a511b324d",
        "colab": {
          "base_uri": "https://localhost:8080/",
          "height": 34
        }
      },
      "source": [
        "ax.set_title('my title')"
      ],
      "execution_count": 0,
      "outputs": [
        {
          "output_type": "execute_result",
          "data": {
            "text/plain": [
              "Text(0.5, 1, 'my title')"
            ]
          },
          "metadata": {
            "tags": []
          },
          "execution_count": 67
        }
      ]
    },
    {
      "cell_type": "code",
      "metadata": {
        "id": "TzzX6AgLgtuM",
        "colab_type": "code",
        "outputId": "0fa7167c-28fa-4ce6-c18e-0b2bb4e182fb",
        "colab": {
          "base_uri": "https://localhost:8080/",
          "height": 34
        }
      },
      "source": [
        "ax.set_xlabel('x label')"
      ],
      "execution_count": 0,
      "outputs": [
        {
          "output_type": "execute_result",
          "data": {
            "text/plain": [
              "Text(0.5, 17.200000000000003, 'x label')"
            ]
          },
          "metadata": {
            "tags": []
          },
          "execution_count": 68
        }
      ]
    },
    {
      "cell_type": "code",
      "metadata": {
        "id": "6B2uPGd0gtsz",
        "colab_type": "code",
        "outputId": "4bc5f43e-c13a-47c2-9a43-fe158286ed84",
        "colab": {
          "base_uri": "https://localhost:8080/",
          "height": 34
        }
      },
      "source": [
        "ax.set_ylabel('y label')"
      ],
      "execution_count": 0,
      "outputs": [
        {
          "output_type": "execute_result",
          "data": {
            "text/plain": [
              "Text(213.8, 0.5, 'y label')"
            ]
          },
          "metadata": {
            "tags": []
          },
          "execution_count": 69
        }
      ]
    },
    {
      "cell_type": "code",
      "metadata": {
        "id": "NKhJau26gtqY",
        "colab_type": "code",
        "outputId": "2e73e50d-d6cf-443b-8a96-32aa62f1c4a8",
        "colab": {
          "base_uri": "https://localhost:8080/",
          "height": 335
        }
      },
      "source": [
        "# Legends \n",
        "fig = plt.figure()\n",
        "ax = fig.add_axes([0, 0, 1, 1])\n",
        "ax\n",
        "ax.plot(x, x**2, label='Square')\n",
        "ax.plot(x, x**3, label='Cube')\n",
        "ax.legend();"
      ],
      "execution_count": 0,
      "outputs": [
        {
          "output_type": "display_data",
          "data": {
            "image/png": "[encoded data removed]",
            "text/plain": [
              "<Figure size 432x288 with 1 Axes>"
            ]
          },
          "metadata": {
            "tags": []
          }
        }
      ]
    },
    {
      "cell_type": "code",
      "metadata": {
        "id": "tNdxzM1pgtn2",
        "colab_type": "code",
        "outputId": "bb8c091e-696e-45b8-8450-c506d2c41553",
        "colab": {
          "base_uri": "https://localhost:8080/",
          "height": 335
        }
      },
      "source": [
        "# legend takes optional keyword argument loc; this specifies \n",
        "# where to put the legend in the figure\n",
        "ax.legend(loc=1)\n",
        "ax.legend(loc=2)\n",
        "ax.legend(loc=3)\n",
        "ax.legend(loc=4)\n",
        "ax.legend(loc=5)\n",
        "ax.legend(loc=6)\n",
        "ax.legend(loc=7)\n",
        "ax.legend(loc=8)\n",
        "ax.legend(loc=9)\n",
        "fig"
      ],
      "execution_count": 0,
      "outputs": [
        {
          "output_type": "execute_result",
          "data": {
            "image/png": "[encoded data removed]",
            "text/plain": [
              "<Figure size 432x288 with 1 Axes>"
            ]
          },
          "metadata": {
            "tags": []
          },
          "execution_count": 79
        }
      ]
    },
    {
      "cell_type": "markdown",
      "metadata": {
        "id": "cwyihTi9pKKK",
        "colab_type": "text"
      },
      "source": [
        "Colors with matlab like syntax"
      ]
    },
    {
      "cell_type": "code",
      "metadata": {
        "id": "UXXjspmqohPV",
        "colab_type": "code",
        "outputId": "8bce37b8-a93b-4867-d295-677f23d45ba1",
        "colab": {
          "base_uri": "https://localhost:8080/",
          "height": 264
        }
      },
      "source": [
        "# Matlab style line color and style\n",
        "fig, ax = plt.subplots()\n",
        "# blue line with dots\n",
        "ax.plot(x, x**2, 'b.-')\n",
        "# green dashed line\n",
        "ax.plot(y, x**3, 'g-*');"
      ],
      "execution_count": 0,
      "outputs": [
        {
          "output_type": "display_data",
          "data": {
            "image/png": "[encoded data removed]",
            "text/plain": [
              "<Figure size 432x288 with 1 Axes>"
            ]
          },
          "metadata": {
            "tags": []
          }
        }
      ]
    },
    {
      "cell_type": "markdown",
      "metadata": {
        "id": "UHEmz2kVpv-w",
        "colab_type": "text"
      },
      "source": [
        "Colors with the color = parameter"
      ]
    },
    {
      "cell_type": "code",
      "metadata": {
        "id": "Yv00cz3aohNg",
        "colab_type": "code",
        "outputId": "c1744171-c3a0-4a3c-fe10-667cfdf3ee7d",
        "colab": {
          "base_uri": "https://localhost:8080/",
          "height": 264
        }
      },
      "source": [
        "fig, ax = plt.subplots()\n",
        "# half-transparant\n",
        "ax.plot(x, x+1, color='blue', alpha=0.5)\n",
        "# RGB hex code\n",
        "ax.plot(x, x+2, color='#8B008B', alpha=0.5)\n",
        "# RGB hex code\n",
        "ax.plot(x, x+3, color='#FF8C00', alpha=0.5);"
      ],
      "execution_count": 0,
      "outputs": [
        {
          "output_type": "display_data",
          "data": {
            "image/png": "[encoded data removed]",
            "text/plain": [
              "<Figure size 432x288 with 1 Axes>"
            ]
          },
          "metadata": {
            "tags": []
          }
        }
      ]
    },
    {
      "cell_type": "markdown",
      "metadata": {
        "id": "jkVP87zw2iRm",
        "colab_type": "text"
      },
      "source": [
        "Line and Marker Styles"
      ]
    },
    {
      "cell_type": "code",
      "metadata": {
        "id": "gASL-wkZohL-",
        "colab_type": "code",
        "outputId": "f84cffdd-8cfd-497d-98c9-934e6a982dd0",
        "colab": {
          "base_uri": "https://localhost:8080/",
          "height": 374
        }
      },
      "source": [
        "fig, ax = plt.subplots(figsize=(12,6))\n",
        "\n",
        "ax.plot(x, x+1, color=\"red\", linewidth=0.25)\n",
        "ax.plot(x, x+2, color=\"red\", linewidth=0.50)\n",
        "ax.plot(x, x+3, color=\"red\", linewidth=1.00)\n",
        "ax.plot(x, x+4, color=\"red\", linewidth=2.00)\n",
        "\n",
        "# possible linestype options ‘-‘, ‘–’, ‘-.’, ‘:’, ‘steps’\n",
        "ax.plot(x, x+5, color=\"green\", lw=3, linestyle='-')\n",
        "ax.plot(x, x+6, color=\"green\", lw=3, ls='-.')\n",
        "ax.plot(x, x+7, color=\"green\", lw=3, ls=':')\n",
        "\n",
        "# custom dash\n",
        "line, = ax.plot(x, x+8, color=\"black\", lw=1.50)\n",
        "line.set_dashes([5, 10, 15, 10]) # format: line length, space length, ...\n",
        "\n",
        "# possible marker symbols: marker = '+', 'o', '*', 's', ',', '.', '1', '2', '3', '4', ...\n",
        "ax.plot(x, x+ 9, color=\"blue\", lw=3, ls='-', marker='+')\n",
        "ax.plot(x, x+10, color=\"blue\", lw=3, ls='--', marker='o')\n",
        "ax.plot(x, x+11, color=\"blue\", lw=3, ls='-', marker='s')\n",
        "ax.plot(x, x+12, color=\"blue\", lw=3, ls='--', marker='1')\n",
        "\n",
        "# marker size and color\n",
        "ax.plot(x, x+13, color=\"purple\", lw=1, ls='-', marker='o', markersize=2)\n",
        "ax.plot(x, x+14, color=\"purple\", lw=1, ls='-', marker='o', markersize=4)\n",
        "ax.plot(x, x+15, color=\"purple\", lw=1, ls='-', marker='o', markersize=8, markerfacecolor=\"red\")\n",
        "ax.plot(x, x+16, color=\"purple\", lw=1, ls='-', marker='s', markersize=8, \n",
        "        markerfacecolor=\"yellow\", markeredgewidth=3, markeredgecolor=\"green\");"
      ],
      "execution_count": 0,
      "outputs": [
        {
          "output_type": "display_data",
          "data": {
            "image/png": "[encoded data removed]",
            "text/plain": [
              "<Figure size 864x432 with 1 Axes>"
            ]
          },
          "metadata": {
            "tags": []
          }
        }
      ]
    },
    {
      "cell_type": "markdown",
      "metadata": {
        "id": "EEsh7QvHuEGZ",
        "colab_type": "text"
      },
      "source": [
        "Plot Range"
      ]
    },
    {
      "cell_type": "code",
      "metadata": {
        "id": "wBnsfWsRohHx",
        "colab_type": "code",
        "outputId": "c826df90-7b20-4d97-ce75-2d63550f5cc9",
        "colab": {
          "base_uri": "https://localhost:8080/",
          "height": 281
        }
      },
      "source": [
        "fig, axes = plt.subplots(1, 3, figsize=(12,4))\n",
        "\n",
        "axes[0].plot(x, x**2, x, x**3)\n",
        "axes[0].set_title('default axes ranges')\n",
        "\n",
        "axes[1].plot(x, x**2, x, x**3)\n",
        "axes[1].axis('tight')\n",
        "axes[1].set_title('tight_axes')\n",
        "\n",
        "axes[2].plot(x, x**2, x, x**3)\n",
        "axes[2].set_ylim([0,60])\n",
        "axes[2].set_xlim([2,5])\n",
        "axes[2].set_title('custom axes range');"
      ],
      "execution_count": 0,
      "outputs": [
        {
          "output_type": "display_data",
          "data": {
            "image/png": "[encoded data removed]",
            "text/plain": [
              "<Figure size 864x288 with 3 Axes>"
            ]
          },
          "metadata": {
            "tags": []
          }
        }
      ]
    },
    {
      "cell_type": "markdown",
      "metadata": {
        "id": "xNl-qmVUu0-b",
        "colab_type": "text"
      },
      "source": [
        "Imitate a Real World Example"
      ]
    },
    {
      "cell_type": "code",
      "metadata": {
        "id": "GMobjlaAohFn",
        "colab_type": "code",
        "outputId": "b7662613-7edb-4832-c82c-a39f3171f3d2",
        "colab": {
          "base_uri": "https://localhost:8080/",
          "height": 354
        }
      },
      "source": [
        "from IPython.display import display, Image\n",
        "\n",
        "url = 'https://fivethirtyeight.com/wp-content/uploads/2017/09/mehtahickey-inconvenient-0830-1.png'\n",
        "example = Image(url=url, width=400)\n",
        "\n",
        "display(example)"
      ],
      "execution_count": 0,
      "outputs": [
        {
          "output_type": "display_data",
          "data": {
            "text/html": [
              "<img src=\"https://fivethirtyeight.com/wp-content/uploads/2017/09/mehtahickey-inconvenient-0830-1.png\" width=\"400\"/>"
            ],
            "text/plain": [
              "<IPython.core.display.Image object>"
            ]
          },
          "metadata": {
            "tags": []
          }
        }
      ]
    },
    {
      "cell_type": "markdown",
      "metadata": {
        "id": "QECyhIIkvlOI",
        "colab_type": "text"
      },
      "source": [
        "Make Fake Prototypes"
      ]
    },
    {
      "cell_type": "code",
      "metadata": {
        "id": "2tnycZ_RohCy",
        "colab_type": "code",
        "outputId": "d7ae9b75-ec14-4d3f-d099-7f6dbc86f0ab",
        "colab": {
          "base_uri": "https://localhost:8080/",
          "height": 478
        }
      },
      "source": [
        "# What styles are available in matplotlib? There's one for 538.\n",
        "plt.style.available"
      ],
      "execution_count": 0,
      "outputs": [
        {
          "output_type": "execute_result",
          "data": {
            "text/plain": [
              "['tableau-colorblind10',\n",
              " 'seaborn-muted',\n",
              " 'seaborn',\n",
              " 'dark_background',\n",
              " 'grayscale',\n",
              " 'seaborn-paper',\n",
              " 'seaborn-ticks',\n",
              " 'classic',\n",
              " 'seaborn-white',\n",
              " 'seaborn-bright',\n",
              " '_classic_test',\n",
              " 'seaborn-pastel',\n",
              " 'seaborn-poster',\n",
              " 'bmh',\n",
              " 'seaborn-darkgrid',\n",
              " 'seaborn-notebook',\n",
              " 'seaborn-dark',\n",
              " 'seaborn-dark-palette',\n",
              " 'fivethirtyeight',\n",
              " 'seaborn-deep',\n",
              " 'Solarize_Light2',\n",
              " 'fast',\n",
              " 'seaborn-colorblind',\n",
              " 'seaborn-talk',\n",
              " 'ggplot',\n",
              " 'seaborn-whitegrid']"
            ]
          },
          "metadata": {
            "tags": []
          },
          "execution_count": 13
        }
      ]
    },
    {
      "cell_type": "code",
      "metadata": {
        "id": "c-FJAj3VohAr",
        "colab_type": "code",
        "colab": {}
      },
      "source": [
        "plt.style.use('fivethirtyeight')"
      ],
      "execution_count": 0,
      "outputs": []
    },
    {
      "cell_type": "code",
      "metadata": {
        "id": "HjDksuS1v1I8",
        "colab_type": "code",
        "colab": {}
      },
      "source": [
        "# Create fake data to replicate the blog post figure.\n",
        "fakelist=[38, 3, 2, 1, 2, 4, 6, 5, 5, 33]"
      ],
      "execution_count": 0,
      "outputs": []
    },
    {
      "cell_type": "code",
      "metadata": {
        "id": "feNaaE5zv2DG",
        "colab_type": "code",
        "outputId": "c2ac5a1f-d78f-4cd6-a978-d6d34376d392",
        "colab": {
          "base_uri": "https://localhost:8080/",
          "height": 284
        }
      },
      "source": [
        "# replicate the figure post\n",
        "fake = pd.Series(fakelist, index=range(1,11))\n",
        "fake.plot.bar(color='C1', width=0.9);"
      ],
      "execution_count": 0,
      "outputs": [
        {
          "output_type": "display_data",
          "data": {
            "image/png": "[encoded data removed]",
            "text/plain": [
              "<Figure size 432x288 with 1 Axes>"
            ]
          },
          "metadata": {
            "tags": []
          }
        }
      ]
    },
    {
      "cell_type": "code",
      "metadata": {
        "id": "X0Q-9D0hv2AN",
        "colab_type": "code",
        "colab": {}
      },
      "source": [
        "fakelist2 = [1, 1, 1, 1, 1, 1, 1, 1, 1, 1, 1, 1, 1, 1, 1, 1, 1, 1, 1, 1, 1, 1, 1, 1,\n",
        "     2, 2, 2, \n",
        "     3, 3, 3,\n",
        "     4, 4,\n",
        "     5, 5, 5,\n",
        "     6, 6, 6, 6,\n",
        "     7, 7, 7, 7, 7,\n",
        "     8, 8, 8, 8,\n",
        "     9, 9, 9, 9, \n",
        "     10, 10, 10, 10, 10, 10, 10, 10, 10, 10, 10, 10, 10, 10, 10, 10, 10, 10]"
      ],
      "execution_count": 0,
      "outputs": []
    },
    {
      "cell_type": "code",
      "metadata": {
        "id": "CSiyRQoav19U",
        "colab_type": "code",
        "colab": {}
      },
      "source": [
        "fake2 = pd.Series(fakelist2)"
      ],
      "execution_count": 0,
      "outputs": []
    },
    {
      "cell_type": "code",
      "metadata": {
        "id": "u3vDdfupv1F1",
        "colab_type": "code",
        "outputId": "bccefb2f-d990-487b-9ef8-8a966ffb2b76",
        "colab": {
          "base_uri": "https://localhost:8080/",
          "height": 288
        }
      },
      "source": [
        "fake2.value_counts().sort_index().plot.bar(color='C1', width=0.9);"
      ],
      "execution_count": 0,
      "outputs": [
        {
          "output_type": "display_data",
          "data": {
            "image/png": "[encoded data removed]",
            "text/plain": [
              "<Figure size 432x288 with 1 Axes>"
            ]
          },
          "metadata": {
            "tags": []
          }
        }
      ]
    },
    {
      "cell_type": "markdown",
      "metadata": {
        "id": "0vxImV5BxT3U",
        "colab_type": "text"
      },
      "source": [
        "Annotate with Text"
      ]
    },
    {
      "cell_type": "code",
      "metadata": {
        "id": "3mAb_PO3v1Cx",
        "colab_type": "code",
        "outputId": "47283cb9-996c-468f-89fe-f23914b396ca",
        "colab": {
          "base_uri": "https://localhost:8080/",
          "height": 328
        }
      },
      "source": [
        "fig, ax = plt.subplots()\n",
        "fig.patch.set(facecolor='white')\n",
        "\n",
        "# Set the bars\n",
        "fake.plot.bar(width=0.9, color='#ED713A')\n",
        "\n",
        "ax.set(facecolor='white')\n",
        "\n",
        "# Set the title and subtitle\n",
        "ax.set_title(\"'An Inconvenient Sequel: Truth To Power' is divisive\",\n",
        "             fontsize=12,\n",
        "             x=.35,\n",
        "             y=1.1,\n",
        "             fontweight='bold')\n",
        "ax.text(s='IMDb ratings for the film as of Aug. 29', fontsize=12, x=-1.85, y=42)\n",
        "\n",
        "# Set x and y axes labels\n",
        "ax.set_xticklabels(range(1,11), rotation=45)\n",
        "ax.set_yticklabels(range(0,50,10), rotation=45)\n",
        "ax.set_yticks(range(0,50,10));\n"
      ],
      "execution_count": 0,
      "outputs": [
        {
          "output_type": "display_data",
          "data": {
            "image/png": "[encoded data removed]",
            "text/plain": [
              "<Figure size 432x288 with 1 Axes>"
            ]
          },
          "metadata": {
            "tags": []
          }
        }
      ]
    },
    {
      "cell_type": "code",
      "metadata": {
        "id": "Df9h_XDwv0_m",
        "colab_type": "code",
        "outputId": "b67f97c8-beea-4fd4-f4a6-51111f311054",
        "colab": {
          "base_uri": "https://localhost:8080/",
          "height": 354
        }
      },
      "source": [
        "display(example)"
      ],
      "execution_count": 0,
      "outputs": [
        {
          "output_type": "display_data",
          "data": {
            "text/html": [
              "<img src=\"https://fivethirtyeight.com/wp-content/uploads/2017/09/mehtahickey-inconvenient-0830-1.png\" width=\"400\"/>"
            ],
            "text/plain": [
              "<IPython.core.display.Image object>"
            ]
          },
          "metadata": {
            "tags": []
          }
        }
      ]
    },
    {
      "cell_type": "code",
      "metadata": {
        "id": "mvpwKP-Uv09f",
        "colab_type": "code",
        "colab": {}
      },
      "source": [
        "# Read the data from 538's github repo\n",
        "df = pd.read_csv('https://raw.githubusercontent.com/fivethirtyeight/data/master/inconvenient-sequel/ratings.csv')"
      ],
      "execution_count": 0,
      "outputs": []
    },
    {
      "cell_type": "code",
      "metadata": {
        "id": "YNjT9ZJ_v07Z",
        "colab_type": "code",
        "outputId": "92c52fa9-0eb0-4f6b-a666-087968729ee4",
        "colab": {
          "base_uri": "https://localhost:8080/",
          "height": 301
        }
      },
      "source": [
        "df.head()"
      ],
      "execution_count": 0,
      "outputs": [
        {
          "output_type": "execute_result",
          "data": {
            "text/html": [
              "<div>\n",
              "<style scoped>\n",
              "    .dataframe tbody tr th:only-of-type {\n",
              "        vertical-align: middle;\n",
              "    }\n",
              "\n",
              "    .dataframe tbody tr th {\n",
              "        vertical-align: top;\n",
              "    }\n",
              "\n",
              "    .dataframe thead th {\n",
              "        text-align: right;\n",
              "    }\n",
              "</style>\n",
              "<table border=\"1\" class=\"dataframe\">\n",
              "  <thead>\n",
              "    <tr style=\"text-align: right;\">\n",
              "      <th></th>\n",
              "      <th>timestamp</th>\n",
              "      <th>respondents</th>\n",
              "      <th>category</th>\n",
              "      <th>link</th>\n",
              "      <th>average</th>\n",
              "      <th>mean</th>\n",
              "      <th>median</th>\n",
              "      <th>1_votes</th>\n",
              "      <th>2_votes</th>\n",
              "      <th>3_votes</th>\n",
              "      <th>4_votes</th>\n",
              "      <th>5_votes</th>\n",
              "      <th>6_votes</th>\n",
              "      <th>7_votes</th>\n",
              "      <th>8_votes</th>\n",
              "      <th>9_votes</th>\n",
              "      <th>10_votes</th>\n",
              "      <th>1_pct</th>\n",
              "      <th>2_pct</th>\n",
              "      <th>3_pct</th>\n",
              "      <th>4_pct</th>\n",
              "      <th>5_pct</th>\n",
              "      <th>6_pct</th>\n",
              "      <th>7_pct</th>\n",
              "      <th>8_pct</th>\n",
              "      <th>9_pct</th>\n",
              "      <th>10_pct</th>\n",
              "    </tr>\n",
              "  </thead>\n",
              "  <tbody>\n",
              "    <tr>\n",
              "      <th>0</th>\n",
              "      <td>2017-07-17 12:28:32.785639</td>\n",
              "      <td>402</td>\n",
              "      <td>Males</td>\n",
              "      <td>http://www.imdb.com/title/tt6322922/ratings-male</td>\n",
              "      <td>4.6</td>\n",
              "      <td>5.0</td>\n",
              "      <td>2</td>\n",
              "      <td>197</td>\n",
              "      <td>7</td>\n",
              "      <td>7</td>\n",
              "      <td>3</td>\n",
              "      <td>7</td>\n",
              "      <td>7</td>\n",
              "      <td>11</td>\n",
              "      <td>8</td>\n",
              "      <td>20</td>\n",
              "      <td>135</td>\n",
              "      <td>49.0</td>\n",
              "      <td>1.7</td>\n",
              "      <td>1.7</td>\n",
              "      <td>0.7</td>\n",
              "      <td>1.7</td>\n",
              "      <td>1.7</td>\n",
              "      <td>2.7</td>\n",
              "      <td>2.0</td>\n",
              "      <td>5.0</td>\n",
              "      <td>33.6</td>\n",
              "    </tr>\n",
              "    <tr>\n",
              "      <th>1</th>\n",
              "      <td>2017-07-17 12:28:33.025600</td>\n",
              "      <td>78</td>\n",
              "      <td>Females</td>\n",
              "      <td>http://www.imdb.com/title/tt6322922/ratings-fe...</td>\n",
              "      <td>6.9</td>\n",
              "      <td>7.7</td>\n",
              "      <td>10</td>\n",
              "      <td>16</td>\n",
              "      <td>1</td>\n",
              "      <td>0</td>\n",
              "      <td>1</td>\n",
              "      <td>1</td>\n",
              "      <td>0</td>\n",
              "      <td>3</td>\n",
              "      <td>4</td>\n",
              "      <td>3</td>\n",
              "      <td>49</td>\n",
              "      <td>20.5</td>\n",
              "      <td>1.3</td>\n",
              "      <td>0.0</td>\n",
              "      <td>1.3</td>\n",
              "      <td>1.3</td>\n",
              "      <td>0.0</td>\n",
              "      <td>3.8</td>\n",
              "      <td>5.1</td>\n",
              "      <td>3.8</td>\n",
              "      <td>62.8</td>\n",
              "    </tr>\n",
              "    <tr>\n",
              "      <th>2</th>\n",
              "      <td>2017-07-17 12:28:33.273919</td>\n",
              "      <td>4</td>\n",
              "      <td>Aged under 18</td>\n",
              "      <td>http://www.imdb.com/title/tt6322922/ratings-age_1</td>\n",
              "      <td>4.2</td>\n",
              "      <td>4.2</td>\n",
              "      <td>3</td>\n",
              "      <td>2</td>\n",
              "      <td>0</td>\n",
              "      <td>0</td>\n",
              "      <td>0</td>\n",
              "      <td>1</td>\n",
              "      <td>0</td>\n",
              "      <td>0</td>\n",
              "      <td>0</td>\n",
              "      <td>0</td>\n",
              "      <td>1</td>\n",
              "      <td>50.0</td>\n",
              "      <td>0.0</td>\n",
              "      <td>0.0</td>\n",
              "      <td>0.0</td>\n",
              "      <td>25.0</td>\n",
              "      <td>0.0</td>\n",
              "      <td>0.0</td>\n",
              "      <td>0.0</td>\n",
              "      <td>0.0</td>\n",
              "      <td>25.0</td>\n",
              "    </tr>\n",
              "    <tr>\n",
              "      <th>3</th>\n",
              "      <td>2017-07-17 12:28:33.495325</td>\n",
              "      <td>4</td>\n",
              "      <td>Males under 18</td>\n",
              "      <td>http://www.imdb.com/title/tt6322922/ratings-ma...</td>\n",
              "      <td>4.2</td>\n",
              "      <td>4.2</td>\n",
              "      <td>3</td>\n",
              "      <td>2</td>\n",
              "      <td>0</td>\n",
              "      <td>0</td>\n",
              "      <td>0</td>\n",
              "      <td>1</td>\n",
              "      <td>0</td>\n",
              "      <td>0</td>\n",
              "      <td>0</td>\n",
              "      <td>0</td>\n",
              "      <td>1</td>\n",
              "      <td>50.0</td>\n",
              "      <td>0.0</td>\n",
              "      <td>0.0</td>\n",
              "      <td>0.0</td>\n",
              "      <td>25.0</td>\n",
              "      <td>0.0</td>\n",
              "      <td>0.0</td>\n",
              "      <td>0.0</td>\n",
              "      <td>0.0</td>\n",
              "      <td>25.0</td>\n",
              "    </tr>\n",
              "    <tr>\n",
              "      <th>4</th>\n",
              "      <td>2017-07-17 12:28:33.722849</td>\n",
              "      <td>130</td>\n",
              "      <td>Aged 18-29</td>\n",
              "      <td>http://www.imdb.com/title/tt6322922/ratings-age_2</td>\n",
              "      <td>6.3</td>\n",
              "      <td>6.5</td>\n",
              "      <td>9</td>\n",
              "      <td>41</td>\n",
              "      <td>0</td>\n",
              "      <td>3</td>\n",
              "      <td>1</td>\n",
              "      <td>2</td>\n",
              "      <td>3</td>\n",
              "      <td>6</td>\n",
              "      <td>4</td>\n",
              "      <td>6</td>\n",
              "      <td>64</td>\n",
              "      <td>31.5</td>\n",
              "      <td>0.0</td>\n",
              "      <td>2.3</td>\n",
              "      <td>0.8</td>\n",
              "      <td>1.5</td>\n",
              "      <td>2.3</td>\n",
              "      <td>4.6</td>\n",
              "      <td>3.1</td>\n",
              "      <td>4.6</td>\n",
              "      <td>49.2</td>\n",
              "    </tr>\n",
              "  </tbody>\n",
              "</table>\n",
              "</div>"
            ],
            "text/plain": [
              "                    timestamp  respondents  ... 9_pct 10_pct\n",
              "0  2017-07-17 12:28:32.785639          402  ...   5.0   33.6\n",
              "1  2017-07-17 12:28:33.025600           78  ...   3.8   62.8\n",
              "2  2017-07-17 12:28:33.273919            4  ...   0.0   25.0\n",
              "3  2017-07-17 12:28:33.495325            4  ...   0.0   25.0\n",
              "4  2017-07-17 12:28:33.722849          130  ...   4.6   49.2\n",
              "\n",
              "[5 rows x 27 columns]"
            ]
          },
          "metadata": {
            "tags": []
          },
          "execution_count": 24
        }
      ]
    },
    {
      "cell_type": "code",
      "metadata": {
        "id": "Rlb8Nm4qv04L",
        "colab_type": "code",
        "colab": {}
      },
      "source": [
        "# Convert timestamps strings to actual datetime objects\n",
        "df['timestamp'] = pd.to_datetime(df['timestamp'])"
      ],
      "execution_count": 0,
      "outputs": []
    },
    {
      "cell_type": "code",
      "metadata": {
        "id": "8muF0MKfv02A",
        "colab_type": "code",
        "colab": {}
      },
      "source": [
        "# Use timestamp as unique index identifier \n",
        "# so we can select rows by timestamp \n",
        "df.set_index('timestamp', inplace=True)"
      ],
      "execution_count": 0,
      "outputs": []
    },
    {
      "cell_type": "code",
      "metadata": {
        "id": "zkJBFvXwv0zO",
        "colab_type": "code",
        "outputId": "c814f067-fe44-41f8-f75b-e0d56efbdd39",
        "colab": {
          "base_uri": "https://localhost:8080/",
          "height": 331
        }
      },
      "source": [
        "df.head()"
      ],
      "execution_count": 0,
      "outputs": [
        {
          "output_type": "execute_result",
          "data": {
            "text/html": [
              "<div>\n",
              "<style scoped>\n",
              "    .dataframe tbody tr th:only-of-type {\n",
              "        vertical-align: middle;\n",
              "    }\n",
              "\n",
              "    .dataframe tbody tr th {\n",
              "        vertical-align: top;\n",
              "    }\n",
              "\n",
              "    .dataframe thead th {\n",
              "        text-align: right;\n",
              "    }\n",
              "</style>\n",
              "<table border=\"1\" class=\"dataframe\">\n",
              "  <thead>\n",
              "    <tr style=\"text-align: right;\">\n",
              "      <th></th>\n",
              "      <th>respondents</th>\n",
              "      <th>category</th>\n",
              "      <th>link</th>\n",
              "      <th>average</th>\n",
              "      <th>mean</th>\n",
              "      <th>median</th>\n",
              "      <th>1_votes</th>\n",
              "      <th>2_votes</th>\n",
              "      <th>3_votes</th>\n",
              "      <th>4_votes</th>\n",
              "      <th>5_votes</th>\n",
              "      <th>6_votes</th>\n",
              "      <th>7_votes</th>\n",
              "      <th>8_votes</th>\n",
              "      <th>9_votes</th>\n",
              "      <th>10_votes</th>\n",
              "      <th>1_pct</th>\n",
              "      <th>2_pct</th>\n",
              "      <th>3_pct</th>\n",
              "      <th>4_pct</th>\n",
              "      <th>5_pct</th>\n",
              "      <th>6_pct</th>\n",
              "      <th>7_pct</th>\n",
              "      <th>8_pct</th>\n",
              "      <th>9_pct</th>\n",
              "      <th>10_pct</th>\n",
              "    </tr>\n",
              "    <tr>\n",
              "      <th>timestamp</th>\n",
              "      <th></th>\n",
              "      <th></th>\n",
              "      <th></th>\n",
              "      <th></th>\n",
              "      <th></th>\n",
              "      <th></th>\n",
              "      <th></th>\n",
              "      <th></th>\n",
              "      <th></th>\n",
              "      <th></th>\n",
              "      <th></th>\n",
              "      <th></th>\n",
              "      <th></th>\n",
              "      <th></th>\n",
              "      <th></th>\n",
              "      <th></th>\n",
              "      <th></th>\n",
              "      <th></th>\n",
              "      <th></th>\n",
              "      <th></th>\n",
              "      <th></th>\n",
              "      <th></th>\n",
              "      <th></th>\n",
              "      <th></th>\n",
              "      <th></th>\n",
              "      <th></th>\n",
              "    </tr>\n",
              "  </thead>\n",
              "  <tbody>\n",
              "    <tr>\n",
              "      <th>2017-07-17 12:28:32.785639</th>\n",
              "      <td>402</td>\n",
              "      <td>Males</td>\n",
              "      <td>http://www.imdb.com/title/tt6322922/ratings-male</td>\n",
              "      <td>4.6</td>\n",
              "      <td>5.0</td>\n",
              "      <td>2</td>\n",
              "      <td>197</td>\n",
              "      <td>7</td>\n",
              "      <td>7</td>\n",
              "      <td>3</td>\n",
              "      <td>7</td>\n",
              "      <td>7</td>\n",
              "      <td>11</td>\n",
              "      <td>8</td>\n",
              "      <td>20</td>\n",
              "      <td>135</td>\n",
              "      <td>49.0</td>\n",
              "      <td>1.7</td>\n",
              "      <td>1.7</td>\n",
              "      <td>0.7</td>\n",
              "      <td>1.7</td>\n",
              "      <td>1.7</td>\n",
              "      <td>2.7</td>\n",
              "      <td>2.0</td>\n",
              "      <td>5.0</td>\n",
              "      <td>33.6</td>\n",
              "    </tr>\n",
              "    <tr>\n",
              "      <th>2017-07-17 12:28:33.025600</th>\n",
              "      <td>78</td>\n",
              "      <td>Females</td>\n",
              "      <td>http://www.imdb.com/title/tt6322922/ratings-fe...</td>\n",
              "      <td>6.9</td>\n",
              "      <td>7.7</td>\n",
              "      <td>10</td>\n",
              "      <td>16</td>\n",
              "      <td>1</td>\n",
              "      <td>0</td>\n",
              "      <td>1</td>\n",
              "      <td>1</td>\n",
              "      <td>0</td>\n",
              "      <td>3</td>\n",
              "      <td>4</td>\n",
              "      <td>3</td>\n",
              "      <td>49</td>\n",
              "      <td>20.5</td>\n",
              "      <td>1.3</td>\n",
              "      <td>0.0</td>\n",
              "      <td>1.3</td>\n",
              "      <td>1.3</td>\n",
              "      <td>0.0</td>\n",
              "      <td>3.8</td>\n",
              "      <td>5.1</td>\n",
              "      <td>3.8</td>\n",
              "      <td>62.8</td>\n",
              "    </tr>\n",
              "    <tr>\n",
              "      <th>2017-07-17 12:28:33.273919</th>\n",
              "      <td>4</td>\n",
              "      <td>Aged under 18</td>\n",
              "      <td>http://www.imdb.com/title/tt6322922/ratings-age_1</td>\n",
              "      <td>4.2</td>\n",
              "      <td>4.2</td>\n",
              "      <td>3</td>\n",
              "      <td>2</td>\n",
              "      <td>0</td>\n",
              "      <td>0</td>\n",
              "      <td>0</td>\n",
              "      <td>1</td>\n",
              "      <td>0</td>\n",
              "      <td>0</td>\n",
              "      <td>0</td>\n",
              "      <td>0</td>\n",
              "      <td>1</td>\n",
              "      <td>50.0</td>\n",
              "      <td>0.0</td>\n",
              "      <td>0.0</td>\n",
              "      <td>0.0</td>\n",
              "      <td>25.0</td>\n",
              "      <td>0.0</td>\n",
              "      <td>0.0</td>\n",
              "      <td>0.0</td>\n",
              "      <td>0.0</td>\n",
              "      <td>25.0</td>\n",
              "    </tr>\n",
              "    <tr>\n",
              "      <th>2017-07-17 12:28:33.495325</th>\n",
              "      <td>4</td>\n",
              "      <td>Males under 18</td>\n",
              "      <td>http://www.imdb.com/title/tt6322922/ratings-ma...</td>\n",
              "      <td>4.2</td>\n",
              "      <td>4.2</td>\n",
              "      <td>3</td>\n",
              "      <td>2</td>\n",
              "      <td>0</td>\n",
              "      <td>0</td>\n",
              "      <td>0</td>\n",
              "      <td>1</td>\n",
              "      <td>0</td>\n",
              "      <td>0</td>\n",
              "      <td>0</td>\n",
              "      <td>0</td>\n",
              "      <td>1</td>\n",
              "      <td>50.0</td>\n",
              "      <td>0.0</td>\n",
              "      <td>0.0</td>\n",
              "      <td>0.0</td>\n",
              "      <td>25.0</td>\n",
              "      <td>0.0</td>\n",
              "      <td>0.0</td>\n",
              "      <td>0.0</td>\n",
              "      <td>0.0</td>\n",
              "      <td>25.0</td>\n",
              "    </tr>\n",
              "    <tr>\n",
              "      <th>2017-07-17 12:28:33.722849</th>\n",
              "      <td>130</td>\n",
              "      <td>Aged 18-29</td>\n",
              "      <td>http://www.imdb.com/title/tt6322922/ratings-age_2</td>\n",
              "      <td>6.3</td>\n",
              "      <td>6.5</td>\n",
              "      <td>9</td>\n",
              "      <td>41</td>\n",
              "      <td>0</td>\n",
              "      <td>3</td>\n",
              "      <td>1</td>\n",
              "      <td>2</td>\n",
              "      <td>3</td>\n",
              "      <td>6</td>\n",
              "      <td>4</td>\n",
              "      <td>6</td>\n",
              "      <td>64</td>\n",
              "      <td>31.5</td>\n",
              "      <td>0.0</td>\n",
              "      <td>2.3</td>\n",
              "      <td>0.8</td>\n",
              "      <td>1.5</td>\n",
              "      <td>2.3</td>\n",
              "      <td>4.6</td>\n",
              "      <td>3.1</td>\n",
              "      <td>4.6</td>\n",
              "      <td>49.2</td>\n",
              "    </tr>\n",
              "  </tbody>\n",
              "</table>\n",
              "</div>"
            ],
            "text/plain": [
              "                            respondents        category  ... 9_pct  10_pct\n",
              "timestamp                                                ...              \n",
              "2017-07-17 12:28:32.785639          402           Males  ...   5.0    33.6\n",
              "2017-07-17 12:28:33.025600           78         Females  ...   3.8    62.8\n",
              "2017-07-17 12:28:33.273919            4   Aged under 18  ...   0.0    25.0\n",
              "2017-07-17 12:28:33.495325            4  Males under 18  ...   0.0    25.0\n",
              "2017-07-17 12:28:33.722849          130      Aged 18-29  ...   4.6    49.2\n",
              "\n",
              "[5 rows x 26 columns]"
            ]
          },
          "metadata": {
            "tags": []
          },
          "execution_count": 27
        }
      ]
    },
    {
      "cell_type": "code",
      "metadata": {
        "id": "WXNXnD2xv0wZ",
        "colab_type": "code",
        "colab": {}
      },
      "source": [
        "# grab only the rows corresponding to the last day\n",
        "lastday = df['2017-08-29']"
      ],
      "execution_count": 0,
      "outputs": []
    },
    {
      "cell_type": "code",
      "metadata": {
        "id": "aChw0Frcv0t3",
        "colab_type": "code",
        "colab": {}
      },
      "source": [
        "# get the demographic breakdowns for all IMDb users on the last day\n",
        "lastday_filtered = lastday[lastday['category']=='IMDb users']"
      ],
      "execution_count": 0,
      "outputs": []
    },
    {
      "cell_type": "code",
      "metadata": {
        "id": "yjWkdQYfv0rT",
        "colab_type": "code",
        "outputId": "7d46a549-e6f3-4409-fc6e-590c5416abd6",
        "colab": {
          "base_uri": "https://localhost:8080/",
          "height": 331
        }
      },
      "source": [
        "lastday_filtered.tail()"
      ],
      "execution_count": 0,
      "outputs": [
        {
          "output_type": "execute_result",
          "data": {
            "text/html": [
              "<div>\n",
              "<style scoped>\n",
              "    .dataframe tbody tr th:only-of-type {\n",
              "        vertical-align: middle;\n",
              "    }\n",
              "\n",
              "    .dataframe tbody tr th {\n",
              "        vertical-align: top;\n",
              "    }\n",
              "\n",
              "    .dataframe thead th {\n",
              "        text-align: right;\n",
              "    }\n",
              "</style>\n",
              "<table border=\"1\" class=\"dataframe\">\n",
              "  <thead>\n",
              "    <tr style=\"text-align: right;\">\n",
              "      <th></th>\n",
              "      <th>respondents</th>\n",
              "      <th>category</th>\n",
              "      <th>link</th>\n",
              "      <th>average</th>\n",
              "      <th>mean</th>\n",
              "      <th>median</th>\n",
              "      <th>1_votes</th>\n",
              "      <th>2_votes</th>\n",
              "      <th>3_votes</th>\n",
              "      <th>4_votes</th>\n",
              "      <th>5_votes</th>\n",
              "      <th>6_votes</th>\n",
              "      <th>7_votes</th>\n",
              "      <th>8_votes</th>\n",
              "      <th>9_votes</th>\n",
              "      <th>10_votes</th>\n",
              "      <th>1_pct</th>\n",
              "      <th>2_pct</th>\n",
              "      <th>3_pct</th>\n",
              "      <th>4_pct</th>\n",
              "      <th>5_pct</th>\n",
              "      <th>6_pct</th>\n",
              "      <th>7_pct</th>\n",
              "      <th>8_pct</th>\n",
              "      <th>9_pct</th>\n",
              "      <th>10_pct</th>\n",
              "    </tr>\n",
              "    <tr>\n",
              "      <th>timestamp</th>\n",
              "      <th></th>\n",
              "      <th></th>\n",
              "      <th></th>\n",
              "      <th></th>\n",
              "      <th></th>\n",
              "      <th></th>\n",
              "      <th></th>\n",
              "      <th></th>\n",
              "      <th></th>\n",
              "      <th></th>\n",
              "      <th></th>\n",
              "      <th></th>\n",
              "      <th></th>\n",
              "      <th></th>\n",
              "      <th></th>\n",
              "      <th></th>\n",
              "      <th></th>\n",
              "      <th></th>\n",
              "      <th></th>\n",
              "      <th></th>\n",
              "      <th></th>\n",
              "      <th></th>\n",
              "      <th></th>\n",
              "      <th></th>\n",
              "      <th></th>\n",
              "      <th></th>\n",
              "    </tr>\n",
              "  </thead>\n",
              "  <tbody>\n",
              "    <tr>\n",
              "      <th>2017-08-29 22:30:06.423181</th>\n",
              "      <td>2662</td>\n",
              "      <td>IMDb users</td>\n",
              "      <td>http://www.imdb.com/title/tt6322922/ratings</td>\n",
              "      <td>5.4</td>\n",
              "      <td>5.6</td>\n",
              "      <td>7</td>\n",
              "      <td>1021</td>\n",
              "      <td>69</td>\n",
              "      <td>38</td>\n",
              "      <td>25</td>\n",
              "      <td>55</td>\n",
              "      <td>110</td>\n",
              "      <td>154</td>\n",
              "      <td>147</td>\n",
              "      <td>146</td>\n",
              "      <td>897</td>\n",
              "      <td>38.4</td>\n",
              "      <td>2.6</td>\n",
              "      <td>1.4</td>\n",
              "      <td>0.9</td>\n",
              "      <td>2.1</td>\n",
              "      <td>4.1</td>\n",
              "      <td>5.8</td>\n",
              "      <td>5.5</td>\n",
              "      <td>5.5</td>\n",
              "      <td>33.7</td>\n",
              "    </tr>\n",
              "    <tr>\n",
              "      <th>2017-08-29 22:40:06.233659</th>\n",
              "      <td>2662</td>\n",
              "      <td>IMDb users</td>\n",
              "      <td>http://www.imdb.com/title/tt6322922/ratings</td>\n",
              "      <td>5.4</td>\n",
              "      <td>5.6</td>\n",
              "      <td>7</td>\n",
              "      <td>1021</td>\n",
              "      <td>69</td>\n",
              "      <td>38</td>\n",
              "      <td>25</td>\n",
              "      <td>55</td>\n",
              "      <td>110</td>\n",
              "      <td>154</td>\n",
              "      <td>147</td>\n",
              "      <td>146</td>\n",
              "      <td>897</td>\n",
              "      <td>38.4</td>\n",
              "      <td>2.6</td>\n",
              "      <td>1.4</td>\n",
              "      <td>0.9</td>\n",
              "      <td>2.1</td>\n",
              "      <td>4.1</td>\n",
              "      <td>5.8</td>\n",
              "      <td>5.5</td>\n",
              "      <td>5.5</td>\n",
              "      <td>33.7</td>\n",
              "    </tr>\n",
              "    <tr>\n",
              "      <th>2017-08-29 22:50:06.592571</th>\n",
              "      <td>2662</td>\n",
              "      <td>IMDb users</td>\n",
              "      <td>http://www.imdb.com/title/tt6322922/ratings</td>\n",
              "      <td>5.4</td>\n",
              "      <td>5.6</td>\n",
              "      <td>7</td>\n",
              "      <td>1021</td>\n",
              "      <td>69</td>\n",
              "      <td>38</td>\n",
              "      <td>25</td>\n",
              "      <td>55</td>\n",
              "      <td>110</td>\n",
              "      <td>154</td>\n",
              "      <td>147</td>\n",
              "      <td>146</td>\n",
              "      <td>897</td>\n",
              "      <td>38.4</td>\n",
              "      <td>2.6</td>\n",
              "      <td>1.4</td>\n",
              "      <td>0.9</td>\n",
              "      <td>2.1</td>\n",
              "      <td>4.1</td>\n",
              "      <td>5.8</td>\n",
              "      <td>5.5</td>\n",
              "      <td>5.5</td>\n",
              "      <td>33.7</td>\n",
              "    </tr>\n",
              "    <tr>\n",
              "      <th>2017-08-29 23:00:05.829558</th>\n",
              "      <td>2662</td>\n",
              "      <td>IMDb users</td>\n",
              "      <td>http://www.imdb.com/title/tt6322922/ratings</td>\n",
              "      <td>5.4</td>\n",
              "      <td>5.6</td>\n",
              "      <td>7</td>\n",
              "      <td>1021</td>\n",
              "      <td>69</td>\n",
              "      <td>38</td>\n",
              "      <td>25</td>\n",
              "      <td>55</td>\n",
              "      <td>110</td>\n",
              "      <td>154</td>\n",
              "      <td>147</td>\n",
              "      <td>146</td>\n",
              "      <td>897</td>\n",
              "      <td>38.4</td>\n",
              "      <td>2.6</td>\n",
              "      <td>1.4</td>\n",
              "      <td>0.9</td>\n",
              "      <td>2.1</td>\n",
              "      <td>4.1</td>\n",
              "      <td>5.8</td>\n",
              "      <td>5.5</td>\n",
              "      <td>5.5</td>\n",
              "      <td>33.7</td>\n",
              "    </tr>\n",
              "    <tr>\n",
              "      <th>2017-08-29 23:10:06.218251</th>\n",
              "      <td>2662</td>\n",
              "      <td>IMDb users</td>\n",
              "      <td>http://www.imdb.com/title/tt6322922/ratings</td>\n",
              "      <td>5.4</td>\n",
              "      <td>5.6</td>\n",
              "      <td>7</td>\n",
              "      <td>1021</td>\n",
              "      <td>69</td>\n",
              "      <td>38</td>\n",
              "      <td>25</td>\n",
              "      <td>55</td>\n",
              "      <td>110</td>\n",
              "      <td>154</td>\n",
              "      <td>147</td>\n",
              "      <td>146</td>\n",
              "      <td>897</td>\n",
              "      <td>38.4</td>\n",
              "      <td>2.6</td>\n",
              "      <td>1.4</td>\n",
              "      <td>0.9</td>\n",
              "      <td>2.1</td>\n",
              "      <td>4.1</td>\n",
              "      <td>5.8</td>\n",
              "      <td>5.5</td>\n",
              "      <td>5.5</td>\n",
              "      <td>33.7</td>\n",
              "    </tr>\n",
              "  </tbody>\n",
              "</table>\n",
              "</div>"
            ],
            "text/plain": [
              "                            respondents    category  ... 9_pct  10_pct\n",
              "timestamp                                            ...              \n",
              "2017-08-29 22:30:06.423181         2662  IMDb users  ...   5.5    33.7\n",
              "2017-08-29 22:40:06.233659         2662  IMDb users  ...   5.5    33.7\n",
              "2017-08-29 22:50:06.592571         2662  IMDb users  ...   5.5    33.7\n",
              "2017-08-29 23:00:05.829558         2662  IMDb users  ...   5.5    33.7\n",
              "2017-08-29 23:10:06.218251         2662  IMDb users  ...   5.5    33.7\n",
              "\n",
              "[5 rows x 26 columns]"
            ]
          },
          "metadata": {
            "tags": []
          },
          "execution_count": 30
        }
      ]
    },
    {
      "cell_type": "code",
      "metadata": {
        "id": "4-9IGx4Zv0n9",
        "colab_type": "code",
        "outputId": "33a4adfe-0c20-4e13-de5a-f023f934dcff",
        "colab": {
          "base_uri": "https://localhost:8080/",
          "height": 827
        }
      },
      "source": [
        "# Grab the very last line (latest timestamp) of IMDb user ratings\n",
        "# this should be the most up to date data from the dataset\n",
        "final = lastday_filtered.tail(1)\n",
        "final.T"
      ],
      "execution_count": 0,
      "outputs": [
        {
          "output_type": "execute_result",
          "data": {
            "text/html": [
              "<div>\n",
              "<style scoped>\n",
              "    .dataframe tbody tr th:only-of-type {\n",
              "        vertical-align: middle;\n",
              "    }\n",
              "\n",
              "    .dataframe tbody tr th {\n",
              "        vertical-align: top;\n",
              "    }\n",
              "\n",
              "    .dataframe thead th {\n",
              "        text-align: right;\n",
              "    }\n",
              "</style>\n",
              "<table border=\"1\" class=\"dataframe\">\n",
              "  <thead>\n",
              "    <tr style=\"text-align: right;\">\n",
              "      <th>timestamp</th>\n",
              "      <th>2017-08-29 23:10:06.218251</th>\n",
              "    </tr>\n",
              "  </thead>\n",
              "  <tbody>\n",
              "    <tr>\n",
              "      <th>respondents</th>\n",
              "      <td>2662</td>\n",
              "    </tr>\n",
              "    <tr>\n",
              "      <th>category</th>\n",
              "      <td>IMDb users</td>\n",
              "    </tr>\n",
              "    <tr>\n",
              "      <th>link</th>\n",
              "      <td>http://www.imdb.com/title/tt6322922/ratings</td>\n",
              "    </tr>\n",
              "    <tr>\n",
              "      <th>average</th>\n",
              "      <td>5.4</td>\n",
              "    </tr>\n",
              "    <tr>\n",
              "      <th>mean</th>\n",
              "      <td>5.6</td>\n",
              "    </tr>\n",
              "    <tr>\n",
              "      <th>median</th>\n",
              "      <td>7</td>\n",
              "    </tr>\n",
              "    <tr>\n",
              "      <th>1_votes</th>\n",
              "      <td>1021</td>\n",
              "    </tr>\n",
              "    <tr>\n",
              "      <th>2_votes</th>\n",
              "      <td>69</td>\n",
              "    </tr>\n",
              "    <tr>\n",
              "      <th>3_votes</th>\n",
              "      <td>38</td>\n",
              "    </tr>\n",
              "    <tr>\n",
              "      <th>4_votes</th>\n",
              "      <td>25</td>\n",
              "    </tr>\n",
              "    <tr>\n",
              "      <th>5_votes</th>\n",
              "      <td>55</td>\n",
              "    </tr>\n",
              "    <tr>\n",
              "      <th>6_votes</th>\n",
              "      <td>110</td>\n",
              "    </tr>\n",
              "    <tr>\n",
              "      <th>7_votes</th>\n",
              "      <td>154</td>\n",
              "    </tr>\n",
              "    <tr>\n",
              "      <th>8_votes</th>\n",
              "      <td>147</td>\n",
              "    </tr>\n",
              "    <tr>\n",
              "      <th>9_votes</th>\n",
              "      <td>146</td>\n",
              "    </tr>\n",
              "    <tr>\n",
              "      <th>10_votes</th>\n",
              "      <td>897</td>\n",
              "    </tr>\n",
              "    <tr>\n",
              "      <th>1_pct</th>\n",
              "      <td>38.4</td>\n",
              "    </tr>\n",
              "    <tr>\n",
              "      <th>2_pct</th>\n",
              "      <td>2.6</td>\n",
              "    </tr>\n",
              "    <tr>\n",
              "      <th>3_pct</th>\n",
              "      <td>1.4</td>\n",
              "    </tr>\n",
              "    <tr>\n",
              "      <th>4_pct</th>\n",
              "      <td>0.9</td>\n",
              "    </tr>\n",
              "    <tr>\n",
              "      <th>5_pct</th>\n",
              "      <td>2.1</td>\n",
              "    </tr>\n",
              "    <tr>\n",
              "      <th>6_pct</th>\n",
              "      <td>4.1</td>\n",
              "    </tr>\n",
              "    <tr>\n",
              "      <th>7_pct</th>\n",
              "      <td>5.8</td>\n",
              "    </tr>\n",
              "    <tr>\n",
              "      <th>8_pct</th>\n",
              "      <td>5.5</td>\n",
              "    </tr>\n",
              "    <tr>\n",
              "      <th>9_pct</th>\n",
              "      <td>5.5</td>\n",
              "    </tr>\n",
              "    <tr>\n",
              "      <th>10_pct</th>\n",
              "      <td>33.7</td>\n",
              "    </tr>\n",
              "  </tbody>\n",
              "</table>\n",
              "</div>"
            ],
            "text/plain": [
              "timestamp                     2017-08-29 23:10:06.218251\n",
              "respondents                                         2662\n",
              "category                                      IMDb users\n",
              "link         http://www.imdb.com/title/tt6322922/ratings\n",
              "average                                              5.4\n",
              "mean                                                 5.6\n",
              "median                                                 7\n",
              "1_votes                                             1021\n",
              "2_votes                                               69\n",
              "3_votes                                               38\n",
              "4_votes                                               25\n",
              "5_votes                                               55\n",
              "6_votes                                              110\n",
              "7_votes                                              154\n",
              "8_votes                                              147\n",
              "9_votes                                              146\n",
              "10_votes                                             897\n",
              "1_pct                                               38.4\n",
              "2_pct                                                2.6\n",
              "3_pct                                                1.4\n",
              "4_pct                                                0.9\n",
              "5_pct                                                2.1\n",
              "6_pct                                                4.1\n",
              "7_pct                                                5.8\n",
              "8_pct                                                5.5\n",
              "9_pct                                                5.5\n",
              "10_pct                                              33.7"
            ]
          },
          "metadata": {
            "tags": []
          },
          "execution_count": 31
        }
      ]
    },
    {
      "cell_type": "code",
      "metadata": {
        "id": "e2Nq-s_Dv0l_",
        "colab_type": "code",
        "outputId": "5d0009eb-f3a5-4120-f7b4-5ebdc2792551",
        "colab": {
          "base_uri": "https://localhost:8080/",
          "height": 347
        }
      },
      "source": [
        "# Grab only the percentage columns since we don't care about the raw\n",
        "# counts in making our graph\n",
        "pct_columns = ['1_pct', '2_pct', '3_pct', '4_pct', '5_pct',\n",
        "               '6_pct', '7_pct', '8_pct', '9_pct', '10_pct']\n",
        "final[pct_columns].T"
      ],
      "execution_count": 0,
      "outputs": [
        {
          "output_type": "execute_result",
          "data": {
            "text/html": [
              "<div>\n",
              "<style scoped>\n",
              "    .dataframe tbody tr th:only-of-type {\n",
              "        vertical-align: middle;\n",
              "    }\n",
              "\n",
              "    .dataframe tbody tr th {\n",
              "        vertical-align: top;\n",
              "    }\n",
              "\n",
              "    .dataframe thead th {\n",
              "        text-align: right;\n",
              "    }\n",
              "</style>\n",
              "<table border=\"1\" class=\"dataframe\">\n",
              "  <thead>\n",
              "    <tr style=\"text-align: right;\">\n",
              "      <th>timestamp</th>\n",
              "      <th>2017-08-29 23:10:06.218251</th>\n",
              "    </tr>\n",
              "  </thead>\n",
              "  <tbody>\n",
              "    <tr>\n",
              "      <th>1_pct</th>\n",
              "      <td>38.4</td>\n",
              "    </tr>\n",
              "    <tr>\n",
              "      <th>2_pct</th>\n",
              "      <td>2.6</td>\n",
              "    </tr>\n",
              "    <tr>\n",
              "      <th>3_pct</th>\n",
              "      <td>1.4</td>\n",
              "    </tr>\n",
              "    <tr>\n",
              "      <th>4_pct</th>\n",
              "      <td>0.9</td>\n",
              "    </tr>\n",
              "    <tr>\n",
              "      <th>5_pct</th>\n",
              "      <td>2.1</td>\n",
              "    </tr>\n",
              "    <tr>\n",
              "      <th>6_pct</th>\n",
              "      <td>4.1</td>\n",
              "    </tr>\n",
              "    <tr>\n",
              "      <th>7_pct</th>\n",
              "      <td>5.8</td>\n",
              "    </tr>\n",
              "    <tr>\n",
              "      <th>8_pct</th>\n",
              "      <td>5.5</td>\n",
              "    </tr>\n",
              "    <tr>\n",
              "      <th>9_pct</th>\n",
              "      <td>5.5</td>\n",
              "    </tr>\n",
              "    <tr>\n",
              "      <th>10_pct</th>\n",
              "      <td>33.7</td>\n",
              "    </tr>\n",
              "  </tbody>\n",
              "</table>\n",
              "</div>"
            ],
            "text/plain": [
              "timestamp  2017-08-29 23:10:06.218251\n",
              "1_pct                            38.4\n",
              "2_pct                             2.6\n",
              "3_pct                             1.4\n",
              "4_pct                             0.9\n",
              "5_pct                             2.1\n",
              "6_pct                             4.1\n",
              "7_pct                             5.8\n",
              "8_pct                             5.5\n",
              "9_pct                             5.5\n",
              "10_pct                           33.7"
            ]
          },
          "metadata": {
            "tags": []
          },
          "execution_count": 33
        }
      ]
    },
    {
      "cell_type": "code",
      "metadata": {
        "id": "gZAL_p1Sv0kO",
        "colab_type": "code",
        "outputId": "ab43ec33-e0b4-4ac0-b2f0-9e6d22978d4b",
        "colab": {
          "base_uri": "https://localhost:8080/",
          "height": 347
        }
      },
      "source": [
        "# Reset index so that it's numeric again\n",
        "# and rename the percent column for easy access in our plotting\n",
        "plot_data = final[pct_columns].T\n",
        "plot_data.index=range(1,11)\n",
        "plot_data.columns = ['percent']\n",
        "plot_data"
      ],
      "execution_count": 0,
      "outputs": [
        {
          "output_type": "execute_result",
          "data": {
            "text/html": [
              "<div>\n",
              "<style scoped>\n",
              "    .dataframe tbody tr th:only-of-type {\n",
              "        vertical-align: middle;\n",
              "    }\n",
              "\n",
              "    .dataframe tbody tr th {\n",
              "        vertical-align: top;\n",
              "    }\n",
              "\n",
              "    .dataframe thead th {\n",
              "        text-align: right;\n",
              "    }\n",
              "</style>\n",
              "<table border=\"1\" class=\"dataframe\">\n",
              "  <thead>\n",
              "    <tr style=\"text-align: right;\">\n",
              "      <th></th>\n",
              "      <th>percent</th>\n",
              "    </tr>\n",
              "  </thead>\n",
              "  <tbody>\n",
              "    <tr>\n",
              "      <th>1</th>\n",
              "      <td>38.4</td>\n",
              "    </tr>\n",
              "    <tr>\n",
              "      <th>2</th>\n",
              "      <td>2.6</td>\n",
              "    </tr>\n",
              "    <tr>\n",
              "      <th>3</th>\n",
              "      <td>1.4</td>\n",
              "    </tr>\n",
              "    <tr>\n",
              "      <th>4</th>\n",
              "      <td>0.9</td>\n",
              "    </tr>\n",
              "    <tr>\n",
              "      <th>5</th>\n",
              "      <td>2.1</td>\n",
              "    </tr>\n",
              "    <tr>\n",
              "      <th>6</th>\n",
              "      <td>4.1</td>\n",
              "    </tr>\n",
              "    <tr>\n",
              "      <th>7</th>\n",
              "      <td>5.8</td>\n",
              "    </tr>\n",
              "    <tr>\n",
              "      <th>8</th>\n",
              "      <td>5.5</td>\n",
              "    </tr>\n",
              "    <tr>\n",
              "      <th>9</th>\n",
              "      <td>5.5</td>\n",
              "    </tr>\n",
              "    <tr>\n",
              "      <th>10</th>\n",
              "      <td>33.7</td>\n",
              "    </tr>\n",
              "  </tbody>\n",
              "</table>\n",
              "</div>"
            ],
            "text/plain": [
              "    percent\n",
              "1      38.4\n",
              "2       2.6\n",
              "3       1.4\n",
              "4       0.9\n",
              "5       2.1\n",
              "6       4.1\n",
              "7       5.8\n",
              "8       5.5\n",
              "9       5.5\n",
              "10     33.7"
            ]
          },
          "metadata": {
            "tags": []
          },
          "execution_count": 34
        }
      ]
    },
    {
      "cell_type": "code",
      "metadata": {
        "id": "1MkLaSCSv0iU",
        "colab_type": "code",
        "outputId": "c1061c14-c749-42dc-cdd3-2d6bd0836452",
        "colab": {
          "base_uri": "https://localhost:8080/",
          "height": 354
        }
      },
      "source": [
        "display(example)"
      ],
      "execution_count": 0,
      "outputs": [
        {
          "output_type": "display_data",
          "data": {
            "text/html": [
              "<img src=\"https://fivethirtyeight.com/wp-content/uploads/2017/09/mehtahickey-inconvenient-0830-1.png\" width=\"400\"/>"
            ],
            "text/plain": [
              "<IPython.core.display.Image object>"
            ]
          },
          "metadata": {
            "tags": []
          }
        }
      ]
    },
    {
      "cell_type": "markdown",
      "metadata": {
        "id": "3nEgoGGPHdxZ",
        "colab_type": "text"
      },
      "source": [
        "Generate the figure"
      ]
    },
    {
      "cell_type": "code",
      "metadata": {
        "id": "tAUxmaYPv0fI",
        "colab_type": "code",
        "outputId": "6e0aaa3c-1d95-4b51-b516-9c8140971ffa",
        "colab": {
          "base_uri": "https://localhost:8080/",
          "height": 334
        }
      },
      "source": [
        "fig, ax = plt.subplots()\n",
        "\n",
        "# Figure background color\n",
        "fig.patch.set(facecolor=\"white\")\n",
        "\n",
        "# Set the bars\n",
        "ax.bar(x=range(1,11), height=plot_data['percent'], width=0.9, color=\"#ED713A\")\n",
        "\n",
        "# Axes background color\n",
        "ax.set(facecolor=\"white\")\n",
        "\n",
        "# Set the title and subtitle\n",
        "ax.set_title(\"'An Inconvenient Sequel: Truth To Power' is divisive\", \n",
        "             fontsize=12, \n",
        "             x=.35, \n",
        "             y=1.1,\n",
        "             fontweight='bold')\n",
        "ax.text(s=\"IMDb ratings for the film as of Aug. 29\", fontsize=12, x=-1.85, y=42)\n",
        "\n",
        "# Set the x and y axes labels\n",
        "ax.set_xlabel(\"Rating\", fontsize=9)\n",
        "ax.set_ylabel(\"Percent of total votes\", fontsize=9)\n",
        "\n",
        "# Fix the x an y axis tick marks and grid\n",
        "ax.set_xticklabels(range(1,11), rotation=0)\n",
        "ax.set_xticks(range(1,11))\n",
        "ax.set_yticklabels(range(0,50,10))\n",
        "ax.set_yticks(range(0,50,10));"
      ],
      "execution_count": 0,
      "outputs": [
        {
          "output_type": "display_data",
          "data": {
            "image/png": "[encoded data removed]",
            "text/plain": [
              "<Figure size 432x288 with 1 Axes>"
            ]
          },
          "metadata": {
            "tags": []
          }
        }
      ]
    },
    {
      "cell_type": "markdown",
      "metadata": {
        "id": "em49qxMHKWCz",
        "colab_type": "text"
      },
      "source": [
        "##2. Reproduce another example from FiveThityEight's shared data repository."
      ]
    },
    {
      "cell_type": "code",
      "metadata": {
        "id": "y0XSDIEpKej_",
        "colab_type": "code",
        "colab": {}
      },
      "source": [
        "url = 'https://raw.githubusercontent.com/fivethirtyeight/data/master/comic-characters/dc-wikia-data.csv'\n",
        "url2 = 'https://raw.githubusercontent.com/fivethirtyeight/data/master/comic-characters/marvel-wikia-data.csv'"
      ],
      "execution_count": 0,
      "outputs": []
    },
    {
      "cell_type": "code",
      "metadata": {
        "id": "kfciYZ8mKeax",
        "colab_type": "code",
        "colab": {}
      },
      "source": [
        "dc_df = pd.read_csv(url)\n",
        "marvel_df = pd.read_csv(url2)"
      ],
      "execution_count": 0,
      "outputs": []
    },
    {
      "cell_type": "code",
      "metadata": {
        "id": "EVfCLLY2KeXr",
        "colab_type": "code",
        "outputId": "a47452e3-1f12-4308-955d-f1a4bb1013dc",
        "colab": {
          "base_uri": "https://localhost:8080/",
          "height": 297
        }
      },
      "source": [
        "dc_df.head()"
      ],
      "execution_count": 0,
      "outputs": [
        {
          "output_type": "execute_result",
          "data": {
            "text/html": [
              "<div>\n",
              "<style scoped>\n",
              "    .dataframe tbody tr th:only-of-type {\n",
              "        vertical-align: middle;\n",
              "    }\n",
              "\n",
              "    .dataframe tbody tr th {\n",
              "        vertical-align: top;\n",
              "    }\n",
              "\n",
              "    .dataframe thead th {\n",
              "        text-align: right;\n",
              "    }\n",
              "</style>\n",
              "<table border=\"1\" class=\"dataframe\">\n",
              "  <thead>\n",
              "    <tr style=\"text-align: right;\">\n",
              "      <th></th>\n",
              "      <th>page_id</th>\n",
              "      <th>name</th>\n",
              "      <th>urlslug</th>\n",
              "      <th>ID</th>\n",
              "      <th>ALIGN</th>\n",
              "      <th>EYE</th>\n",
              "      <th>HAIR</th>\n",
              "      <th>SEX</th>\n",
              "      <th>GSM</th>\n",
              "      <th>ALIVE</th>\n",
              "      <th>APPEARANCES</th>\n",
              "      <th>FIRST APPEARANCE</th>\n",
              "      <th>YEAR</th>\n",
              "    </tr>\n",
              "  </thead>\n",
              "  <tbody>\n",
              "    <tr>\n",
              "      <th>0</th>\n",
              "      <td>1422</td>\n",
              "      <td>Batman (Bruce Wayne)</td>\n",
              "      <td>\\/wiki\\/Batman_(Bruce_Wayne)</td>\n",
              "      <td>Secret Identity</td>\n",
              "      <td>Good Characters</td>\n",
              "      <td>Blue Eyes</td>\n",
              "      <td>Black Hair</td>\n",
              "      <td>Male Characters</td>\n",
              "      <td>NaN</td>\n",
              "      <td>Living Characters</td>\n",
              "      <td>3093.0</td>\n",
              "      <td>1939, May</td>\n",
              "      <td>1939.0</td>\n",
              "    </tr>\n",
              "    <tr>\n",
              "      <th>1</th>\n",
              "      <td>23387</td>\n",
              "      <td>Superman (Clark Kent)</td>\n",
              "      <td>\\/wiki\\/Superman_(Clark_Kent)</td>\n",
              "      <td>Secret Identity</td>\n",
              "      <td>Good Characters</td>\n",
              "      <td>Blue Eyes</td>\n",
              "      <td>Black Hair</td>\n",
              "      <td>Male Characters</td>\n",
              "      <td>NaN</td>\n",
              "      <td>Living Characters</td>\n",
              "      <td>2496.0</td>\n",
              "      <td>1986, October</td>\n",
              "      <td>1986.0</td>\n",
              "    </tr>\n",
              "    <tr>\n",
              "      <th>2</th>\n",
              "      <td>1458</td>\n",
              "      <td>Green Lantern (Hal Jordan)</td>\n",
              "      <td>\\/wiki\\/Green_Lantern_(Hal_Jordan)</td>\n",
              "      <td>Secret Identity</td>\n",
              "      <td>Good Characters</td>\n",
              "      <td>Brown Eyes</td>\n",
              "      <td>Brown Hair</td>\n",
              "      <td>Male Characters</td>\n",
              "      <td>NaN</td>\n",
              "      <td>Living Characters</td>\n",
              "      <td>1565.0</td>\n",
              "      <td>1959, October</td>\n",
              "      <td>1959.0</td>\n",
              "    </tr>\n",
              "    <tr>\n",
              "      <th>3</th>\n",
              "      <td>1659</td>\n",
              "      <td>James Gordon (New Earth)</td>\n",
              "      <td>\\/wiki\\/James_Gordon_(New_Earth)</td>\n",
              "      <td>Public Identity</td>\n",
              "      <td>Good Characters</td>\n",
              "      <td>Brown Eyes</td>\n",
              "      <td>White Hair</td>\n",
              "      <td>Male Characters</td>\n",
              "      <td>NaN</td>\n",
              "      <td>Living Characters</td>\n",
              "      <td>1316.0</td>\n",
              "      <td>1987, February</td>\n",
              "      <td>1987.0</td>\n",
              "    </tr>\n",
              "    <tr>\n",
              "      <th>4</th>\n",
              "      <td>1576</td>\n",
              "      <td>Richard Grayson (New Earth)</td>\n",
              "      <td>\\/wiki\\/Richard_Grayson_(New_Earth)</td>\n",
              "      <td>Secret Identity</td>\n",
              "      <td>Good Characters</td>\n",
              "      <td>Blue Eyes</td>\n",
              "      <td>Black Hair</td>\n",
              "      <td>Male Characters</td>\n",
              "      <td>NaN</td>\n",
              "      <td>Living Characters</td>\n",
              "      <td>1237.0</td>\n",
              "      <td>1940, April</td>\n",
              "      <td>1940.0</td>\n",
              "    </tr>\n",
              "  </tbody>\n",
              "</table>\n",
              "</div>"
            ],
            "text/plain": [
              "   page_id                         name  ... FIRST APPEARANCE    YEAR\n",
              "0     1422         Batman (Bruce Wayne)  ...        1939, May  1939.0\n",
              "1    23387        Superman (Clark Kent)  ...    1986, October  1986.0\n",
              "2     1458   Green Lantern (Hal Jordan)  ...    1959, October  1959.0\n",
              "3     1659     James Gordon (New Earth)  ...   1987, February  1987.0\n",
              "4     1576  Richard Grayson (New Earth)  ...      1940, April  1940.0\n",
              "\n",
              "[5 rows x 13 columns]"
            ]
          },
          "metadata": {
            "tags": []
          },
          "execution_count": 7
        }
      ]
    },
    {
      "cell_type": "code",
      "metadata": {
        "id": "fxfr-tSYKeUO",
        "colab_type": "code",
        "outputId": "ab7217c0-e4c5-4554-902f-38f0286b5bf9",
        "colab": {
          "base_uri": "https://localhost:8080/",
          "height": 297
        }
      },
      "source": [
        "marvel_df.head()"
      ],
      "execution_count": 0,
      "outputs": [
        {
          "output_type": "execute_result",
          "data": {
            "text/html": [
              "<div>\n",
              "<style scoped>\n",
              "    .dataframe tbody tr th:only-of-type {\n",
              "        vertical-align: middle;\n",
              "    }\n",
              "\n",
              "    .dataframe tbody tr th {\n",
              "        vertical-align: top;\n",
              "    }\n",
              "\n",
              "    .dataframe thead th {\n",
              "        text-align: right;\n",
              "    }\n",
              "</style>\n",
              "<table border=\"1\" class=\"dataframe\">\n",
              "  <thead>\n",
              "    <tr style=\"text-align: right;\">\n",
              "      <th></th>\n",
              "      <th>page_id</th>\n",
              "      <th>name</th>\n",
              "      <th>urlslug</th>\n",
              "      <th>ID</th>\n",
              "      <th>ALIGN</th>\n",
              "      <th>EYE</th>\n",
              "      <th>HAIR</th>\n",
              "      <th>SEX</th>\n",
              "      <th>GSM</th>\n",
              "      <th>ALIVE</th>\n",
              "      <th>APPEARANCES</th>\n",
              "      <th>FIRST APPEARANCE</th>\n",
              "      <th>Year</th>\n",
              "    </tr>\n",
              "  </thead>\n",
              "  <tbody>\n",
              "    <tr>\n",
              "      <th>0</th>\n",
              "      <td>1678</td>\n",
              "      <td>Spider-Man (Peter Parker)</td>\n",
              "      <td>\\/Spider-Man_(Peter_Parker)</td>\n",
              "      <td>Secret Identity</td>\n",
              "      <td>Good Characters</td>\n",
              "      <td>Hazel Eyes</td>\n",
              "      <td>Brown Hair</td>\n",
              "      <td>Male Characters</td>\n",
              "      <td>NaN</td>\n",
              "      <td>Living Characters</td>\n",
              "      <td>4043.0</td>\n",
              "      <td>Aug-62</td>\n",
              "      <td>1962.0</td>\n",
              "    </tr>\n",
              "    <tr>\n",
              "      <th>1</th>\n",
              "      <td>7139</td>\n",
              "      <td>Captain America (Steven Rogers)</td>\n",
              "      <td>\\/Captain_America_(Steven_Rogers)</td>\n",
              "      <td>Public Identity</td>\n",
              "      <td>Good Characters</td>\n",
              "      <td>Blue Eyes</td>\n",
              "      <td>White Hair</td>\n",
              "      <td>Male Characters</td>\n",
              "      <td>NaN</td>\n",
              "      <td>Living Characters</td>\n",
              "      <td>3360.0</td>\n",
              "      <td>Mar-41</td>\n",
              "      <td>1941.0</td>\n",
              "    </tr>\n",
              "    <tr>\n",
              "      <th>2</th>\n",
              "      <td>64786</td>\n",
              "      <td>Wolverine (James \\\"Logan\\\" Howlett)</td>\n",
              "      <td>\\/Wolverine_(James_%22Logan%22_Howlett)</td>\n",
              "      <td>Public Identity</td>\n",
              "      <td>Neutral Characters</td>\n",
              "      <td>Blue Eyes</td>\n",
              "      <td>Black Hair</td>\n",
              "      <td>Male Characters</td>\n",
              "      <td>NaN</td>\n",
              "      <td>Living Characters</td>\n",
              "      <td>3061.0</td>\n",
              "      <td>Oct-74</td>\n",
              "      <td>1974.0</td>\n",
              "    </tr>\n",
              "    <tr>\n",
              "      <th>3</th>\n",
              "      <td>1868</td>\n",
              "      <td>Iron Man (Anthony \\\"Tony\\\" Stark)</td>\n",
              "      <td>\\/Iron_Man_(Anthony_%22Tony%22_Stark)</td>\n",
              "      <td>Public Identity</td>\n",
              "      <td>Good Characters</td>\n",
              "      <td>Blue Eyes</td>\n",
              "      <td>Black Hair</td>\n",
              "      <td>Male Characters</td>\n",
              "      <td>NaN</td>\n",
              "      <td>Living Characters</td>\n",
              "      <td>2961.0</td>\n",
              "      <td>Mar-63</td>\n",
              "      <td>1963.0</td>\n",
              "    </tr>\n",
              "    <tr>\n",
              "      <th>4</th>\n",
              "      <td>2460</td>\n",
              "      <td>Thor (Thor Odinson)</td>\n",
              "      <td>\\/Thor_(Thor_Odinson)</td>\n",
              "      <td>No Dual Identity</td>\n",
              "      <td>Good Characters</td>\n",
              "      <td>Blue Eyes</td>\n",
              "      <td>Blond Hair</td>\n",
              "      <td>Male Characters</td>\n",
              "      <td>NaN</td>\n",
              "      <td>Living Characters</td>\n",
              "      <td>2258.0</td>\n",
              "      <td>Nov-50</td>\n",
              "      <td>1950.0</td>\n",
              "    </tr>\n",
              "  </tbody>\n",
              "</table>\n",
              "</div>"
            ],
            "text/plain": [
              "   page_id                                 name  ... FIRST APPEARANCE    Year\n",
              "0     1678            Spider-Man (Peter Parker)  ...           Aug-62  1962.0\n",
              "1     7139      Captain America (Steven Rogers)  ...           Mar-41  1941.0\n",
              "2    64786  Wolverine (James \\\"Logan\\\" Howlett)  ...           Oct-74  1974.0\n",
              "3     1868    Iron Man (Anthony \\\"Tony\\\" Stark)  ...           Mar-63  1963.0\n",
              "4     2460                  Thor (Thor Odinson)  ...           Nov-50  1950.0\n",
              "\n",
              "[5 rows x 13 columns]"
            ]
          },
          "metadata": {
            "tags": []
          },
          "execution_count": 74
        }
      ]
    },
    {
      "cell_type": "code",
      "metadata": {
        "id": "5LDudr7BKeR4",
        "colab_type": "code",
        "outputId": "d4e06300-2717-45b4-81ad-37ff68fcd21e",
        "colab": {
          "base_uri": "https://localhost:8080/",
          "height": 52
        }
      },
      "source": [
        "print(dc_df.shape)\n",
        "print(marvel_df.shape)"
      ],
      "execution_count": 0,
      "outputs": [
        {
          "output_type": "stream",
          "text": [
            "(6896, 13)\n",
            "(16376, 13)\n"
          ],
          "name": "stdout"
        }
      ]
    },
    {
      "cell_type": "code",
      "metadata": {
        "id": "iTUYraxPKeI8",
        "colab_type": "code",
        "outputId": "12f434b5-043d-40ab-9b9a-19f8f838475f",
        "colab": {
          "base_uri": "https://localhost:8080/",
          "height": 331
        }
      },
      "source": [
        "from IPython.display import display, Image\n",
        "\n",
        "example_url3 = 'https://fivethirtyeight.com/wp-content/uploads/2014/10/hickey-feature-comics-3.png?w=1150'\n",
        "example3 = Image(url=example_url3, width=400)\n",
        "\n",
        "display(example3)"
      ],
      "execution_count": 6,
      "outputs": [
        {
          "output_type": "display_data",
          "data": {
            "text/html": [
              "<img src=\"https://fivethirtyeight.com/wp-content/uploads/2014/10/hickey-feature-comics-3.png?w=1150\" width=\"400\"/>"
            ],
            "text/plain": [
              "<IPython.core.display.Image object>"
            ]
          },
          "metadata": {
            "tags": []
          }
        }
      ]
    },
    {
      "cell_type": "code",
      "metadata": {
        "id": "Cfakki0j0jpR",
        "colab_type": "code",
        "outputId": "edbd248f-5ace-49fe-fcd9-e2c321a517f5",
        "colab": {
          "base_uri": "https://localhost:8080/",
          "height": 34
        }
      },
      "source": [
        "dc_df['YEAR'].dtype"
      ],
      "execution_count": 0,
      "outputs": [
        {
          "output_type": "execute_result",
          "data": {
            "text/plain": [
              "dtype('float64')"
            ]
          },
          "metadata": {
            "tags": []
          },
          "execution_count": 78
        }
      ]
    },
    {
      "cell_type": "code",
      "metadata": {
        "id": "TvtPimT91LHU",
        "colab_type": "code",
        "outputId": "8cf41c5c-f6f9-485a-fe50-7fa9c28f85d8",
        "colab": {
          "base_uri": "https://localhost:8080/",
          "height": 34
        }
      },
      "source": [
        "dc_df['YEAR'].isnull().sum()"
      ],
      "execution_count": 0,
      "outputs": [
        {
          "output_type": "execute_result",
          "data": {
            "text/plain": [
              "69"
            ]
          },
          "metadata": {
            "tags": []
          },
          "execution_count": 79
        }
      ]
    },
    {
      "cell_type": "code",
      "metadata": {
        "id": "7I2PNKTk1RLl",
        "colab_type": "code",
        "outputId": "891ba35a-730e-4e08-e419-22c5db948eca",
        "colab": {
          "base_uri": "https://localhost:8080/",
          "height": 34
        }
      },
      "source": [
        "dc_df['YEAR'].shape"
      ],
      "execution_count": 0,
      "outputs": [
        {
          "output_type": "execute_result",
          "data": {
            "text/plain": [
              "(6896,)"
            ]
          },
          "metadata": {
            "tags": []
          },
          "execution_count": 80
        }
      ]
    },
    {
      "cell_type": "code",
      "metadata": {
        "id": "bMWlifQU1U-O",
        "colab_type": "code",
        "outputId": "a219fa41-1c42-4013-ca92-b3d26109b8f6",
        "colab": {
          "base_uri": "https://localhost:8080/",
          "height": 265
        }
      },
      "source": [
        "dc_df.isnull().sum()"
      ],
      "execution_count": 0,
      "outputs": [
        {
          "output_type": "execute_result",
          "data": {
            "text/plain": [
              "page_id                0\n",
              "name                   0\n",
              "urlslug                0\n",
              "ID                  2013\n",
              "ALIGN                601\n",
              "EYE                 3628\n",
              "HAIR                2274\n",
              "SEX                  125\n",
              "GSM                 6832\n",
              "ALIVE                  3\n",
              "APPEARANCES          355\n",
              "FIRST APPEARANCE      69\n",
              "YEAR                  69\n",
              "dtype: int64"
            ]
          },
          "metadata": {
            "tags": []
          },
          "execution_count": 81
        }
      ]
    },
    {
      "cell_type": "code",
      "metadata": {
        "id": "PKn6ugIS1AkW",
        "colab_type": "code",
        "outputId": "e6b43e8a-4f11-4d6a-e082-64c7ad0f3d7d",
        "colab": {
          "base_uri": "https://localhost:8080/",
          "height": 197
        }
      },
      "source": [
        "# Let's pull only the columns that we will need\n",
        "dc_df_cleaned = dc_df[['SEX', 'YEAR']]\n",
        "dc_df_cleaned.head()"
      ],
      "execution_count": 7,
      "outputs": [
        {
          "output_type": "execute_result",
          "data": {
            "text/html": [
              "<div>\n",
              "<style scoped>\n",
              "    .dataframe tbody tr th:only-of-type {\n",
              "        vertical-align: middle;\n",
              "    }\n",
              "\n",
              "    .dataframe tbody tr th {\n",
              "        vertical-align: top;\n",
              "    }\n",
              "\n",
              "    .dataframe thead th {\n",
              "        text-align: right;\n",
              "    }\n",
              "</style>\n",
              "<table border=\"1\" class=\"dataframe\">\n",
              "  <thead>\n",
              "    <tr style=\"text-align: right;\">\n",
              "      <th></th>\n",
              "      <th>SEX</th>\n",
              "      <th>YEAR</th>\n",
              "    </tr>\n",
              "  </thead>\n",
              "  <tbody>\n",
              "    <tr>\n",
              "      <th>0</th>\n",
              "      <td>Male Characters</td>\n",
              "      <td>1939.0</td>\n",
              "    </tr>\n",
              "    <tr>\n",
              "      <th>1</th>\n",
              "      <td>Male Characters</td>\n",
              "      <td>1986.0</td>\n",
              "    </tr>\n",
              "    <tr>\n",
              "      <th>2</th>\n",
              "      <td>Male Characters</td>\n",
              "      <td>1959.0</td>\n",
              "    </tr>\n",
              "    <tr>\n",
              "      <th>3</th>\n",
              "      <td>Male Characters</td>\n",
              "      <td>1987.0</td>\n",
              "    </tr>\n",
              "    <tr>\n",
              "      <th>4</th>\n",
              "      <td>Male Characters</td>\n",
              "      <td>1940.0</td>\n",
              "    </tr>\n",
              "  </tbody>\n",
              "</table>\n",
              "</div>"
            ],
            "text/plain": [
              "               SEX    YEAR\n",
              "0  Male Characters  1939.0\n",
              "1  Male Characters  1986.0\n",
              "2  Male Characters  1959.0\n",
              "3  Male Characters  1987.0\n",
              "4  Male Characters  1940.0"
            ]
          },
          "metadata": {
            "tags": []
          },
          "execution_count": 7
        }
      ]
    },
    {
      "cell_type": "code",
      "metadata": {
        "id": "tQLOiD644nsg",
        "colab_type": "code",
        "outputId": "ec7d35bb-2e93-47a8-c964-ed19e0850265",
        "colab": {
          "base_uri": "https://localhost:8080/",
          "height": 158
        }
      },
      "source": [
        "# Let's take care of the null values\n",
        "dc_df_cleaned.dropna(inplace=True)\n",
        "dc_df_cleaned.isnull().sum()"
      ],
      "execution_count": 8,
      "outputs": [
        {
          "output_type": "stream",
          "text": [
            "/usr/local/lib/python3.6/dist-packages/ipykernel_launcher.py:1: SettingWithCopyWarning: \n",
            "A value is trying to be set on a copy of a slice from a DataFrame\n",
            "\n",
            "See the caveats in the documentation: http://pandas.pydata.org/pandas-docs/stable/user_guide/indexing.html#returning-a-view-versus-a-copy\n",
            "  \"\"\"Entry point for launching an IPython kernel.\n"
          ],
          "name": "stderr"
        },
        {
          "output_type": "execute_result",
          "data": {
            "text/plain": [
              "SEX     0\n",
              "YEAR    0\n",
              "dtype: int64"
            ]
          },
          "metadata": {
            "tags": []
          },
          "execution_count": 8
        }
      ]
    },
    {
      "cell_type": "code",
      "metadata": {
        "id": "EHX6pFHKBbUc",
        "colab_type": "code",
        "outputId": "0a4199d1-d62c-4876-f5d5-21e8d194b53e",
        "colab": {
          "base_uri": "https://localhost:8080/",
          "height": 283
        }
      },
      "source": [
        "# Now do the same with the marvel dataframe\n",
        "print(marvel_df.isnull().sum())\n",
        "print(marvel_df.shape)"
      ],
      "execution_count": 9,
      "outputs": [
        {
          "output_type": "stream",
          "text": [
            "page_id                 0\n",
            "name                    0\n",
            "urlslug                 0\n",
            "ID                   3770\n",
            "ALIGN                2812\n",
            "EYE                  9767\n",
            "HAIR                 4264\n",
            "SEX                   854\n",
            "GSM                 16286\n",
            "ALIVE                   3\n",
            "APPEARANCES          1096\n",
            "FIRST APPEARANCE      815\n",
            "Year                  815\n",
            "dtype: int64\n",
            "(16376, 13)\n"
          ],
          "name": "stdout"
        }
      ]
    },
    {
      "cell_type": "code",
      "metadata": {
        "id": "KWBFHlodBvHj",
        "colab_type": "code",
        "outputId": "9cd93c8c-a066-47a2-de20-6fde2ba7494a",
        "colab": {
          "base_uri": "https://localhost:8080/",
          "height": 197
        }
      },
      "source": [
        "# Select only columns we need\n",
        "marvel_df_cleaned = marvel_df[['SEX', 'Year']]\n",
        "marvel_df_cleaned.head()\n"
      ],
      "execution_count": 10,
      "outputs": [
        {
          "output_type": "execute_result",
          "data": {
            "text/html": [
              "<div>\n",
              "<style scoped>\n",
              "    .dataframe tbody tr th:only-of-type {\n",
              "        vertical-align: middle;\n",
              "    }\n",
              "\n",
              "    .dataframe tbody tr th {\n",
              "        vertical-align: top;\n",
              "    }\n",
              "\n",
              "    .dataframe thead th {\n",
              "        text-align: right;\n",
              "    }\n",
              "</style>\n",
              "<table border=\"1\" class=\"dataframe\">\n",
              "  <thead>\n",
              "    <tr style=\"text-align: right;\">\n",
              "      <th></th>\n",
              "      <th>SEX</th>\n",
              "      <th>Year</th>\n",
              "    </tr>\n",
              "  </thead>\n",
              "  <tbody>\n",
              "    <tr>\n",
              "      <th>0</th>\n",
              "      <td>Male Characters</td>\n",
              "      <td>1962.0</td>\n",
              "    </tr>\n",
              "    <tr>\n",
              "      <th>1</th>\n",
              "      <td>Male Characters</td>\n",
              "      <td>1941.0</td>\n",
              "    </tr>\n",
              "    <tr>\n",
              "      <th>2</th>\n",
              "      <td>Male Characters</td>\n",
              "      <td>1974.0</td>\n",
              "    </tr>\n",
              "    <tr>\n",
              "      <th>3</th>\n",
              "      <td>Male Characters</td>\n",
              "      <td>1963.0</td>\n",
              "    </tr>\n",
              "    <tr>\n",
              "      <th>4</th>\n",
              "      <td>Male Characters</td>\n",
              "      <td>1950.0</td>\n",
              "    </tr>\n",
              "  </tbody>\n",
              "</table>\n",
              "</div>"
            ],
            "text/plain": [
              "               SEX    Year\n",
              "0  Male Characters  1962.0\n",
              "1  Male Characters  1941.0\n",
              "2  Male Characters  1974.0\n",
              "3  Male Characters  1963.0\n",
              "4  Male Characters  1950.0"
            ]
          },
          "metadata": {
            "tags": []
          },
          "execution_count": 10
        }
      ]
    },
    {
      "cell_type": "code",
      "metadata": {
        "id": "ARAeQCPuKeFK",
        "colab_type": "code",
        "outputId": "facc86ea-8701-4f6e-df2f-3204886772a1",
        "colab": {
          "base_uri": "https://localhost:8080/",
          "height": 158
        }
      },
      "source": [
        "marvel_df_cleaned.dropna(inplace=True)\n",
        "marvel_df_cleaned.isnull().sum()"
      ],
      "execution_count": 11,
      "outputs": [
        {
          "output_type": "stream",
          "text": [
            "/usr/local/lib/python3.6/dist-packages/ipykernel_launcher.py:1: SettingWithCopyWarning: \n",
            "A value is trying to be set on a copy of a slice from a DataFrame\n",
            "\n",
            "See the caveats in the documentation: http://pandas.pydata.org/pandas-docs/stable/user_guide/indexing.html#returning-a-view-versus-a-copy\n",
            "  \"\"\"Entry point for launching an IPython kernel.\n"
          ],
          "name": "stderr"
        },
        {
          "output_type": "execute_result",
          "data": {
            "text/plain": [
              "SEX     0\n",
              "Year    0\n",
              "dtype: int64"
            ]
          },
          "metadata": {
            "tags": []
          },
          "execution_count": 11
        }
      ]
    },
    {
      "cell_type": "code",
      "metadata": {
        "id": "BluholZKKeB4",
        "colab_type": "code",
        "outputId": "39c42f48-47e4-42a6-f587-d96c09c5fd2e",
        "colab": {
          "base_uri": "https://localhost:8080/",
          "height": 331
        }
      },
      "source": [
        "# Let's work on the example now\n",
        "display(example3)"
      ],
      "execution_count": 12,
      "outputs": [
        {
          "output_type": "display_data",
          "data": {
            "text/html": [
              "<img src=\"https://fivethirtyeight.com/wp-content/uploads/2014/10/hickey-feature-comics-3.png?w=1150\" width=\"400\"/>"
            ],
            "text/plain": [
              "<IPython.core.display.Image object>"
            ]
          },
          "metadata": {
            "tags": []
          }
        }
      ]
    },
    {
      "cell_type": "code",
      "metadata": {
        "id": "s03AGMxsv0bW",
        "colab_type": "code",
        "outputId": "0836368e-a8b9-494c-e111-be673863337b",
        "colab": {
          "base_uri": "https://localhost:8080/",
          "height": 197
        }
      },
      "source": [
        "# Sort values by year\n",
        "dc_df_cleaned = dc_df_cleaned.sort_values('YEAR')\n",
        "dc_df_cleaned.head()"
      ],
      "execution_count": 13,
      "outputs": [
        {
          "output_type": "execute_result",
          "data": {
            "text/html": [
              "<div>\n",
              "<style scoped>\n",
              "    .dataframe tbody tr th:only-of-type {\n",
              "        vertical-align: middle;\n",
              "    }\n",
              "\n",
              "    .dataframe tbody tr th {\n",
              "        vertical-align: top;\n",
              "    }\n",
              "\n",
              "    .dataframe thead th {\n",
              "        text-align: right;\n",
              "    }\n",
              "</style>\n",
              "<table border=\"1\" class=\"dataframe\">\n",
              "  <thead>\n",
              "    <tr style=\"text-align: right;\">\n",
              "      <th></th>\n",
              "      <th>SEX</th>\n",
              "      <th>YEAR</th>\n",
              "    </tr>\n",
              "  </thead>\n",
              "  <tbody>\n",
              "    <tr>\n",
              "      <th>231</th>\n",
              "      <td>Male Characters</td>\n",
              "      <td>1935.0</td>\n",
              "    </tr>\n",
              "    <tr>\n",
              "      <th>6886</th>\n",
              "      <td>Male Characters</td>\n",
              "      <td>1936.0</td>\n",
              "    </tr>\n",
              "    <tr>\n",
              "      <th>705</th>\n",
              "      <td>Male Characters</td>\n",
              "      <td>1936.0</td>\n",
              "    </tr>\n",
              "    <tr>\n",
              "      <th>567</th>\n",
              "      <td>Male Characters</td>\n",
              "      <td>1936.0</td>\n",
              "    </tr>\n",
              "    <tr>\n",
              "      <th>1468</th>\n",
              "      <td>Male Characters</td>\n",
              "      <td>1936.0</td>\n",
              "    </tr>\n",
              "  </tbody>\n",
              "</table>\n",
              "</div>"
            ],
            "text/plain": [
              "                  SEX    YEAR\n",
              "231   Male Characters  1935.0\n",
              "6886  Male Characters  1936.0\n",
              "705   Male Characters  1936.0\n",
              "567   Male Characters  1936.0\n",
              "1468  Male Characters  1936.0"
            ]
          },
          "metadata": {
            "tags": []
          },
          "execution_count": 13
        }
      ]
    },
    {
      "cell_type": "code",
      "metadata": {
        "id": "iyc6KCsNkHf0",
        "colab_type": "code",
        "outputId": "c06a6643-4918-4370-a060-f984849def82",
        "colab": {
          "base_uri": "https://localhost:8080/",
          "height": 197
        }
      },
      "source": [
        "dc_df_cleaned.tail()"
      ],
      "execution_count": 14,
      "outputs": [
        {
          "output_type": "execute_result",
          "data": {
            "text/html": [
              "<div>\n",
              "<style scoped>\n",
              "    .dataframe tbody tr th:only-of-type {\n",
              "        vertical-align: middle;\n",
              "    }\n",
              "\n",
              "    .dataframe tbody tr th {\n",
              "        vertical-align: top;\n",
              "    }\n",
              "\n",
              "    .dataframe thead th {\n",
              "        text-align: right;\n",
              "    }\n",
              "</style>\n",
              "<table border=\"1\" class=\"dataframe\">\n",
              "  <thead>\n",
              "    <tr style=\"text-align: right;\">\n",
              "      <th></th>\n",
              "      <th>SEX</th>\n",
              "      <th>YEAR</th>\n",
              "    </tr>\n",
              "  </thead>\n",
              "  <tbody>\n",
              "    <tr>\n",
              "      <th>3106</th>\n",
              "      <td>Female Characters</td>\n",
              "      <td>2012.0</td>\n",
              "    </tr>\n",
              "    <tr>\n",
              "      <th>6541</th>\n",
              "      <td>Male Characters</td>\n",
              "      <td>2012.0</td>\n",
              "    </tr>\n",
              "    <tr>\n",
              "      <th>5540</th>\n",
              "      <td>Male Characters</td>\n",
              "      <td>2012.0</td>\n",
              "    </tr>\n",
              "    <tr>\n",
              "      <th>2843</th>\n",
              "      <td>Female Characters</td>\n",
              "      <td>2012.0</td>\n",
              "    </tr>\n",
              "    <tr>\n",
              "      <th>5539</th>\n",
              "      <td>Male Characters</td>\n",
              "      <td>2013.0</td>\n",
              "    </tr>\n",
              "  </tbody>\n",
              "</table>\n",
              "</div>"
            ],
            "text/plain": [
              "                    SEX    YEAR\n",
              "3106  Female Characters  2012.0\n",
              "6541    Male Characters  2012.0\n",
              "5540    Male Characters  2012.0\n",
              "2843  Female Characters  2012.0\n",
              "5539    Male Characters  2013.0"
            ]
          },
          "metadata": {
            "tags": []
          },
          "execution_count": 14
        }
      ]
    },
    {
      "cell_type": "code",
      "metadata": {
        "id": "heHUPbnCm6D_",
        "colab_type": "code",
        "colab": {}
      },
      "source": [
        "# Map categorical strings in 'SEX' column to floats\n",
        "dc_df_cleaned['SEX'] = dc_df_cleaned['SEX'].map({'Female Characters': 0, 'Male Characters': 1})"
      ],
      "execution_count": 0,
      "outputs": []
    },
    {
      "cell_type": "code",
      "metadata": {
        "id": "iC0bfrRPnJgD",
        "colab_type": "code",
        "outputId": "3e64f0f5-0c15-4ee3-aeed-fc1f29db0922",
        "colab": {
          "base_uri": "https://localhost:8080/",
          "height": 197
        }
      },
      "source": [
        "dc_df_cleaned.head()"
      ],
      "execution_count": 16,
      "outputs": [
        {
          "output_type": "execute_result",
          "data": {
            "text/html": [
              "<div>\n",
              "<style scoped>\n",
              "    .dataframe tbody tr th:only-of-type {\n",
              "        vertical-align: middle;\n",
              "    }\n",
              "\n",
              "    .dataframe tbody tr th {\n",
              "        vertical-align: top;\n",
              "    }\n",
              "\n",
              "    .dataframe thead th {\n",
              "        text-align: right;\n",
              "    }\n",
              "</style>\n",
              "<table border=\"1\" class=\"dataframe\">\n",
              "  <thead>\n",
              "    <tr style=\"text-align: right;\">\n",
              "      <th></th>\n",
              "      <th>SEX</th>\n",
              "      <th>YEAR</th>\n",
              "    </tr>\n",
              "  </thead>\n",
              "  <tbody>\n",
              "    <tr>\n",
              "      <th>231</th>\n",
              "      <td>1.0</td>\n",
              "      <td>1935.0</td>\n",
              "    </tr>\n",
              "    <tr>\n",
              "      <th>6886</th>\n",
              "      <td>1.0</td>\n",
              "      <td>1936.0</td>\n",
              "    </tr>\n",
              "    <tr>\n",
              "      <th>705</th>\n",
              "      <td>1.0</td>\n",
              "      <td>1936.0</td>\n",
              "    </tr>\n",
              "    <tr>\n",
              "      <th>567</th>\n",
              "      <td>1.0</td>\n",
              "      <td>1936.0</td>\n",
              "    </tr>\n",
              "    <tr>\n",
              "      <th>1468</th>\n",
              "      <td>1.0</td>\n",
              "      <td>1936.0</td>\n",
              "    </tr>\n",
              "  </tbody>\n",
              "</table>\n",
              "</div>"
            ],
            "text/plain": [
              "      SEX    YEAR\n",
              "231   1.0  1935.0\n",
              "6886  1.0  1936.0\n",
              "705   1.0  1936.0\n",
              "567   1.0  1936.0\n",
              "1468  1.0  1936.0"
            ]
          },
          "metadata": {
            "tags": []
          },
          "execution_count": 16
        }
      ]
    },
    {
      "cell_type": "code",
      "metadata": {
        "id": "WtAaGbbKntqW",
        "colab_type": "code",
        "outputId": "e5ff8160-13c5-4d2e-85ff-893e00411624",
        "colab": {
          "base_uri": "https://localhost:8080/",
          "height": 70
        }
      },
      "source": [
        "dc_df_cleaned['SEX'].value_counts()"
      ],
      "execution_count": 17,
      "outputs": [
        {
          "output_type": "execute_result",
          "data": {
            "text/plain": [
              "1.0    4735\n",
              "0.0    1947\n",
              "Name: SEX, dtype: int64"
            ]
          },
          "metadata": {
            "tags": []
          },
          "execution_count": 17
        }
      ]
    },
    {
      "cell_type": "code",
      "metadata": {
        "id": "WphfgsQAEXlV",
        "colab_type": "code",
        "colab": {}
      },
      "source": [
        "# Convert floats to integers\n",
        "dc_df_cleaned['YEAR'] = dc_df_cleaned['YEAR'].astype(int)"
      ],
      "execution_count": 0,
      "outputs": []
    },
    {
      "cell_type": "code",
      "metadata": {
        "id": "iaOjrXTNFEcQ",
        "colab_type": "code",
        "outputId": "b89eb28c-02a3-4934-df7e-dcf6640ed160",
        "colab": {
          "base_uri": "https://localhost:8080/",
          "height": 197
        }
      },
      "source": [
        "dc_df_cleaned.head()"
      ],
      "execution_count": 19,
      "outputs": [
        {
          "output_type": "execute_result",
          "data": {
            "text/html": [
              "<div>\n",
              "<style scoped>\n",
              "    .dataframe tbody tr th:only-of-type {\n",
              "        vertical-align: middle;\n",
              "    }\n",
              "\n",
              "    .dataframe tbody tr th {\n",
              "        vertical-align: top;\n",
              "    }\n",
              "\n",
              "    .dataframe thead th {\n",
              "        text-align: right;\n",
              "    }\n",
              "</style>\n",
              "<table border=\"1\" class=\"dataframe\">\n",
              "  <thead>\n",
              "    <tr style=\"text-align: right;\">\n",
              "      <th></th>\n",
              "      <th>SEX</th>\n",
              "      <th>YEAR</th>\n",
              "    </tr>\n",
              "  </thead>\n",
              "  <tbody>\n",
              "    <tr>\n",
              "      <th>231</th>\n",
              "      <td>1.0</td>\n",
              "      <td>1935</td>\n",
              "    </tr>\n",
              "    <tr>\n",
              "      <th>6886</th>\n",
              "      <td>1.0</td>\n",
              "      <td>1936</td>\n",
              "    </tr>\n",
              "    <tr>\n",
              "      <th>705</th>\n",
              "      <td>1.0</td>\n",
              "      <td>1936</td>\n",
              "    </tr>\n",
              "    <tr>\n",
              "      <th>567</th>\n",
              "      <td>1.0</td>\n",
              "      <td>1936</td>\n",
              "    </tr>\n",
              "    <tr>\n",
              "      <th>1468</th>\n",
              "      <td>1.0</td>\n",
              "      <td>1936</td>\n",
              "    </tr>\n",
              "  </tbody>\n",
              "</table>\n",
              "</div>"
            ],
            "text/plain": [
              "      SEX  YEAR\n",
              "231   1.0  1935\n",
              "6886  1.0  1936\n",
              "705   1.0  1936\n",
              "567   1.0  1936\n",
              "1468  1.0  1936"
            ]
          },
          "metadata": {
            "tags": []
          },
          "execution_count": 19
        }
      ]
    },
    {
      "cell_type": "code",
      "metadata": {
        "id": "3lfyV1IqlgCF",
        "colab_type": "code",
        "colab": {}
      },
      "source": [
        "# Create lists for number of males per year and number of females per year\n",
        "male_count = []\n",
        "female_count = []\n",
        "\n",
        "for year in range(1935, 2014, 1):\n",
        "  temp_df = dc_df_cleaned[dc_df_cleaned['YEAR']==year]\n",
        "  male_count.append(((temp_df['SEX']==1.0)==True).sum())\n",
        "  female_count.append(((temp_df['SEX']==0.0)==True).sum())"
      ],
      "execution_count": 0,
      "outputs": []
    },
    {
      "cell_type": "code",
      "metadata": {
        "id": "MODZ825Lv0Yl",
        "colab_type": "code",
        "colab": {}
      },
      "source": [
        "# Create list of years from 1935 to 2013\n",
        "year = []\n",
        "\n",
        "for num in range(1935, 2014, 1):\n",
        "  year.append(num)"
      ],
      "execution_count": 0,
      "outputs": []
    },
    {
      "cell_type": "code",
      "metadata": {
        "id": "xc-Eg0MCv0V4",
        "colab_type": "code",
        "colab": {}
      },
      "source": [
        "# Create lists for percent of male superheroes introduced by year and percent of female superheroes introduced by year\n",
        "male_percent = []\n",
        "female_percent = []\n",
        "\n",
        "for i in range(0, len(male_count)):\n",
        "  male_percent.append(male_count[i]/(male_count[i]+female_count[i]))\n",
        "  female_percent.append(female_count[i]/(male_count[i]+female_count[i]))"
      ],
      "execution_count": 0,
      "outputs": []
    },
    {
      "cell_type": "code",
      "metadata": {
        "id": "Qc1VQaSwHmKH",
        "colab_type": "code",
        "outputId": "beb6ceaa-fcce-4075-cb42-6d7f42ae54ad",
        "colab": {
          "base_uri": "https://localhost:8080/",
          "height": 105
        }
      },
      "source": [
        "# Check length of our lists to ensure they are all equal\n",
        "print(len(male_count))\n",
        "print(len(female_count))\n",
        "print(len(male_percent))\n",
        "print(len(female_percent))\n",
        "print(len(year))"
      ],
      "execution_count": 23,
      "outputs": [
        {
          "output_type": "stream",
          "text": [
            "79\n",
            "79\n",
            "79\n",
            "79\n",
            "79\n"
          ],
          "name": "stdout"
        }
      ]
    },
    {
      "cell_type": "code",
      "metadata": {
        "id": "zRRcfQYQG9z4",
        "colab_type": "code",
        "colab": {}
      },
      "source": [
        "# Create dictionary tying our lists to what we will want the column names to be\n",
        "data = {'male-count':male_count, 'female-count':female_count, \n",
        "        'male-percent':male_percent, 'female-percent':female_percent, 'year':year}"
      ],
      "execution_count": 0,
      "outputs": []
    },
    {
      "cell_type": "code",
      "metadata": {
        "id": "_rjD8qcXog-0",
        "colab_type": "code",
        "outputId": "54fe2c9b-0d58-44cd-ce8a-28ade5f9d037",
        "colab": {
          "base_uri": "https://localhost:8080/",
          "height": 197
        }
      },
      "source": [
        "# Create our new dataframe from the dictionary\n",
        "dc_final = pd.DataFrame(data)\n",
        "dc_final.head()"
      ],
      "execution_count": 25,
      "outputs": [
        {
          "output_type": "execute_result",
          "data": {
            "text/html": [
              "<div>\n",
              "<style scoped>\n",
              "    .dataframe tbody tr th:only-of-type {\n",
              "        vertical-align: middle;\n",
              "    }\n",
              "\n",
              "    .dataframe tbody tr th {\n",
              "        vertical-align: top;\n",
              "    }\n",
              "\n",
              "    .dataframe thead th {\n",
              "        text-align: right;\n",
              "    }\n",
              "</style>\n",
              "<table border=\"1\" class=\"dataframe\">\n",
              "  <thead>\n",
              "    <tr style=\"text-align: right;\">\n",
              "      <th></th>\n",
              "      <th>male-count</th>\n",
              "      <th>female-count</th>\n",
              "      <th>male-percent</th>\n",
              "      <th>female-percent</th>\n",
              "      <th>year</th>\n",
              "    </tr>\n",
              "  </thead>\n",
              "  <tbody>\n",
              "    <tr>\n",
              "      <th>0</th>\n",
              "      <td>1</td>\n",
              "      <td>0</td>\n",
              "      <td>1.000000</td>\n",
              "      <td>0.000000</td>\n",
              "      <td>1935</td>\n",
              "    </tr>\n",
              "    <tr>\n",
              "      <th>1</th>\n",
              "      <td>7</td>\n",
              "      <td>2</td>\n",
              "      <td>0.777778</td>\n",
              "      <td>0.222222</td>\n",
              "      <td>1936</td>\n",
              "    </tr>\n",
              "    <tr>\n",
              "      <th>2</th>\n",
              "      <td>3</td>\n",
              "      <td>1</td>\n",
              "      <td>0.750000</td>\n",
              "      <td>0.250000</td>\n",
              "      <td>1937</td>\n",
              "    </tr>\n",
              "    <tr>\n",
              "      <th>3</th>\n",
              "      <td>9</td>\n",
              "      <td>1</td>\n",
              "      <td>0.900000</td>\n",
              "      <td>0.100000</td>\n",
              "      <td>1938</td>\n",
              "    </tr>\n",
              "    <tr>\n",
              "      <th>4</th>\n",
              "      <td>13</td>\n",
              "      <td>5</td>\n",
              "      <td>0.722222</td>\n",
              "      <td>0.277778</td>\n",
              "      <td>1939</td>\n",
              "    </tr>\n",
              "  </tbody>\n",
              "</table>\n",
              "</div>"
            ],
            "text/plain": [
              "   male-count  female-count  male-percent  female-percent  year\n",
              "0           1             0      1.000000        0.000000  1935\n",
              "1           7             2      0.777778        0.222222  1936\n",
              "2           3             1      0.750000        0.250000  1937\n",
              "3           9             1      0.900000        0.100000  1938\n",
              "4          13             5      0.722222        0.277778  1939"
            ]
          },
          "metadata": {
            "tags": []
          },
          "execution_count": 25
        }
      ]
    },
    {
      "cell_type": "code",
      "metadata": {
        "id": "LDm1vXYsog9X",
        "colab_type": "code",
        "outputId": "eb681ac1-b63f-491c-8371-ec7f1cfd72e9",
        "colab": {
          "base_uri": "https://localhost:8080/",
          "height": 197
        }
      },
      "source": [
        "# Now let's do that for the marvel dataframe\n",
        "# Sort values by year\n",
        "marvel_df_cleaned = marvel_df_cleaned.sort_values('Year')\n",
        "marvel_df_cleaned.head()"
      ],
      "execution_count": 26,
      "outputs": [
        {
          "output_type": "execute_result",
          "data": {
            "text/html": [
              "<div>\n",
              "<style scoped>\n",
              "    .dataframe tbody tr th:only-of-type {\n",
              "        vertical-align: middle;\n",
              "    }\n",
              "\n",
              "    .dataframe tbody tr th {\n",
              "        vertical-align: top;\n",
              "    }\n",
              "\n",
              "    .dataframe thead th {\n",
              "        text-align: right;\n",
              "    }\n",
              "</style>\n",
              "<table border=\"1\" class=\"dataframe\">\n",
              "  <thead>\n",
              "    <tr style=\"text-align: right;\">\n",
              "      <th></th>\n",
              "      <th>SEX</th>\n",
              "      <th>Year</th>\n",
              "    </tr>\n",
              "  </thead>\n",
              "  <tbody>\n",
              "    <tr>\n",
              "      <th>10495</th>\n",
              "      <td>Male Characters</td>\n",
              "      <td>1939.0</td>\n",
              "    </tr>\n",
              "    <tr>\n",
              "      <th>10492</th>\n",
              "      <td>Male Characters</td>\n",
              "      <td>1939.0</td>\n",
              "    </tr>\n",
              "    <tr>\n",
              "      <th>10491</th>\n",
              "      <td>Male Characters</td>\n",
              "      <td>1939.0</td>\n",
              "    </tr>\n",
              "    <tr>\n",
              "      <th>10490</th>\n",
              "      <td>Male Characters</td>\n",
              "      <td>1939.0</td>\n",
              "    </tr>\n",
              "    <tr>\n",
              "      <th>10489</th>\n",
              "      <td>Male Characters</td>\n",
              "      <td>1939.0</td>\n",
              "    </tr>\n",
              "  </tbody>\n",
              "</table>\n",
              "</div>"
            ],
            "text/plain": [
              "                   SEX    Year\n",
              "10495  Male Characters  1939.0\n",
              "10492  Male Characters  1939.0\n",
              "10491  Male Characters  1939.0\n",
              "10490  Male Characters  1939.0\n",
              "10489  Male Characters  1939.0"
            ]
          },
          "metadata": {
            "tags": []
          },
          "execution_count": 26
        }
      ]
    },
    {
      "cell_type": "code",
      "metadata": {
        "id": "TE4CUZxoog6R",
        "colab_type": "code",
        "colab": {}
      },
      "source": [
        "# Set categorical string values to numeric values\n",
        "marvel_df_cleaned['SEX'] = marvel_df_cleaned['SEX'].map({'Female Characters': 0, 'Male Characters': 1})"
      ],
      "execution_count": 0,
      "outputs": []
    },
    {
      "cell_type": "code",
      "metadata": {
        "id": "g8jr-YHKog2X",
        "colab_type": "code",
        "outputId": "a597ecc9-cbef-4f29-d36b-2de5205b09c5",
        "colab": {
          "base_uri": "https://localhost:8080/",
          "height": 70
        }
      },
      "source": [
        "marvel_df_cleaned['SEX'].value_counts()"
      ],
      "execution_count": 28,
      "outputs": [
        {
          "output_type": "execute_result",
          "data": {
            "text/plain": [
              "1.0    11100\n",
              "0.0     3628\n",
              "Name: SEX, dtype: int64"
            ]
          },
          "metadata": {
            "tags": []
          },
          "execution_count": 28
        }
      ]
    },
    {
      "cell_type": "code",
      "metadata": {
        "id": "4ve_o5GlgtmC",
        "colab_type": "code",
        "colab": {}
      },
      "source": [
        "# Convert floats to integers\n",
        "marvel_df_cleaned['Year'] = marvel_df_cleaned['Year'].astype(int)"
      ],
      "execution_count": 0,
      "outputs": []
    },
    {
      "cell_type": "code",
      "metadata": {
        "id": "tbajlWGuSOxi",
        "colab_type": "code",
        "outputId": "caf63002-2bee-4f2e-9534-1b8a9e8ce126",
        "colab": {
          "base_uri": "https://localhost:8080/",
          "height": 197
        }
      },
      "source": [
        "marvel_df_cleaned.head()\n",
        "marvel_df_cleaned.tail()"
      ],
      "execution_count": 30,
      "outputs": [
        {
          "output_type": "execute_result",
          "data": {
            "text/html": [
              "<div>\n",
              "<style scoped>\n",
              "    .dataframe tbody tr th:only-of-type {\n",
              "        vertical-align: middle;\n",
              "    }\n",
              "\n",
              "    .dataframe tbody tr th {\n",
              "        vertical-align: top;\n",
              "    }\n",
              "\n",
              "    .dataframe thead th {\n",
              "        text-align: right;\n",
              "    }\n",
              "</style>\n",
              "<table border=\"1\" class=\"dataframe\">\n",
              "  <thead>\n",
              "    <tr style=\"text-align: right;\">\n",
              "      <th></th>\n",
              "      <th>SEX</th>\n",
              "      <th>Year</th>\n",
              "    </tr>\n",
              "  </thead>\n",
              "  <tbody>\n",
              "    <tr>\n",
              "      <th>15007</th>\n",
              "      <td>1.0</td>\n",
              "      <td>2013</td>\n",
              "    </tr>\n",
              "    <tr>\n",
              "      <th>15006</th>\n",
              "      <td>1.0</td>\n",
              "      <td>2013</td>\n",
              "    </tr>\n",
              "    <tr>\n",
              "      <th>15005</th>\n",
              "      <td>1.0</td>\n",
              "      <td>2013</td>\n",
              "    </tr>\n",
              "    <tr>\n",
              "      <th>15013</th>\n",
              "      <td>1.0</td>\n",
              "      <td>2013</td>\n",
              "    </tr>\n",
              "    <tr>\n",
              "      <th>16175</th>\n",
              "      <td>1.0</td>\n",
              "      <td>2013</td>\n",
              "    </tr>\n",
              "  </tbody>\n",
              "</table>\n",
              "</div>"
            ],
            "text/plain": [
              "       SEX  Year\n",
              "15007  1.0  2013\n",
              "15006  1.0  2013\n",
              "15005  1.0  2013\n",
              "15013  1.0  2013\n",
              "16175  1.0  2013"
            ]
          },
          "metadata": {
            "tags": []
          },
          "execution_count": 30
        }
      ]
    },
    {
      "cell_type": "code",
      "metadata": {
        "id": "Zp6HdZ9Rgtib",
        "colab_type": "code",
        "colab": {}
      },
      "source": [
        "# Create lists for number of males per year and number of females per year\n",
        "marvel_male_count = []\n",
        "marvel_female_count = []\n",
        "\n",
        "for year in range(1939, 2014, 1):\n",
        "  temp_df = marvel_df_cleaned[marvel_df_cleaned['Year']==year]\n",
        "  marvel_male_count.append(((temp_df['SEX']==1.0)==True).sum())\n",
        "  marvel_female_count.append(((temp_df['SEX']==0.0)==True).sum())"
      ],
      "execution_count": 0,
      "outputs": []
    },
    {
      "cell_type": "code",
      "metadata": {
        "id": "ZN1DkEDHSEbJ",
        "colab_type": "code",
        "colab": {
          "base_uri": "https://localhost:8080/",
          "height": 1000
        },
        "outputId": "399e90c5-9ca4-4f2c-b4c0-4ce927eb2cfb"
      },
      "source": [
        "marvel_male_count"
      ],
      "execution_count": 32,
      "outputs": [
        {
          "output_type": "execute_result",
          "data": {
            "text/plain": [
              "[56,\n",
              " 183,\n",
              " 180,\n",
              " 220,\n",
              " 178,\n",
              " 121,\n",
              " 85,\n",
              " 78,\n",
              " 58,\n",
              " 99,\n",
              " 53,\n",
              " 26,\n",
              " 43,\n",
              " 20,\n",
              " 26,\n",
              " 57,\n",
              " 38,\n",
              " 13,\n",
              " 7,\n",
              " 1,\n",
              " 4,\n",
              " 36,\n",
              " 71,\n",
              " 86,\n",
              " 149,\n",
              " 144,\n",
              " 132,\n",
              " 107,\n",
              " 102,\n",
              " 111,\n",
              " 92,\n",
              " 108,\n",
              " 93,\n",
              " 140,\n",
              " 181,\n",
              " 180,\n",
              " 209,\n",
              " 238,\n",
              " 214,\n",
              " 146,\n",
              " 149,\n",
              " 187,\n",
              " 156,\n",
              " 152,\n",
              " 122,\n",
              " 143,\n",
              " 171,\n",
              " 168,\n",
              " 129,\n",
              " 215,\n",
              " 237,\n",
              " 243,\n",
              " 232,\n",
              " 318,\n",
              " 401,\n",
              " 344,\n",
              " 210,\n",
              " 192,\n",
              " 194,\n",
              " 190,\n",
              " 147,\n",
              " 221,\n",
              " 148,\n",
              " 214,\n",
              " 170,\n",
              " 168,\n",
              " 211,\n",
              " 259,\n",
              " 209,\n",
              " 244,\n",
              " 199,\n",
              " 200,\n",
              " 235,\n",
              " 140,\n",
              " 97]"
            ]
          },
          "metadata": {
            "tags": []
          },
          "execution_count": 32
        }
      ]
    },
    {
      "cell_type": "code",
      "metadata": {
        "id": "4Uh4cxYtSEXx",
        "colab_type": "code",
        "colab": {
          "base_uri": "https://localhost:8080/",
          "height": 1000
        },
        "outputId": "256439ef-8826-4382-b013-84628d839392"
      },
      "source": [
        "marvel_female_count"
      ],
      "execution_count": 33,
      "outputs": [
        {
          "output_type": "execute_result",
          "data": {
            "text/plain": [
              "[10,\n",
              " 33,\n",
              " 15,\n",
              " 14,\n",
              " 13,\n",
              " 12,\n",
              " 12,\n",
              " 12,\n",
              " 13,\n",
              " 14,\n",
              " 6,\n",
              " 3,\n",
              " 9,\n",
              " 5,\n",
              " 10,\n",
              " 19,\n",
              " 4,\n",
              " 1,\n",
              " 0,\n",
              " 1,\n",
              " 0,\n",
              " 2,\n",
              " 5,\n",
              " 13,\n",
              " 25,\n",
              " 23,\n",
              " 21,\n",
              " 19,\n",
              " 10,\n",
              " 18,\n",
              " 17,\n",
              " 17,\n",
              " 16,\n",
              " 34,\n",
              " 50,\n",
              " 50,\n",
              " 66,\n",
              " 57,\n",
              " 54,\n",
              " 32,\n",
              " 61,\n",
              " 60,\n",
              " 58,\n",
              " 52,\n",
              " 65,\n",
              " 61,\n",
              " 69,\n",
              " 66,\n",
              " 45,\n",
              " 81,\n",
              " 71,\n",
              " 92,\n",
              " 92,\n",
              " 118,\n",
              " 125,\n",
              " 117,\n",
              " 79,\n",
              " 101,\n",
              " 91,\n",
              " 76,\n",
              " 72,\n",
              " 87,\n",
              " 73,\n",
              " 85,\n",
              " 84,\n",
              " 108,\n",
              " 112,\n",
              " 105,\n",
              " 82,\n",
              " 101,\n",
              " 85,\n",
              " 110,\n",
              " 99,\n",
              " 56,\n",
              " 54]"
            ]
          },
          "metadata": {
            "tags": []
          },
          "execution_count": 33
        }
      ]
    },
    {
      "cell_type": "code",
      "metadata": {
        "id": "Qr6syu3wSEUY",
        "colab_type": "code",
        "colab": {}
      },
      "source": [
        "# Create list of years from 1939 to 2013\n",
        "marvel_year = []\n",
        "\n",
        "for num in range(1939, 2014, 1):\n",
        "  marvel_year.append(num)"
      ],
      "execution_count": 0,
      "outputs": []
    },
    {
      "cell_type": "code",
      "metadata": {
        "id": "b7W5jEAdSERP",
        "colab_type": "code",
        "colab": {
          "base_uri": "https://localhost:8080/",
          "height": 1000
        },
        "outputId": "a99128cd-0ce8-42ff-d41b-1a15007bacda"
      },
      "source": [
        "marvel_year"
      ],
      "execution_count": 35,
      "outputs": [
        {
          "output_type": "execute_result",
          "data": {
            "text/plain": [
              "[1939,\n",
              " 1940,\n",
              " 1941,\n",
              " 1942,\n",
              " 1943,\n",
              " 1944,\n",
              " 1945,\n",
              " 1946,\n",
              " 1947,\n",
              " 1948,\n",
              " 1949,\n",
              " 1950,\n",
              " 1951,\n",
              " 1952,\n",
              " 1953,\n",
              " 1954,\n",
              " 1955,\n",
              " 1956,\n",
              " 1957,\n",
              " 1958,\n",
              " 1959,\n",
              " 1960,\n",
              " 1961,\n",
              " 1962,\n",
              " 1963,\n",
              " 1964,\n",
              " 1965,\n",
              " 1966,\n",
              " 1967,\n",
              " 1968,\n",
              " 1969,\n",
              " 1970,\n",
              " 1971,\n",
              " 1972,\n",
              " 1973,\n",
              " 1974,\n",
              " 1975,\n",
              " 1976,\n",
              " 1977,\n",
              " 1978,\n",
              " 1979,\n",
              " 1980,\n",
              " 1981,\n",
              " 1982,\n",
              " 1983,\n",
              " 1984,\n",
              " 1985,\n",
              " 1986,\n",
              " 1987,\n",
              " 1988,\n",
              " 1989,\n",
              " 1990,\n",
              " 1991,\n",
              " 1992,\n",
              " 1993,\n",
              " 1994,\n",
              " 1995,\n",
              " 1996,\n",
              " 1997,\n",
              " 1998,\n",
              " 1999,\n",
              " 2000,\n",
              " 2001,\n",
              " 2002,\n",
              " 2003,\n",
              " 2004,\n",
              " 2005,\n",
              " 2006,\n",
              " 2007,\n",
              " 2008,\n",
              " 2009,\n",
              " 2010,\n",
              " 2011,\n",
              " 2012,\n",
              " 2013]"
            ]
          },
          "metadata": {
            "tags": []
          },
          "execution_count": 35
        }
      ]
    },
    {
      "cell_type": "code",
      "metadata": {
        "id": "q4aNe_C1SEOT",
        "colab_type": "code",
        "colab": {}
      },
      "source": [
        "# Create lists for percent of male superheroes introduced by year and percent of female superheroes introduced by year\n",
        "marvel_male_percent = []\n",
        "marvel_female_percent = []\n",
        "\n",
        "for i in range(0, len(marvel_male_count)):\n",
        "  marvel_male_percent.append(marvel_male_count[i]/(marvel_male_count[i]+marvel_female_count[i]))\n",
        "  marvel_female_percent.append(marvel_female_count[i]/(marvel_male_count[i]+marvel_female_count[i]))"
      ],
      "execution_count": 0,
      "outputs": []
    },
    {
      "cell_type": "code",
      "metadata": {
        "id": "0XbZpZ5NSELK",
        "colab_type": "code",
        "colab": {
          "base_uri": "https://localhost:8080/",
          "height": 1000
        },
        "outputId": "443e4e76-7437-4841-c41c-1ac6988f6298"
      },
      "source": [
        "marvel_male_percent"
      ],
      "execution_count": 37,
      "outputs": [
        {
          "output_type": "execute_result",
          "data": {
            "text/plain": [
              "[0.8484848484848485,\n",
              " 0.8472222222222222,\n",
              " 0.9230769230769231,\n",
              " 0.9401709401709402,\n",
              " 0.9319371727748691,\n",
              " 0.9097744360902256,\n",
              " 0.8762886597938144,\n",
              " 0.8666666666666667,\n",
              " 0.8169014084507042,\n",
              " 0.8761061946902655,\n",
              " 0.8983050847457628,\n",
              " 0.896551724137931,\n",
              " 0.8269230769230769,\n",
              " 0.8,\n",
              " 0.7222222222222222,\n",
              " 0.75,\n",
              " 0.9047619047619048,\n",
              " 0.9285714285714286,\n",
              " 1.0,\n",
              " 0.5,\n",
              " 1.0,\n",
              " 0.9473684210526315,\n",
              " 0.9342105263157895,\n",
              " 0.8686868686868687,\n",
              " 0.8563218390804598,\n",
              " 0.8622754491017964,\n",
              " 0.8627450980392157,\n",
              " 0.8492063492063492,\n",
              " 0.9107142857142857,\n",
              " 0.8604651162790697,\n",
              " 0.8440366972477065,\n",
              " 0.864,\n",
              " 0.8532110091743119,\n",
              " 0.8045977011494253,\n",
              " 0.7835497835497836,\n",
              " 0.782608695652174,\n",
              " 0.76,\n",
              " 0.8067796610169492,\n",
              " 0.7985074626865671,\n",
              " 0.8202247191011236,\n",
              " 0.7095238095238096,\n",
              " 0.757085020242915,\n",
              " 0.7289719626168224,\n",
              " 0.7450980392156863,\n",
              " 0.6524064171122995,\n",
              " 0.7009803921568627,\n",
              " 0.7125,\n",
              " 0.717948717948718,\n",
              " 0.7413793103448276,\n",
              " 0.7263513513513513,\n",
              " 0.7694805194805194,\n",
              " 0.7253731343283583,\n",
              " 0.7160493827160493,\n",
              " 0.7293577981651376,\n",
              " 0.7623574144486692,\n",
              " 0.7462039045553145,\n",
              " 0.726643598615917,\n",
              " 0.6552901023890785,\n",
              " 0.6807017543859649,\n",
              " 0.7142857142857143,\n",
              " 0.6712328767123288,\n",
              " 0.7175324675324676,\n",
              " 0.669683257918552,\n",
              " 0.7157190635451505,\n",
              " 0.6692913385826772,\n",
              " 0.6086956521739131,\n",
              " 0.653250773993808,\n",
              " 0.7115384615384616,\n",
              " 0.718213058419244,\n",
              " 0.7072463768115942,\n",
              " 0.7007042253521126,\n",
              " 0.6451612903225806,\n",
              " 0.7035928143712575,\n",
              " 0.7142857142857143,\n",
              " 0.6423841059602649]"
            ]
          },
          "metadata": {
            "tags": []
          },
          "execution_count": 37
        }
      ]
    },
    {
      "cell_type": "code",
      "metadata": {
        "id": "lkgmoOhkSEHq",
        "colab_type": "code",
        "colab": {
          "base_uri": "https://localhost:8080/",
          "height": 1000
        },
        "outputId": "bac0fc72-6ac9-4467-af0a-f44357e14074"
      },
      "source": [
        "marvel_female_percent"
      ],
      "execution_count": 38,
      "outputs": [
        {
          "output_type": "execute_result",
          "data": {
            "text/plain": [
              "[0.15151515151515152,\n",
              " 0.1527777777777778,\n",
              " 0.07692307692307693,\n",
              " 0.05982905982905983,\n",
              " 0.06806282722513089,\n",
              " 0.09022556390977443,\n",
              " 0.12371134020618557,\n",
              " 0.13333333333333333,\n",
              " 0.18309859154929578,\n",
              " 0.12389380530973451,\n",
              " 0.1016949152542373,\n",
              " 0.10344827586206896,\n",
              " 0.17307692307692307,\n",
              " 0.2,\n",
              " 0.2777777777777778,\n",
              " 0.25,\n",
              " 0.09523809523809523,\n",
              " 0.07142857142857142,\n",
              " 0.0,\n",
              " 0.5,\n",
              " 0.0,\n",
              " 0.05263157894736842,\n",
              " 0.06578947368421052,\n",
              " 0.13131313131313133,\n",
              " 0.14367816091954022,\n",
              " 0.1377245508982036,\n",
              " 0.13725490196078433,\n",
              " 0.15079365079365079,\n",
              " 0.08928571428571429,\n",
              " 0.13953488372093023,\n",
              " 0.1559633027522936,\n",
              " 0.136,\n",
              " 0.14678899082568808,\n",
              " 0.19540229885057472,\n",
              " 0.21645021645021645,\n",
              " 0.21739130434782608,\n",
              " 0.24,\n",
              " 0.19322033898305085,\n",
              " 0.20149253731343283,\n",
              " 0.1797752808988764,\n",
              " 0.2904761904761905,\n",
              " 0.242914979757085,\n",
              " 0.27102803738317754,\n",
              " 0.2549019607843137,\n",
              " 0.34759358288770054,\n",
              " 0.29901960784313725,\n",
              " 0.2875,\n",
              " 0.28205128205128205,\n",
              " 0.25862068965517243,\n",
              " 0.27364864864864863,\n",
              " 0.2305194805194805,\n",
              " 0.2746268656716418,\n",
              " 0.2839506172839506,\n",
              " 0.2706422018348624,\n",
              " 0.2376425855513308,\n",
              " 0.25379609544468545,\n",
              " 0.27335640138408307,\n",
              " 0.3447098976109215,\n",
              " 0.3192982456140351,\n",
              " 0.2857142857142857,\n",
              " 0.3287671232876712,\n",
              " 0.2824675324675325,\n",
              " 0.33031674208144796,\n",
              " 0.2842809364548495,\n",
              " 0.33070866141732286,\n",
              " 0.391304347826087,\n",
              " 0.34674922600619196,\n",
              " 0.28846153846153844,\n",
              " 0.281786941580756,\n",
              " 0.2927536231884058,\n",
              " 0.2992957746478873,\n",
              " 0.3548387096774194,\n",
              " 0.2964071856287425,\n",
              " 0.2857142857142857,\n",
              " 0.3576158940397351]"
            ]
          },
          "metadata": {
            "tags": []
          },
          "execution_count": 38
        }
      ]
    },
    {
      "cell_type": "code",
      "metadata": {
        "id": "YncA7vxzSEDQ",
        "colab_type": "code",
        "outputId": "8d09eb0a-edf3-420d-fea1-9c7ddba2b23f",
        "colab": {
          "base_uri": "https://localhost:8080/",
          "height": 105
        }
      },
      "source": [
        "print(len(marvel_male_count))\n",
        "print(len(marvel_female_count))\n",
        "print(len(marvel_male_percent))\n",
        "print(len(marvel_female_percent))\n",
        "print(len(marvel_year))"
      ],
      "execution_count": 39,
      "outputs": [
        {
          "output_type": "stream",
          "text": [
            "75\n",
            "75\n",
            "75\n",
            "75\n",
            "75\n"
          ],
          "name": "stdout"
        }
      ]
    },
    {
      "cell_type": "code",
      "metadata": {
        "id": "Z8Br2ypxSD_5",
        "colab_type": "code",
        "colab": {}
      },
      "source": [
        "# Create dictionary tying our lists to what we will want the column names to be\n",
        "marvel_data = {'male-count':marvel_male_count, 'female-count':marvel_female_count, \n",
        "        'male-percent':marvel_male_percent, 'female-percent':marvel_female_percent, 'year':marvel_year}"
      ],
      "execution_count": 0,
      "outputs": []
    },
    {
      "cell_type": "code",
      "metadata": {
        "id": "wwRRYK79SD8k",
        "colab_type": "code",
        "outputId": "b230db4e-37d2-469d-d2ba-688c7916c5de",
        "colab": {
          "base_uri": "https://localhost:8080/",
          "height": 197
        }
      },
      "source": [
        "# Now create a dataframe using our dictionary\n",
        "marvel_final = pd.DataFrame(marvel_data)\n",
        "marvel_final.head()"
      ],
      "execution_count": 41,
      "outputs": [
        {
          "output_type": "execute_result",
          "data": {
            "text/html": [
              "<div>\n",
              "<style scoped>\n",
              "    .dataframe tbody tr th:only-of-type {\n",
              "        vertical-align: middle;\n",
              "    }\n",
              "\n",
              "    .dataframe tbody tr th {\n",
              "        vertical-align: top;\n",
              "    }\n",
              "\n",
              "    .dataframe thead th {\n",
              "        text-align: right;\n",
              "    }\n",
              "</style>\n",
              "<table border=\"1\" class=\"dataframe\">\n",
              "  <thead>\n",
              "    <tr style=\"text-align: right;\">\n",
              "      <th></th>\n",
              "      <th>male-count</th>\n",
              "      <th>female-count</th>\n",
              "      <th>male-percent</th>\n",
              "      <th>female-percent</th>\n",
              "      <th>year</th>\n",
              "    </tr>\n",
              "  </thead>\n",
              "  <tbody>\n",
              "    <tr>\n",
              "      <th>0</th>\n",
              "      <td>56</td>\n",
              "      <td>10</td>\n",
              "      <td>0.848485</td>\n",
              "      <td>0.151515</td>\n",
              "      <td>1939</td>\n",
              "    </tr>\n",
              "    <tr>\n",
              "      <th>1</th>\n",
              "      <td>183</td>\n",
              "      <td>33</td>\n",
              "      <td>0.847222</td>\n",
              "      <td>0.152778</td>\n",
              "      <td>1940</td>\n",
              "    </tr>\n",
              "    <tr>\n",
              "      <th>2</th>\n",
              "      <td>180</td>\n",
              "      <td>15</td>\n",
              "      <td>0.923077</td>\n",
              "      <td>0.076923</td>\n",
              "      <td>1941</td>\n",
              "    </tr>\n",
              "    <tr>\n",
              "      <th>3</th>\n",
              "      <td>220</td>\n",
              "      <td>14</td>\n",
              "      <td>0.940171</td>\n",
              "      <td>0.059829</td>\n",
              "      <td>1942</td>\n",
              "    </tr>\n",
              "    <tr>\n",
              "      <th>4</th>\n",
              "      <td>178</td>\n",
              "      <td>13</td>\n",
              "      <td>0.931937</td>\n",
              "      <td>0.068063</td>\n",
              "      <td>1943</td>\n",
              "    </tr>\n",
              "  </tbody>\n",
              "</table>\n",
              "</div>"
            ],
            "text/plain": [
              "   male-count  female-count  male-percent  female-percent  year\n",
              "0          56            10      0.848485        0.151515  1939\n",
              "1         183            33      0.847222        0.152778  1940\n",
              "2         180            15      0.923077        0.076923  1941\n",
              "3         220            14      0.940171        0.059829  1942\n",
              "4         178            13      0.931937        0.068063  1943"
            ]
          },
          "metadata": {
            "tags": []
          },
          "execution_count": 41
        }
      ]
    },
    {
      "cell_type": "code",
      "metadata": {
        "id": "myPFef-2SD5A",
        "colab_type": "code",
        "outputId": "1f2930c9-b923-4fc1-cea4-12b5253860d4",
        "colab": {
          "base_uri": "https://localhost:8080/",
          "height": 197
        }
      },
      "source": [
        "dc_final.head()"
      ],
      "execution_count": 42,
      "outputs": [
        {
          "output_type": "execute_result",
          "data": {
            "text/html": [
              "<div>\n",
              "<style scoped>\n",
              "    .dataframe tbody tr th:only-of-type {\n",
              "        vertical-align: middle;\n",
              "    }\n",
              "\n",
              "    .dataframe tbody tr th {\n",
              "        vertical-align: top;\n",
              "    }\n",
              "\n",
              "    .dataframe thead th {\n",
              "        text-align: right;\n",
              "    }\n",
              "</style>\n",
              "<table border=\"1\" class=\"dataframe\">\n",
              "  <thead>\n",
              "    <tr style=\"text-align: right;\">\n",
              "      <th></th>\n",
              "      <th>male-count</th>\n",
              "      <th>female-count</th>\n",
              "      <th>male-percent</th>\n",
              "      <th>female-percent</th>\n",
              "      <th>year</th>\n",
              "    </tr>\n",
              "  </thead>\n",
              "  <tbody>\n",
              "    <tr>\n",
              "      <th>0</th>\n",
              "      <td>1</td>\n",
              "      <td>0</td>\n",
              "      <td>1.000000</td>\n",
              "      <td>0.000000</td>\n",
              "      <td>1935</td>\n",
              "    </tr>\n",
              "    <tr>\n",
              "      <th>1</th>\n",
              "      <td>7</td>\n",
              "      <td>2</td>\n",
              "      <td>0.777778</td>\n",
              "      <td>0.222222</td>\n",
              "      <td>1936</td>\n",
              "    </tr>\n",
              "    <tr>\n",
              "      <th>2</th>\n",
              "      <td>3</td>\n",
              "      <td>1</td>\n",
              "      <td>0.750000</td>\n",
              "      <td>0.250000</td>\n",
              "      <td>1937</td>\n",
              "    </tr>\n",
              "    <tr>\n",
              "      <th>3</th>\n",
              "      <td>9</td>\n",
              "      <td>1</td>\n",
              "      <td>0.900000</td>\n",
              "      <td>0.100000</td>\n",
              "      <td>1938</td>\n",
              "    </tr>\n",
              "    <tr>\n",
              "      <th>4</th>\n",
              "      <td>13</td>\n",
              "      <td>5</td>\n",
              "      <td>0.722222</td>\n",
              "      <td>0.277778</td>\n",
              "      <td>1939</td>\n",
              "    </tr>\n",
              "  </tbody>\n",
              "</table>\n",
              "</div>"
            ],
            "text/plain": [
              "   male-count  female-count  male-percent  female-percent  year\n",
              "0           1             0      1.000000        0.000000  1935\n",
              "1           7             2      0.777778        0.222222  1936\n",
              "2           3             1      0.750000        0.250000  1937\n",
              "3           9             1      0.900000        0.100000  1938\n",
              "4          13             5      0.722222        0.277778  1939"
            ]
          },
          "metadata": {
            "tags": []
          },
          "execution_count": 42
        }
      ]
    },
    {
      "cell_type": "code",
      "metadata": {
        "id": "Bb40XUCyWXnv",
        "colab_type": "code",
        "colab": {}
      },
      "source": [
        "dc_final['male-percent'] = dc_final['male-percent'] * 100"
      ],
      "execution_count": 0,
      "outputs": []
    },
    {
      "cell_type": "code",
      "metadata": {
        "id": "Lp7qZC0NWu6e",
        "colab_type": "code",
        "colab": {}
      },
      "source": [
        "dc_final['female-percent'] = dc_final['female-percent'] * 100"
      ],
      "execution_count": 0,
      "outputs": []
    },
    {
      "cell_type": "code",
      "metadata": {
        "id": "gkxytEDXW6ql",
        "colab_type": "code",
        "colab": {}
      },
      "source": [
        "marvel_final['male-percent'] = marvel_final['male-percent'] * 100\n",
        "marvel_final['female-percent'] = marvel_final['female-percent'] * 100"
      ],
      "execution_count": 0,
      "outputs": []
    },
    {
      "cell_type": "code",
      "metadata": {
        "id": "7_q5dWROSD1k",
        "colab_type": "code",
        "outputId": "95acfd0d-b547-4fcc-b768-5f1eb1dbad51",
        "colab": {
          "base_uri": "https://localhost:8080/",
          "height": 264
        }
      },
      "source": [
        "# Perfect! Now we can use this data to create our plots\n",
        "plt.subplot(1,1,1)\n",
        "plt.plot()\n",
        "plt.plot(dc_final['year'], dc_final['female-percent'])\n",
        "plt.plot(marvel_final['year'], marvel_final['female-percent'], color='red')\n",
        "plt.show()\n"
      ],
      "execution_count": 46,
      "outputs": [
        {
          "output_type": "display_data",
          "data": {
            "image/png": "[encoded data removed]",
            "text/plain": [
              "<Figure size 432x288 with 1 Axes>"
            ]
          },
          "metadata": {
            "tags": []
          }
        }
      ]
    },
    {
      "cell_type": "code",
      "metadata": {
        "id": "ErmQN1vwSDwu",
        "colab_type": "code",
        "outputId": "45658737-18ac-48a0-9d29-90804c0a6b78",
        "colab": {
          "base_uri": "https://localhost:8080/",
          "height": 331
        }
      },
      "source": [
        "display(example3)"
      ],
      "execution_count": 47,
      "outputs": [
        {
          "output_type": "display_data",
          "data": {
            "text/html": [
              "<img src=\"https://fivethirtyeight.com/wp-content/uploads/2014/10/hickey-feature-comics-3.png?w=1150\" width=\"400\"/>"
            ],
            "text/plain": [
              "<IPython.core.display.Image object>"
            ]
          },
          "metadata": {
            "tags": []
          }
        }
      ]
    },
    {
      "cell_type": "code",
      "metadata": {
        "id": "Y6jI5gt1SDrt",
        "colab_type": "code",
        "outputId": "034f119c-e184-4bb5-cd8b-3c5658d646c2",
        "colab": {
          "base_uri": "https://localhost:8080/",
          "height": 264
        }
      },
      "source": [
        "# It looks like they focused on the data between 1980 and 2013, so let's do that to ours as well\n",
        "plot_data = dc_final[dc_final['year'] >= 1980]\n",
        "marvel_plot_data = marvel_final[marvel_final['year'] >= 1980]\n",
        "\n",
        "plt.subplot(1,1,1)\n",
        "plt.plot()\n",
        "plt.plot(plot_data['year'], plot_data['female-percent'])\n",
        "plt.plot(marvel_plot_data['year'], marvel_plot_data['female-percent'], color='red')\n",
        "plt.show()"
      ],
      "execution_count": 48,
      "outputs": [
        {
          "output_type": "display_data",
          "data": {
            "image/png": "[encoded data removed]",
            "text/plain": [
              "<Figure size 432x288 with 1 Axes>"
            ]
          },
          "metadata": {
            "tags": []
          }
        }
      ]
    },
    {
      "cell_type": "code",
      "metadata": {
        "id": "tmlUSUOsm0wO",
        "colab_type": "code",
        "outputId": "5c80baf4-6d9e-41ad-8b72-8d1a1c6f18f0",
        "colab": {
          "base_uri": "https://localhost:8080/",
          "height": 336
        }
      },
      "source": [
        "plot_data = dc_final[dc_final['year'] >= 1980]\n",
        "marvel_plot_data = marvel_final[marvel_final['year'] >= 1980]\n",
        "\n",
        "fig, ax = plt.subplots(figsize=(6.8, 5))\n",
        "\n",
        "# Figure Background color\n",
        "fig.patch.set(facecolor='whitesmoke')\n",
        "\n",
        "# Set lines\n",
        "ax.plot(plot_data['year'][:-2], plot_data['female-percent'][:-2], color='#3C71AB')\n",
        "ax.plot(marvel_plot_data['year'][:-2], marvel_plot_data['female-percent'][:-2], color='red')\n",
        "\n",
        "# Axes background color\n",
        "ax.set(facecolor='whitesmoke')\n",
        "\n",
        "# Set title and subtitle\n",
        "ax.set_title(\"Comics Aren't Gaining Many Female Characters\", fontweight='bold', loc='left', fontsize=14)\n",
        "ax.text(x=1978, y=57, s='Percentage of new characters who are female', fontsize=13)\n",
        "\n",
        "# Include labels for each line\n",
        "ax.text(x=2000.5, y=45, s='DC', color='#3C71AB')\n",
        "ax.text(x=2000.5, y=25, s='Marvel', color='red')\n",
        "\n",
        "# Fix x and y tick marks and grid\n",
        "ax.set_xticklabels(range(1980, 2020, 10))\n",
        "ax.set_xticks(range(1980, 2020, 10))\n",
        "ax.set_yticklabels(range(0, 60, 10))\n",
        "ax.set_yticks(range(0, 60, 10));\n",
        "ax.grid()\n",
        "\n",
        "# Remove the borders around our graph\n",
        "for spine in ax.spines:\n",
        "  ax.spines[spine].set_visible(False)\n",
        "\n",
        "# Customize ticks\n",
        "ax.set_xticklabels(labels=(\"1980\", \"'90\", \"2000\", \"'10\"))\n",
        "ax.set_yticklabels(labels=('0', '10', '20', '30', '40', '50%'))\n",
        "ax.set_xticks(range(1980, 2011, 10))\n",
        "ax.set_yticks(range(0, 70, 10));"
      ],
      "execution_count": 90,
      "outputs": [
        {
          "output_type": "display_data",
          "data": {
            "image/png": "[encoded data removed]",
            "text/plain": [
              "<Figure size 489.6x360 with 1 Axes>"
            ]
          },
          "metadata": {
            "tags": []
          }
        }
      ]
    },
    {
      "cell_type": "code",
      "metadata": {
        "id": "vUDI4ZcxPjpg",
        "colab_type": "code",
        "colab": {
          "base_uri": "https://localhost:8080/",
          "height": 331
        },
        "outputId": "4e195675-3387-4437-f77c-5da0b55d7b3b"
      },
      "source": [
        "display(example3)"
      ],
      "execution_count": 51,
      "outputs": [
        {
          "output_type": "display_data",
          "data": {
            "text/html": [
              "<img src=\"https://fivethirtyeight.com/wp-content/uploads/2014/10/hickey-feature-comics-3.png?w=1150\" width=\"400\"/>"
            ],
            "text/plain": [
              "<IPython.core.display.Image object>"
            ]
          },
          "metadata": {
            "tags": []
          }
        }
      ]
    },
    {
      "cell_type": "markdown",
      "metadata": {
        "id": "0wSrBzmJyWaV",
        "colab_type": "text"
      },
      "source": [
        "# STRETCH OPTIONS\n",
        "\n",
        "### 1) Reproduce one of the following using the matplotlib or seaborn libraries:\n",
        "\n",
        "- [thanksgiving-2015](https://fivethirtyeight.com/features/heres-what-your-part-of-america-eats-on-thanksgiving/) \n",
        "- [candy-power-ranking](https://fivethirtyeight.com/features/the-ultimate-halloween-candy-power-ranking/) \n",
        "- or another example of your choice!\n",
        "\n",
        "### 2) Make more charts!\n",
        "\n",
        "Choose a chart you want to make, from [Visual Vocabulary - Vega Edition](http://ft.com/vocabulary).\n",
        "\n",
        "Find the chart in an example gallery of a Python data visualization library:\n",
        "- [Seaborn](http://seaborn.pydata.org/examples/index.html)\n",
        "- [Altair](https://altair-viz.github.io/gallery/index.html)\n",
        "- [Matplotlib](https://matplotlib.org/gallery.html)\n",
        "- [Pandas](https://pandas.pydata.org/pandas-docs/stable/visualization.html)\n",
        "\n",
        "Reproduce the chart. [Optionally, try the \"Ben Franklin Method.\"](https://docs.google.com/document/d/1ubOw9B3Hfip27hF2ZFnW3a3z9xAgrUDRReOEo-FHCVs/edit) If you want, experiment and make changes.\n",
        "\n",
        "Take notes. Consider sharing your work with your cohort!"
      ]
    },
    {
      "cell_type": "code",
      "metadata": {
        "id": "dRJkKftiy5BJ",
        "colab_type": "code",
        "colab": {}
      },
      "source": [
        "import seaborn as sns"
      ],
      "execution_count": 0,
      "outputs": []
    },
    {
      "cell_type": "code",
      "metadata": {
        "id": "NhknO95wn-p-",
        "colab_type": "code",
        "colab": {}
      },
      "source": [
        ""
      ],
      "execution_count": 0,
      "outputs": []
    }
  ]
}